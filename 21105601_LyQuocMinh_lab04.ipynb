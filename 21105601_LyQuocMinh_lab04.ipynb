{
  "nbformat": 4,
  "nbformat_minor": 0,
  "metadata": {
    "colab": {
      "provenance": []
    },
    "kernelspec": {
      "name": "python3",
      "display_name": "Python 3"
    },
    "language_info": {
      "name": "python"
    }
  },
  "cells": [
    {
      "cell_type": "code",
      "source": [
        "!pip install chart_studio\n",
        "!pip install subprocess"
      ],
      "metadata": {
        "colab": {
          "base_uri": "https://localhost:8080/"
        },
        "id": "6z5plZypusMe",
        "outputId": "d2cc76e0-b50a-47c4-b82b-94edda7d58ea"
      },
      "execution_count": 10,
      "outputs": [
        {
          "output_type": "stream",
          "name": "stdout",
          "text": [
            "Requirement already satisfied: chart_studio in /usr/local/lib/python3.11/dist-packages (1.1.0)\n",
            "Requirement already satisfied: plotly in /usr/local/lib/python3.11/dist-packages (from chart_studio) (5.24.1)\n",
            "Requirement already satisfied: requests in /usr/local/lib/python3.11/dist-packages (from chart_studio) (2.32.3)\n",
            "Requirement already satisfied: retrying>=1.3.3 in /usr/local/lib/python3.11/dist-packages (from chart_studio) (1.3.4)\n",
            "Requirement already satisfied: six in /usr/local/lib/python3.11/dist-packages (from chart_studio) (1.17.0)\n",
            "Requirement already satisfied: tenacity>=6.2.0 in /usr/local/lib/python3.11/dist-packages (from plotly->chart_studio) (9.0.0)\n",
            "Requirement already satisfied: packaging in /usr/local/lib/python3.11/dist-packages (from plotly->chart_studio) (24.2)\n",
            "Requirement already satisfied: charset-normalizer<4,>=2 in /usr/local/lib/python3.11/dist-packages (from requests->chart_studio) (3.4.1)\n",
            "Requirement already satisfied: idna<4,>=2.5 in /usr/local/lib/python3.11/dist-packages (from requests->chart_studio) (3.10)\n",
            "Requirement already satisfied: urllib3<3,>=1.21.1 in /usr/local/lib/python3.11/dist-packages (from requests->chart_studio) (2.3.0)\n",
            "Requirement already satisfied: certifi>=2017.4.17 in /usr/local/lib/python3.11/dist-packages (from requests->chart_studio) (2025.1.31)\n",
            "\u001b[31mERROR: Could not find a version that satisfies the requirement subprocess (from versions: none)\u001b[0m\u001b[31m\n",
            "\u001b[0m\u001b[31mERROR: No matching distribution found for subprocess\u001b[0m\u001b[31m\n",
            "\u001b[0m"
          ]
        }
      ]
    },
    {
      "cell_type": "code",
      "execution_count": 11,
      "metadata": {
        "colab": {
          "base_uri": "https://localhost:8080/",
          "height": 17
        },
        "id": "13eHIPDmqnmI",
        "outputId": "920f8ac6-47c6-4b42-89f8-280f0788a3ea"
      },
      "outputs": [
        {
          "output_type": "display_data",
          "data": {
            "text/html": [
              "        <script type=\"text/javascript\">\n",
              "        window.PlotlyConfig = {MathJaxConfig: 'local'};\n",
              "        if (window.MathJax && window.MathJax.Hub && window.MathJax.Hub.Config) {window.MathJax.Hub.Config({SVG: {font: \"STIX-Web\"}});}\n",
              "        if (typeof require !== 'undefined') {\n",
              "        require.undef(\"plotly\");\n",
              "        requirejs.config({\n",
              "            paths: {\n",
              "                'plotly': ['https://cdn.plot.ly/plotly-2.35.2.min']\n",
              "            }\n",
              "        });\n",
              "        require(['plotly'], function(Plotly) {\n",
              "            window._Plotly = Plotly;\n",
              "        });\n",
              "        }\n",
              "        </script>\n",
              "        "
            ]
          },
          "metadata": {}
        }
      ],
      "source": [
        "import numpy as np\n",
        "import pandas as pd\n",
        "import matplotlib.pyplot as plt\n",
        "\n",
        "\n",
        "from plotly import tools\n",
        "import chart_studio.plotly as py\n",
        "from plotly.offline import init_notebook_mode, iplot\n",
        "init_notebook_mode(connected=True)\n",
        "import plotly.graph_objs as go\n",
        "import gc\n",
        "\n",
        "import matplotlib.pyplot as plt\n",
        "import seaborn as sns"
      ]
    },
    {
      "cell_type": "code",
      "source": [
        "!wget -O raw_data.csv \"https://raw.githubusercontent.com/minhlq2003/DA_week04/refs/heads/main/Bitcoin%20Historical%20Data.csv\"\n",
        "\n",
        "import pandas as pd\n",
        "import datetime\n",
        "import pytz\n",
        "def dateparse(time_str):\n",
        "    try:\n",
        "        # Nếu là số, chuyển thành datetime từ timestamp\n",
        "        return pytz.utc.localize(datetime.datetime.fromtimestamp(float(time_str)))\n",
        "    except ValueError:\n",
        "        # Nếu là chuỗi ngày tháng, dùng pd.to_datetime\n",
        "        return pd.to_datetime(time_str, errors=\"coerce\")\n",
        "\n",
        "data = pd.read_csv(\"raw_data.csv\", converters={\"Date\": dateparse})\n",
        "\n",
        "data.head()\n"
      ],
      "metadata": {
        "colab": {
          "base_uri": "https://localhost:8080/",
          "height": 397
        },
        "id": "BtkUjJs5sulO",
        "outputId": "7f52d2cc-2cd9-4740-879d-485ef3bb06df"
      },
      "execution_count": 12,
      "outputs": [
        {
          "output_type": "stream",
          "name": "stdout",
          "text": [
            "--2025-03-15 03:03:04--  https://raw.githubusercontent.com/minhlq2003/DA_week04/refs/heads/main/Bitcoin%20Historical%20Data.csv\n",
            "Resolving raw.githubusercontent.com (raw.githubusercontent.com)... 185.199.108.133, 185.199.109.133, 185.199.110.133, ...\n",
            "Connecting to raw.githubusercontent.com (raw.githubusercontent.com)|185.199.108.133|:443... connected.\n",
            "HTTP request sent, awaiting response... 200 OK\n",
            "Length: 241167 (236K) [text/plain]\n",
            "Saving to: ‘raw_data.csv’\n",
            "\n",
            "\rraw_data.csv          0%[                    ]       0  --.-KB/s               \rraw_data.csv        100%[===================>] 235.51K  --.-KB/s    in 0.03s   \n",
            "\n",
            "2025-03-15 03:03:04 (9.11 MB/s) - ‘raw_data.csv’ saved [241167/241167]\n",
            "\n"
          ]
        },
        {
          "output_type": "execute_result",
          "data": {
            "text/plain": [
              "        Date     Price      Open      High       Low     Vol. Change %\n",
              "0 2020-08-02  11,105.8  11,802.6  12,061.1  10,730.7  698.62K   -5.91%\n",
              "1 2020-08-01  11,803.1  11,333.2  11,847.7  11,226.1  611.47K    4.14%\n",
              "2 2020-07-31  11,333.4  11,096.5  11,434.8  10,964.6  530.95K    2.14%\n",
              "3 2020-07-30  11,096.2  11,105.8  11,164.4  10,861.6  501.14K   -0.09%\n",
              "4 2020-07-29  11,105.9  10,908.4  11,336.5  10,771.8  576.83K    1.81%"
            ],
            "text/html": [
              "\n",
              "  <div id=\"df-56ae03a8-ca96-47ee-bfa3-20258304f6a7\" class=\"colab-df-container\">\n",
              "    <div>\n",
              "<style scoped>\n",
              "    .dataframe tbody tr th:only-of-type {\n",
              "        vertical-align: middle;\n",
              "    }\n",
              "\n",
              "    .dataframe tbody tr th {\n",
              "        vertical-align: top;\n",
              "    }\n",
              "\n",
              "    .dataframe thead th {\n",
              "        text-align: right;\n",
              "    }\n",
              "</style>\n",
              "<table border=\"1\" class=\"dataframe\">\n",
              "  <thead>\n",
              "    <tr style=\"text-align: right;\">\n",
              "      <th></th>\n",
              "      <th>Date</th>\n",
              "      <th>Price</th>\n",
              "      <th>Open</th>\n",
              "      <th>High</th>\n",
              "      <th>Low</th>\n",
              "      <th>Vol.</th>\n",
              "      <th>Change %</th>\n",
              "    </tr>\n",
              "  </thead>\n",
              "  <tbody>\n",
              "    <tr>\n",
              "      <th>0</th>\n",
              "      <td>2020-08-02</td>\n",
              "      <td>11,105.8</td>\n",
              "      <td>11,802.6</td>\n",
              "      <td>12,061.1</td>\n",
              "      <td>10,730.7</td>\n",
              "      <td>698.62K</td>\n",
              "      <td>-5.91%</td>\n",
              "    </tr>\n",
              "    <tr>\n",
              "      <th>1</th>\n",
              "      <td>2020-08-01</td>\n",
              "      <td>11,803.1</td>\n",
              "      <td>11,333.2</td>\n",
              "      <td>11,847.7</td>\n",
              "      <td>11,226.1</td>\n",
              "      <td>611.47K</td>\n",
              "      <td>4.14%</td>\n",
              "    </tr>\n",
              "    <tr>\n",
              "      <th>2</th>\n",
              "      <td>2020-07-31</td>\n",
              "      <td>11,333.4</td>\n",
              "      <td>11,096.5</td>\n",
              "      <td>11,434.8</td>\n",
              "      <td>10,964.6</td>\n",
              "      <td>530.95K</td>\n",
              "      <td>2.14%</td>\n",
              "    </tr>\n",
              "    <tr>\n",
              "      <th>3</th>\n",
              "      <td>2020-07-30</td>\n",
              "      <td>11,096.2</td>\n",
              "      <td>11,105.8</td>\n",
              "      <td>11,164.4</td>\n",
              "      <td>10,861.6</td>\n",
              "      <td>501.14K</td>\n",
              "      <td>-0.09%</td>\n",
              "    </tr>\n",
              "    <tr>\n",
              "      <th>4</th>\n",
              "      <td>2020-07-29</td>\n",
              "      <td>11,105.9</td>\n",
              "      <td>10,908.4</td>\n",
              "      <td>11,336.5</td>\n",
              "      <td>10,771.8</td>\n",
              "      <td>576.83K</td>\n",
              "      <td>1.81%</td>\n",
              "    </tr>\n",
              "  </tbody>\n",
              "</table>\n",
              "</div>\n",
              "    <div class=\"colab-df-buttons\">\n",
              "\n",
              "  <div class=\"colab-df-container\">\n",
              "    <button class=\"colab-df-convert\" onclick=\"convertToInteractive('df-56ae03a8-ca96-47ee-bfa3-20258304f6a7')\"\n",
              "            title=\"Convert this dataframe to an interactive table.\"\n",
              "            style=\"display:none;\">\n",
              "\n",
              "  <svg xmlns=\"http://www.w3.org/2000/svg\" height=\"24px\" viewBox=\"0 -960 960 960\">\n",
              "    <path d=\"M120-120v-720h720v720H120Zm60-500h600v-160H180v160Zm220 220h160v-160H400v160Zm0 220h160v-160H400v160ZM180-400h160v-160H180v160Zm440 0h160v-160H620v160ZM180-180h160v-160H180v160Zm440 0h160v-160H620v160Z\"/>\n",
              "  </svg>\n",
              "    </button>\n",
              "\n",
              "  <style>\n",
              "    .colab-df-container {\n",
              "      display:flex;\n",
              "      gap: 12px;\n",
              "    }\n",
              "\n",
              "    .colab-df-convert {\n",
              "      background-color: #E8F0FE;\n",
              "      border: none;\n",
              "      border-radius: 50%;\n",
              "      cursor: pointer;\n",
              "      display: none;\n",
              "      fill: #1967D2;\n",
              "      height: 32px;\n",
              "      padding: 0 0 0 0;\n",
              "      width: 32px;\n",
              "    }\n",
              "\n",
              "    .colab-df-convert:hover {\n",
              "      background-color: #E2EBFA;\n",
              "      box-shadow: 0px 1px 2px rgba(60, 64, 67, 0.3), 0px 1px 3px 1px rgba(60, 64, 67, 0.15);\n",
              "      fill: #174EA6;\n",
              "    }\n",
              "\n",
              "    .colab-df-buttons div {\n",
              "      margin-bottom: 4px;\n",
              "    }\n",
              "\n",
              "    [theme=dark] .colab-df-convert {\n",
              "      background-color: #3B4455;\n",
              "      fill: #D2E3FC;\n",
              "    }\n",
              "\n",
              "    [theme=dark] .colab-df-convert:hover {\n",
              "      background-color: #434B5C;\n",
              "      box-shadow: 0px 1px 3px 1px rgba(0, 0, 0, 0.15);\n",
              "      filter: drop-shadow(0px 1px 2px rgba(0, 0, 0, 0.3));\n",
              "      fill: #FFFFFF;\n",
              "    }\n",
              "  </style>\n",
              "\n",
              "    <script>\n",
              "      const buttonEl =\n",
              "        document.querySelector('#df-56ae03a8-ca96-47ee-bfa3-20258304f6a7 button.colab-df-convert');\n",
              "      buttonEl.style.display =\n",
              "        google.colab.kernel.accessAllowed ? 'block' : 'none';\n",
              "\n",
              "      async function convertToInteractive(key) {\n",
              "        const element = document.querySelector('#df-56ae03a8-ca96-47ee-bfa3-20258304f6a7');\n",
              "        const dataTable =\n",
              "          await google.colab.kernel.invokeFunction('convertToInteractive',\n",
              "                                                    [key], {});\n",
              "        if (!dataTable) return;\n",
              "\n",
              "        const docLinkHtml = 'Like what you see? Visit the ' +\n",
              "          '<a target=\"_blank\" href=https://colab.research.google.com/notebooks/data_table.ipynb>data table notebook</a>'\n",
              "          + ' to learn more about interactive tables.';\n",
              "        element.innerHTML = '';\n",
              "        dataTable['output_type'] = 'display_data';\n",
              "        await google.colab.output.renderOutput(dataTable, element);\n",
              "        const docLink = document.createElement('div');\n",
              "        docLink.innerHTML = docLinkHtml;\n",
              "        element.appendChild(docLink);\n",
              "      }\n",
              "    </script>\n",
              "  </div>\n",
              "\n",
              "\n",
              "<div id=\"df-6d9fa687-2e78-41be-821b-8c39948a5c66\">\n",
              "  <button class=\"colab-df-quickchart\" onclick=\"quickchart('df-6d9fa687-2e78-41be-821b-8c39948a5c66')\"\n",
              "            title=\"Suggest charts\"\n",
              "            style=\"display:none;\">\n",
              "\n",
              "<svg xmlns=\"http://www.w3.org/2000/svg\" height=\"24px\"viewBox=\"0 0 24 24\"\n",
              "     width=\"24px\">\n",
              "    <g>\n",
              "        <path d=\"M19 3H5c-1.1 0-2 .9-2 2v14c0 1.1.9 2 2 2h14c1.1 0 2-.9 2-2V5c0-1.1-.9-2-2-2zM9 17H7v-7h2v7zm4 0h-2V7h2v10zm4 0h-2v-4h2v4z\"/>\n",
              "    </g>\n",
              "</svg>\n",
              "  </button>\n",
              "\n",
              "<style>\n",
              "  .colab-df-quickchart {\n",
              "      --bg-color: #E8F0FE;\n",
              "      --fill-color: #1967D2;\n",
              "      --hover-bg-color: #E2EBFA;\n",
              "      --hover-fill-color: #174EA6;\n",
              "      --disabled-fill-color: #AAA;\n",
              "      --disabled-bg-color: #DDD;\n",
              "  }\n",
              "\n",
              "  [theme=dark] .colab-df-quickchart {\n",
              "      --bg-color: #3B4455;\n",
              "      --fill-color: #D2E3FC;\n",
              "      --hover-bg-color: #434B5C;\n",
              "      --hover-fill-color: #FFFFFF;\n",
              "      --disabled-bg-color: #3B4455;\n",
              "      --disabled-fill-color: #666;\n",
              "  }\n",
              "\n",
              "  .colab-df-quickchart {\n",
              "    background-color: var(--bg-color);\n",
              "    border: none;\n",
              "    border-radius: 50%;\n",
              "    cursor: pointer;\n",
              "    display: none;\n",
              "    fill: var(--fill-color);\n",
              "    height: 32px;\n",
              "    padding: 0;\n",
              "    width: 32px;\n",
              "  }\n",
              "\n",
              "  .colab-df-quickchart:hover {\n",
              "    background-color: var(--hover-bg-color);\n",
              "    box-shadow: 0 1px 2px rgba(60, 64, 67, 0.3), 0 1px 3px 1px rgba(60, 64, 67, 0.15);\n",
              "    fill: var(--button-hover-fill-color);\n",
              "  }\n",
              "\n",
              "  .colab-df-quickchart-complete:disabled,\n",
              "  .colab-df-quickchart-complete:disabled:hover {\n",
              "    background-color: var(--disabled-bg-color);\n",
              "    fill: var(--disabled-fill-color);\n",
              "    box-shadow: none;\n",
              "  }\n",
              "\n",
              "  .colab-df-spinner {\n",
              "    border: 2px solid var(--fill-color);\n",
              "    border-color: transparent;\n",
              "    border-bottom-color: var(--fill-color);\n",
              "    animation:\n",
              "      spin 1s steps(1) infinite;\n",
              "  }\n",
              "\n",
              "  @keyframes spin {\n",
              "    0% {\n",
              "      border-color: transparent;\n",
              "      border-bottom-color: var(--fill-color);\n",
              "      border-left-color: var(--fill-color);\n",
              "    }\n",
              "    20% {\n",
              "      border-color: transparent;\n",
              "      border-left-color: var(--fill-color);\n",
              "      border-top-color: var(--fill-color);\n",
              "    }\n",
              "    30% {\n",
              "      border-color: transparent;\n",
              "      border-left-color: var(--fill-color);\n",
              "      border-top-color: var(--fill-color);\n",
              "      border-right-color: var(--fill-color);\n",
              "    }\n",
              "    40% {\n",
              "      border-color: transparent;\n",
              "      border-right-color: var(--fill-color);\n",
              "      border-top-color: var(--fill-color);\n",
              "    }\n",
              "    60% {\n",
              "      border-color: transparent;\n",
              "      border-right-color: var(--fill-color);\n",
              "    }\n",
              "    80% {\n",
              "      border-color: transparent;\n",
              "      border-right-color: var(--fill-color);\n",
              "      border-bottom-color: var(--fill-color);\n",
              "    }\n",
              "    90% {\n",
              "      border-color: transparent;\n",
              "      border-bottom-color: var(--fill-color);\n",
              "    }\n",
              "  }\n",
              "</style>\n",
              "\n",
              "  <script>\n",
              "    async function quickchart(key) {\n",
              "      const quickchartButtonEl =\n",
              "        document.querySelector('#' + key + ' button');\n",
              "      quickchartButtonEl.disabled = true;  // To prevent multiple clicks.\n",
              "      quickchartButtonEl.classList.add('colab-df-spinner');\n",
              "      try {\n",
              "        const charts = await google.colab.kernel.invokeFunction(\n",
              "            'suggestCharts', [key], {});\n",
              "      } catch (error) {\n",
              "        console.error('Error during call to suggestCharts:', error);\n",
              "      }\n",
              "      quickchartButtonEl.classList.remove('colab-df-spinner');\n",
              "      quickchartButtonEl.classList.add('colab-df-quickchart-complete');\n",
              "    }\n",
              "    (() => {\n",
              "      let quickchartButtonEl =\n",
              "        document.querySelector('#df-6d9fa687-2e78-41be-821b-8c39948a5c66 button');\n",
              "      quickchartButtonEl.style.display =\n",
              "        google.colab.kernel.accessAllowed ? 'block' : 'none';\n",
              "    })();\n",
              "  </script>\n",
              "</div>\n",
              "\n",
              "    </div>\n",
              "  </div>\n"
            ],
            "application/vnd.google.colaboratory.intrinsic+json": {
              "type": "dataframe",
              "variable_name": "data",
              "summary": "{\n  \"name\": \"data\",\n  \"rows\": 3669,\n  \"fields\": [\n    {\n      \"column\": \"Date\",\n      \"properties\": {\n        \"dtype\": \"date\",\n        \"min\": \"2010-07-18 00:00:00\",\n        \"max\": \"2020-08-02 00:00:00\",\n        \"num_unique_values\": 3669,\n        \"samples\": [\n          \"2020-02-05 00:00:00\",\n          \"2013-04-02 00:00:00\",\n          \"2012-01-04 00:00:00\"\n        ],\n        \"semantic_type\": \"\",\n        \"description\": \"\"\n      }\n    },\n    {\n      \"column\": \"Price\",\n      \"properties\": {\n        \"dtype\": \"string\",\n        \"num_unique_values\": 2718,\n        \"samples\": [\n          \"567.7\",\n          \"7,994.6\",\n          \"595.6\"\n        ],\n        \"semantic_type\": \"\",\n        \"description\": \"\"\n      }\n    },\n    {\n      \"column\": \"Open\",\n      \"properties\": {\n        \"dtype\": \"string\",\n        \"num_unique_values\": 2712,\n        \"samples\": [\n          \"3,865.6\",\n          \"445.3\",\n          \"238.8\"\n        ],\n        \"semantic_type\": \"\",\n        \"description\": \"\"\n      }\n    },\n    {\n      \"column\": \"High\",\n      \"properties\": {\n        \"dtype\": \"string\",\n        \"num_unique_values\": 2708,\n        \"samples\": [\n          \"3,930.7\",\n          \"7,924.0\",\n          \"235.7\"\n        ],\n        \"semantic_type\": \"\",\n        \"description\": \"\"\n      }\n    },\n    {\n      \"column\": \"Low\",\n      \"properties\": {\n        \"dtype\": \"string\",\n        \"num_unique_values\": 2712,\n        \"samples\": [\n          \"3,847.4\",\n          \"459.2\",\n          \"256.1\"\n        ],\n        \"semantic_type\": \"\",\n        \"description\": \"\"\n      }\n    },\n    {\n      \"column\": \"Vol.\",\n      \"properties\": {\n        \"dtype\": \"string\",\n        \"num_unique_values\": 3275,\n        \"samples\": [\n          \"8.90K\",\n          \"54.67K\",\n          \"22.80K\"\n        ],\n        \"semantic_type\": \"\",\n        \"description\": \"\"\n      }\n    },\n    {\n      \"column\": \"Change %\",\n      \"properties\": {\n        \"dtype\": \"category\",\n        \"num_unique_values\": 1391,\n        \"samples\": [\n          \"-3.60%\",\n          \"4.54%\",\n          \"-12.71%\"\n        ],\n        \"semantic_type\": \"\",\n        \"description\": \"\"\n      }\n    }\n  ]\n}"
            }
          },
          "metadata": {},
          "execution_count": 12
        }
      ]
    },
    {
      "cell_type": "code",
      "source": [
        "data['Open'].fillna(method='ffill', inplace=True)\n",
        "data['High'].fillna(method='ffill', inplace=True)\n",
        "data['Low'].fillna(method='ffill', inplace=True)\n",
        "\n",
        "data.head()"
      ],
      "metadata": {
        "colab": {
          "base_uri": "https://localhost:8080/",
          "height": 903
        },
        "id": "pvOaO4UzvSaa",
        "outputId": "6a8d8069-7b27-4300-e2d9-8b4b32a4682e"
      },
      "execution_count": 13,
      "outputs": [
        {
          "output_type": "stream",
          "name": "stderr",
          "text": [
            "<ipython-input-13-233a30a30532>:1: FutureWarning:\n",
            "\n",
            "A value is trying to be set on a copy of a DataFrame or Series through chained assignment using an inplace method.\n",
            "The behavior will change in pandas 3.0. This inplace method will never work because the intermediate object on which we are setting values always behaves as a copy.\n",
            "\n",
            "For example, when doing 'df[col].method(value, inplace=True)', try using 'df.method({col: value}, inplace=True)' or df[col] = df[col].method(value) instead, to perform the operation inplace on the original object.\n",
            "\n",
            "\n",
            "\n",
            "<ipython-input-13-233a30a30532>:1: FutureWarning:\n",
            "\n",
            "Series.fillna with 'method' is deprecated and will raise in a future version. Use obj.ffill() or obj.bfill() instead.\n",
            "\n",
            "<ipython-input-13-233a30a30532>:2: FutureWarning:\n",
            "\n",
            "A value is trying to be set on a copy of a DataFrame or Series through chained assignment using an inplace method.\n",
            "The behavior will change in pandas 3.0. This inplace method will never work because the intermediate object on which we are setting values always behaves as a copy.\n",
            "\n",
            "For example, when doing 'df[col].method(value, inplace=True)', try using 'df.method({col: value}, inplace=True)' or df[col] = df[col].method(value) instead, to perform the operation inplace on the original object.\n",
            "\n",
            "\n",
            "\n",
            "<ipython-input-13-233a30a30532>:2: FutureWarning:\n",
            "\n",
            "Series.fillna with 'method' is deprecated and will raise in a future version. Use obj.ffill() or obj.bfill() instead.\n",
            "\n",
            "<ipython-input-13-233a30a30532>:3: FutureWarning:\n",
            "\n",
            "A value is trying to be set on a copy of a DataFrame or Series through chained assignment using an inplace method.\n",
            "The behavior will change in pandas 3.0. This inplace method will never work because the intermediate object on which we are setting values always behaves as a copy.\n",
            "\n",
            "For example, when doing 'df[col].method(value, inplace=True)', try using 'df.method({col: value}, inplace=True)' or df[col] = df[col].method(value) instead, to perform the operation inplace on the original object.\n",
            "\n",
            "\n",
            "\n",
            "<ipython-input-13-233a30a30532>:3: FutureWarning:\n",
            "\n",
            "Series.fillna with 'method' is deprecated and will raise in a future version. Use obj.ffill() or obj.bfill() instead.\n",
            "\n"
          ]
        },
        {
          "output_type": "execute_result",
          "data": {
            "text/plain": [
              "        Date     Price      Open      High       Low     Vol. Change %\n",
              "0 2020-08-02  11,105.8  11,802.6  12,061.1  10,730.7  698.62K   -5.91%\n",
              "1 2020-08-01  11,803.1  11,333.2  11,847.7  11,226.1  611.47K    4.14%\n",
              "2 2020-07-31  11,333.4  11,096.5  11,434.8  10,964.6  530.95K    2.14%\n",
              "3 2020-07-30  11,096.2  11,105.8  11,164.4  10,861.6  501.14K   -0.09%\n",
              "4 2020-07-29  11,105.9  10,908.4  11,336.5  10,771.8  576.83K    1.81%"
            ],
            "text/html": [
              "\n",
              "  <div id=\"df-39065e1f-df54-475a-8a7f-b4c96b30c217\" class=\"colab-df-container\">\n",
              "    <div>\n",
              "<style scoped>\n",
              "    .dataframe tbody tr th:only-of-type {\n",
              "        vertical-align: middle;\n",
              "    }\n",
              "\n",
              "    .dataframe tbody tr th {\n",
              "        vertical-align: top;\n",
              "    }\n",
              "\n",
              "    .dataframe thead th {\n",
              "        text-align: right;\n",
              "    }\n",
              "</style>\n",
              "<table border=\"1\" class=\"dataframe\">\n",
              "  <thead>\n",
              "    <tr style=\"text-align: right;\">\n",
              "      <th></th>\n",
              "      <th>Date</th>\n",
              "      <th>Price</th>\n",
              "      <th>Open</th>\n",
              "      <th>High</th>\n",
              "      <th>Low</th>\n",
              "      <th>Vol.</th>\n",
              "      <th>Change %</th>\n",
              "    </tr>\n",
              "  </thead>\n",
              "  <tbody>\n",
              "    <tr>\n",
              "      <th>0</th>\n",
              "      <td>2020-08-02</td>\n",
              "      <td>11,105.8</td>\n",
              "      <td>11,802.6</td>\n",
              "      <td>12,061.1</td>\n",
              "      <td>10,730.7</td>\n",
              "      <td>698.62K</td>\n",
              "      <td>-5.91%</td>\n",
              "    </tr>\n",
              "    <tr>\n",
              "      <th>1</th>\n",
              "      <td>2020-08-01</td>\n",
              "      <td>11,803.1</td>\n",
              "      <td>11,333.2</td>\n",
              "      <td>11,847.7</td>\n",
              "      <td>11,226.1</td>\n",
              "      <td>611.47K</td>\n",
              "      <td>4.14%</td>\n",
              "    </tr>\n",
              "    <tr>\n",
              "      <th>2</th>\n",
              "      <td>2020-07-31</td>\n",
              "      <td>11,333.4</td>\n",
              "      <td>11,096.5</td>\n",
              "      <td>11,434.8</td>\n",
              "      <td>10,964.6</td>\n",
              "      <td>530.95K</td>\n",
              "      <td>2.14%</td>\n",
              "    </tr>\n",
              "    <tr>\n",
              "      <th>3</th>\n",
              "      <td>2020-07-30</td>\n",
              "      <td>11,096.2</td>\n",
              "      <td>11,105.8</td>\n",
              "      <td>11,164.4</td>\n",
              "      <td>10,861.6</td>\n",
              "      <td>501.14K</td>\n",
              "      <td>-0.09%</td>\n",
              "    </tr>\n",
              "    <tr>\n",
              "      <th>4</th>\n",
              "      <td>2020-07-29</td>\n",
              "      <td>11,105.9</td>\n",
              "      <td>10,908.4</td>\n",
              "      <td>11,336.5</td>\n",
              "      <td>10,771.8</td>\n",
              "      <td>576.83K</td>\n",
              "      <td>1.81%</td>\n",
              "    </tr>\n",
              "  </tbody>\n",
              "</table>\n",
              "</div>\n",
              "    <div class=\"colab-df-buttons\">\n",
              "\n",
              "  <div class=\"colab-df-container\">\n",
              "    <button class=\"colab-df-convert\" onclick=\"convertToInteractive('df-39065e1f-df54-475a-8a7f-b4c96b30c217')\"\n",
              "            title=\"Convert this dataframe to an interactive table.\"\n",
              "            style=\"display:none;\">\n",
              "\n",
              "  <svg xmlns=\"http://www.w3.org/2000/svg\" height=\"24px\" viewBox=\"0 -960 960 960\">\n",
              "    <path d=\"M120-120v-720h720v720H120Zm60-500h600v-160H180v160Zm220 220h160v-160H400v160Zm0 220h160v-160H400v160ZM180-400h160v-160H180v160Zm440 0h160v-160H620v160ZM180-180h160v-160H180v160Zm440 0h160v-160H620v160Z\"/>\n",
              "  </svg>\n",
              "    </button>\n",
              "\n",
              "  <style>\n",
              "    .colab-df-container {\n",
              "      display:flex;\n",
              "      gap: 12px;\n",
              "    }\n",
              "\n",
              "    .colab-df-convert {\n",
              "      background-color: #E8F0FE;\n",
              "      border: none;\n",
              "      border-radius: 50%;\n",
              "      cursor: pointer;\n",
              "      display: none;\n",
              "      fill: #1967D2;\n",
              "      height: 32px;\n",
              "      padding: 0 0 0 0;\n",
              "      width: 32px;\n",
              "    }\n",
              "\n",
              "    .colab-df-convert:hover {\n",
              "      background-color: #E2EBFA;\n",
              "      box-shadow: 0px 1px 2px rgba(60, 64, 67, 0.3), 0px 1px 3px 1px rgba(60, 64, 67, 0.15);\n",
              "      fill: #174EA6;\n",
              "    }\n",
              "\n",
              "    .colab-df-buttons div {\n",
              "      margin-bottom: 4px;\n",
              "    }\n",
              "\n",
              "    [theme=dark] .colab-df-convert {\n",
              "      background-color: #3B4455;\n",
              "      fill: #D2E3FC;\n",
              "    }\n",
              "\n",
              "    [theme=dark] .colab-df-convert:hover {\n",
              "      background-color: #434B5C;\n",
              "      box-shadow: 0px 1px 3px 1px rgba(0, 0, 0, 0.15);\n",
              "      filter: drop-shadow(0px 1px 2px rgba(0, 0, 0, 0.3));\n",
              "      fill: #FFFFFF;\n",
              "    }\n",
              "  </style>\n",
              "\n",
              "    <script>\n",
              "      const buttonEl =\n",
              "        document.querySelector('#df-39065e1f-df54-475a-8a7f-b4c96b30c217 button.colab-df-convert');\n",
              "      buttonEl.style.display =\n",
              "        google.colab.kernel.accessAllowed ? 'block' : 'none';\n",
              "\n",
              "      async function convertToInteractive(key) {\n",
              "        const element = document.querySelector('#df-39065e1f-df54-475a-8a7f-b4c96b30c217');\n",
              "        const dataTable =\n",
              "          await google.colab.kernel.invokeFunction('convertToInteractive',\n",
              "                                                    [key], {});\n",
              "        if (!dataTable) return;\n",
              "\n",
              "        const docLinkHtml = 'Like what you see? Visit the ' +\n",
              "          '<a target=\"_blank\" href=https://colab.research.google.com/notebooks/data_table.ipynb>data table notebook</a>'\n",
              "          + ' to learn more about interactive tables.';\n",
              "        element.innerHTML = '';\n",
              "        dataTable['output_type'] = 'display_data';\n",
              "        await google.colab.output.renderOutput(dataTable, element);\n",
              "        const docLink = document.createElement('div');\n",
              "        docLink.innerHTML = docLinkHtml;\n",
              "        element.appendChild(docLink);\n",
              "      }\n",
              "    </script>\n",
              "  </div>\n",
              "\n",
              "\n",
              "<div id=\"df-07b629df-3c66-4059-9fbd-7528b7ce2fab\">\n",
              "  <button class=\"colab-df-quickchart\" onclick=\"quickchart('df-07b629df-3c66-4059-9fbd-7528b7ce2fab')\"\n",
              "            title=\"Suggest charts\"\n",
              "            style=\"display:none;\">\n",
              "\n",
              "<svg xmlns=\"http://www.w3.org/2000/svg\" height=\"24px\"viewBox=\"0 0 24 24\"\n",
              "     width=\"24px\">\n",
              "    <g>\n",
              "        <path d=\"M19 3H5c-1.1 0-2 .9-2 2v14c0 1.1.9 2 2 2h14c1.1 0 2-.9 2-2V5c0-1.1-.9-2-2-2zM9 17H7v-7h2v7zm4 0h-2V7h2v10zm4 0h-2v-4h2v4z\"/>\n",
              "    </g>\n",
              "</svg>\n",
              "  </button>\n",
              "\n",
              "<style>\n",
              "  .colab-df-quickchart {\n",
              "      --bg-color: #E8F0FE;\n",
              "      --fill-color: #1967D2;\n",
              "      --hover-bg-color: #E2EBFA;\n",
              "      --hover-fill-color: #174EA6;\n",
              "      --disabled-fill-color: #AAA;\n",
              "      --disabled-bg-color: #DDD;\n",
              "  }\n",
              "\n",
              "  [theme=dark] .colab-df-quickchart {\n",
              "      --bg-color: #3B4455;\n",
              "      --fill-color: #D2E3FC;\n",
              "      --hover-bg-color: #434B5C;\n",
              "      --hover-fill-color: #FFFFFF;\n",
              "      --disabled-bg-color: #3B4455;\n",
              "      --disabled-fill-color: #666;\n",
              "  }\n",
              "\n",
              "  .colab-df-quickchart {\n",
              "    background-color: var(--bg-color);\n",
              "    border: none;\n",
              "    border-radius: 50%;\n",
              "    cursor: pointer;\n",
              "    display: none;\n",
              "    fill: var(--fill-color);\n",
              "    height: 32px;\n",
              "    padding: 0;\n",
              "    width: 32px;\n",
              "  }\n",
              "\n",
              "  .colab-df-quickchart:hover {\n",
              "    background-color: var(--hover-bg-color);\n",
              "    box-shadow: 0 1px 2px rgba(60, 64, 67, 0.3), 0 1px 3px 1px rgba(60, 64, 67, 0.15);\n",
              "    fill: var(--button-hover-fill-color);\n",
              "  }\n",
              "\n",
              "  .colab-df-quickchart-complete:disabled,\n",
              "  .colab-df-quickchart-complete:disabled:hover {\n",
              "    background-color: var(--disabled-bg-color);\n",
              "    fill: var(--disabled-fill-color);\n",
              "    box-shadow: none;\n",
              "  }\n",
              "\n",
              "  .colab-df-spinner {\n",
              "    border: 2px solid var(--fill-color);\n",
              "    border-color: transparent;\n",
              "    border-bottom-color: var(--fill-color);\n",
              "    animation:\n",
              "      spin 1s steps(1) infinite;\n",
              "  }\n",
              "\n",
              "  @keyframes spin {\n",
              "    0% {\n",
              "      border-color: transparent;\n",
              "      border-bottom-color: var(--fill-color);\n",
              "      border-left-color: var(--fill-color);\n",
              "    }\n",
              "    20% {\n",
              "      border-color: transparent;\n",
              "      border-left-color: var(--fill-color);\n",
              "      border-top-color: var(--fill-color);\n",
              "    }\n",
              "    30% {\n",
              "      border-color: transparent;\n",
              "      border-left-color: var(--fill-color);\n",
              "      border-top-color: var(--fill-color);\n",
              "      border-right-color: var(--fill-color);\n",
              "    }\n",
              "    40% {\n",
              "      border-color: transparent;\n",
              "      border-right-color: var(--fill-color);\n",
              "      border-top-color: var(--fill-color);\n",
              "    }\n",
              "    60% {\n",
              "      border-color: transparent;\n",
              "      border-right-color: var(--fill-color);\n",
              "    }\n",
              "    80% {\n",
              "      border-color: transparent;\n",
              "      border-right-color: var(--fill-color);\n",
              "      border-bottom-color: var(--fill-color);\n",
              "    }\n",
              "    90% {\n",
              "      border-color: transparent;\n",
              "      border-bottom-color: var(--fill-color);\n",
              "    }\n",
              "  }\n",
              "</style>\n",
              "\n",
              "  <script>\n",
              "    async function quickchart(key) {\n",
              "      const quickchartButtonEl =\n",
              "        document.querySelector('#' + key + ' button');\n",
              "      quickchartButtonEl.disabled = true;  // To prevent multiple clicks.\n",
              "      quickchartButtonEl.classList.add('colab-df-spinner');\n",
              "      try {\n",
              "        const charts = await google.colab.kernel.invokeFunction(\n",
              "            'suggestCharts', [key], {});\n",
              "      } catch (error) {\n",
              "        console.error('Error during call to suggestCharts:', error);\n",
              "      }\n",
              "      quickchartButtonEl.classList.remove('colab-df-spinner');\n",
              "      quickchartButtonEl.classList.add('colab-df-quickchart-complete');\n",
              "    }\n",
              "    (() => {\n",
              "      let quickchartButtonEl =\n",
              "        document.querySelector('#df-07b629df-3c66-4059-9fbd-7528b7ce2fab button');\n",
              "      quickchartButtonEl.style.display =\n",
              "        google.colab.kernel.accessAllowed ? 'block' : 'none';\n",
              "    })();\n",
              "  </script>\n",
              "</div>\n",
              "\n",
              "    </div>\n",
              "  </div>\n"
            ],
            "application/vnd.google.colaboratory.intrinsic+json": {
              "type": "dataframe",
              "variable_name": "data",
              "summary": "{\n  \"name\": \"data\",\n  \"rows\": 3669,\n  \"fields\": [\n    {\n      \"column\": \"Date\",\n      \"properties\": {\n        \"dtype\": \"date\",\n        \"min\": \"2010-07-18 00:00:00\",\n        \"max\": \"2020-08-02 00:00:00\",\n        \"num_unique_values\": 3669,\n        \"samples\": [\n          \"2020-02-05 00:00:00\",\n          \"2013-04-02 00:00:00\",\n          \"2012-01-04 00:00:00\"\n        ],\n        \"semantic_type\": \"\",\n        \"description\": \"\"\n      }\n    },\n    {\n      \"column\": \"Price\",\n      \"properties\": {\n        \"dtype\": \"string\",\n        \"num_unique_values\": 2718,\n        \"samples\": [\n          \"567.7\",\n          \"7,994.6\",\n          \"595.6\"\n        ],\n        \"semantic_type\": \"\",\n        \"description\": \"\"\n      }\n    },\n    {\n      \"column\": \"Open\",\n      \"properties\": {\n        \"dtype\": \"string\",\n        \"num_unique_values\": 2712,\n        \"samples\": [\n          \"3,865.6\",\n          \"445.3\",\n          \"238.8\"\n        ],\n        \"semantic_type\": \"\",\n        \"description\": \"\"\n      }\n    },\n    {\n      \"column\": \"High\",\n      \"properties\": {\n        \"dtype\": \"string\",\n        \"num_unique_values\": 2708,\n        \"samples\": [\n          \"3,930.7\",\n          \"7,924.0\",\n          \"235.7\"\n        ],\n        \"semantic_type\": \"\",\n        \"description\": \"\"\n      }\n    },\n    {\n      \"column\": \"Low\",\n      \"properties\": {\n        \"dtype\": \"string\",\n        \"num_unique_values\": 2712,\n        \"samples\": [\n          \"3,847.4\",\n          \"459.2\",\n          \"256.1\"\n        ],\n        \"semantic_type\": \"\",\n        \"description\": \"\"\n      }\n    },\n    {\n      \"column\": \"Vol.\",\n      \"properties\": {\n        \"dtype\": \"string\",\n        \"num_unique_values\": 3275,\n        \"samples\": [\n          \"8.90K\",\n          \"54.67K\",\n          \"22.80K\"\n        ],\n        \"semantic_type\": \"\",\n        \"description\": \"\"\n      }\n    },\n    {\n      \"column\": \"Change %\",\n      \"properties\": {\n        \"dtype\": \"category\",\n        \"num_unique_values\": 1391,\n        \"samples\": [\n          \"-3.60%\",\n          \"4.54%\",\n          \"-12.71%\"\n        ],\n        \"semantic_type\": \"\",\n        \"description\": \"\"\n      }\n    }\n  ]\n}"
            }
          },
          "metadata": {},
          "execution_count": 13
        }
      ]
    },
    {
      "cell_type": "code",
      "source": [
        "data['Date'] = pd.to_datetime(data['Date']).dt.tz_localize('UTC')\n",
        "\n",
        "start = datetime.datetime(2015, 1, 1, 0, 0, 0, 0, pytz.UTC)\n",
        "end = datetime.datetime(2018, 11, 11, 0, 0, 0, 0, pytz.UTC)\n",
        "\n",
        "weekly_rows = data[(data['Date'] >= start) & (data['Date'] <= end)].groupby([pd.Grouper(key='Date', freq='W-MON')]).first().reset_index()\n",
        "\n",
        "weekly_rows.head()"
      ],
      "metadata": {
        "colab": {
          "base_uri": "https://localhost:8080/",
          "height": 206
        },
        "id": "T7Q8rV8dupkZ",
        "outputId": "9969eaf9-fb14-4e8d-e9c4-788e0fc88a5e"
      },
      "execution_count": 14,
      "outputs": [
        {
          "output_type": "execute_result",
          "data": {
            "text/plain": [
              "                       Date  Price   Open   High    Low     Vol. Change %\n",
              "0 2015-01-05 00:00:00+00:00  274.8  264.7  278.3  262.9   54.99K    3.82%\n",
              "1 2015-01-12 00:00:00+00:00  269.3  264.8  273.1  263.3   25.39K    1.72%\n",
              "2 2015-01-19 00:00:00+00:00  215.9  210.6  219.5  205.5   31.58K    2.49%\n",
              "3 2015-01-26 00:00:00+00:00  269.2  252.1  310.9  251.5  105.71K    6.78%\n",
              "4 2015-02-02 00:00:00+00:00  238.9  225.3  242.5  220.5   39.02K    6.02%"
            ],
            "text/html": [
              "\n",
              "  <div id=\"df-8bc7d923-fde9-4f5f-b487-3b0c856d3cbb\" class=\"colab-df-container\">\n",
              "    <div>\n",
              "<style scoped>\n",
              "    .dataframe tbody tr th:only-of-type {\n",
              "        vertical-align: middle;\n",
              "    }\n",
              "\n",
              "    .dataframe tbody tr th {\n",
              "        vertical-align: top;\n",
              "    }\n",
              "\n",
              "    .dataframe thead th {\n",
              "        text-align: right;\n",
              "    }\n",
              "</style>\n",
              "<table border=\"1\" class=\"dataframe\">\n",
              "  <thead>\n",
              "    <tr style=\"text-align: right;\">\n",
              "      <th></th>\n",
              "      <th>Date</th>\n",
              "      <th>Price</th>\n",
              "      <th>Open</th>\n",
              "      <th>High</th>\n",
              "      <th>Low</th>\n",
              "      <th>Vol.</th>\n",
              "      <th>Change %</th>\n",
              "    </tr>\n",
              "  </thead>\n",
              "  <tbody>\n",
              "    <tr>\n",
              "      <th>0</th>\n",
              "      <td>2015-01-05 00:00:00+00:00</td>\n",
              "      <td>274.8</td>\n",
              "      <td>264.7</td>\n",
              "      <td>278.3</td>\n",
              "      <td>262.9</td>\n",
              "      <td>54.99K</td>\n",
              "      <td>3.82%</td>\n",
              "    </tr>\n",
              "    <tr>\n",
              "      <th>1</th>\n",
              "      <td>2015-01-12 00:00:00+00:00</td>\n",
              "      <td>269.3</td>\n",
              "      <td>264.8</td>\n",
              "      <td>273.1</td>\n",
              "      <td>263.3</td>\n",
              "      <td>25.39K</td>\n",
              "      <td>1.72%</td>\n",
              "    </tr>\n",
              "    <tr>\n",
              "      <th>2</th>\n",
              "      <td>2015-01-19 00:00:00+00:00</td>\n",
              "      <td>215.9</td>\n",
              "      <td>210.6</td>\n",
              "      <td>219.5</td>\n",
              "      <td>205.5</td>\n",
              "      <td>31.58K</td>\n",
              "      <td>2.49%</td>\n",
              "    </tr>\n",
              "    <tr>\n",
              "      <th>3</th>\n",
              "      <td>2015-01-26 00:00:00+00:00</td>\n",
              "      <td>269.2</td>\n",
              "      <td>252.1</td>\n",
              "      <td>310.9</td>\n",
              "      <td>251.5</td>\n",
              "      <td>105.71K</td>\n",
              "      <td>6.78%</td>\n",
              "    </tr>\n",
              "    <tr>\n",
              "      <th>4</th>\n",
              "      <td>2015-02-02 00:00:00+00:00</td>\n",
              "      <td>238.9</td>\n",
              "      <td>225.3</td>\n",
              "      <td>242.5</td>\n",
              "      <td>220.5</td>\n",
              "      <td>39.02K</td>\n",
              "      <td>6.02%</td>\n",
              "    </tr>\n",
              "  </tbody>\n",
              "</table>\n",
              "</div>\n",
              "    <div class=\"colab-df-buttons\">\n",
              "\n",
              "  <div class=\"colab-df-container\">\n",
              "    <button class=\"colab-df-convert\" onclick=\"convertToInteractive('df-8bc7d923-fde9-4f5f-b487-3b0c856d3cbb')\"\n",
              "            title=\"Convert this dataframe to an interactive table.\"\n",
              "            style=\"display:none;\">\n",
              "\n",
              "  <svg xmlns=\"http://www.w3.org/2000/svg\" height=\"24px\" viewBox=\"0 -960 960 960\">\n",
              "    <path d=\"M120-120v-720h720v720H120Zm60-500h600v-160H180v160Zm220 220h160v-160H400v160Zm0 220h160v-160H400v160ZM180-400h160v-160H180v160Zm440 0h160v-160H620v160ZM180-180h160v-160H180v160Zm440 0h160v-160H620v160Z\"/>\n",
              "  </svg>\n",
              "    </button>\n",
              "\n",
              "  <style>\n",
              "    .colab-df-container {\n",
              "      display:flex;\n",
              "      gap: 12px;\n",
              "    }\n",
              "\n",
              "    .colab-df-convert {\n",
              "      background-color: #E8F0FE;\n",
              "      border: none;\n",
              "      border-radius: 50%;\n",
              "      cursor: pointer;\n",
              "      display: none;\n",
              "      fill: #1967D2;\n",
              "      height: 32px;\n",
              "      padding: 0 0 0 0;\n",
              "      width: 32px;\n",
              "    }\n",
              "\n",
              "    .colab-df-convert:hover {\n",
              "      background-color: #E2EBFA;\n",
              "      box-shadow: 0px 1px 2px rgba(60, 64, 67, 0.3), 0px 1px 3px 1px rgba(60, 64, 67, 0.15);\n",
              "      fill: #174EA6;\n",
              "    }\n",
              "\n",
              "    .colab-df-buttons div {\n",
              "      margin-bottom: 4px;\n",
              "    }\n",
              "\n",
              "    [theme=dark] .colab-df-convert {\n",
              "      background-color: #3B4455;\n",
              "      fill: #D2E3FC;\n",
              "    }\n",
              "\n",
              "    [theme=dark] .colab-df-convert:hover {\n",
              "      background-color: #434B5C;\n",
              "      box-shadow: 0px 1px 3px 1px rgba(0, 0, 0, 0.15);\n",
              "      filter: drop-shadow(0px 1px 2px rgba(0, 0, 0, 0.3));\n",
              "      fill: #FFFFFF;\n",
              "    }\n",
              "  </style>\n",
              "\n",
              "    <script>\n",
              "      const buttonEl =\n",
              "        document.querySelector('#df-8bc7d923-fde9-4f5f-b487-3b0c856d3cbb button.colab-df-convert');\n",
              "      buttonEl.style.display =\n",
              "        google.colab.kernel.accessAllowed ? 'block' : 'none';\n",
              "\n",
              "      async function convertToInteractive(key) {\n",
              "        const element = document.querySelector('#df-8bc7d923-fde9-4f5f-b487-3b0c856d3cbb');\n",
              "        const dataTable =\n",
              "          await google.colab.kernel.invokeFunction('convertToInteractive',\n",
              "                                                    [key], {});\n",
              "        if (!dataTable) return;\n",
              "\n",
              "        const docLinkHtml = 'Like what you see? Visit the ' +\n",
              "          '<a target=\"_blank\" href=https://colab.research.google.com/notebooks/data_table.ipynb>data table notebook</a>'\n",
              "          + ' to learn more about interactive tables.';\n",
              "        element.innerHTML = '';\n",
              "        dataTable['output_type'] = 'display_data';\n",
              "        await google.colab.output.renderOutput(dataTable, element);\n",
              "        const docLink = document.createElement('div');\n",
              "        docLink.innerHTML = docLinkHtml;\n",
              "        element.appendChild(docLink);\n",
              "      }\n",
              "    </script>\n",
              "  </div>\n",
              "\n",
              "\n",
              "<div id=\"df-5df1a87e-d28c-48a2-a59e-721acd129b85\">\n",
              "  <button class=\"colab-df-quickchart\" onclick=\"quickchart('df-5df1a87e-d28c-48a2-a59e-721acd129b85')\"\n",
              "            title=\"Suggest charts\"\n",
              "            style=\"display:none;\">\n",
              "\n",
              "<svg xmlns=\"http://www.w3.org/2000/svg\" height=\"24px\"viewBox=\"0 0 24 24\"\n",
              "     width=\"24px\">\n",
              "    <g>\n",
              "        <path d=\"M19 3H5c-1.1 0-2 .9-2 2v14c0 1.1.9 2 2 2h14c1.1 0 2-.9 2-2V5c0-1.1-.9-2-2-2zM9 17H7v-7h2v7zm4 0h-2V7h2v10zm4 0h-2v-4h2v4z\"/>\n",
              "    </g>\n",
              "</svg>\n",
              "  </button>\n",
              "\n",
              "<style>\n",
              "  .colab-df-quickchart {\n",
              "      --bg-color: #E8F0FE;\n",
              "      --fill-color: #1967D2;\n",
              "      --hover-bg-color: #E2EBFA;\n",
              "      --hover-fill-color: #174EA6;\n",
              "      --disabled-fill-color: #AAA;\n",
              "      --disabled-bg-color: #DDD;\n",
              "  }\n",
              "\n",
              "  [theme=dark] .colab-df-quickchart {\n",
              "      --bg-color: #3B4455;\n",
              "      --fill-color: #D2E3FC;\n",
              "      --hover-bg-color: #434B5C;\n",
              "      --hover-fill-color: #FFFFFF;\n",
              "      --disabled-bg-color: #3B4455;\n",
              "      --disabled-fill-color: #666;\n",
              "  }\n",
              "\n",
              "  .colab-df-quickchart {\n",
              "    background-color: var(--bg-color);\n",
              "    border: none;\n",
              "    border-radius: 50%;\n",
              "    cursor: pointer;\n",
              "    display: none;\n",
              "    fill: var(--fill-color);\n",
              "    height: 32px;\n",
              "    padding: 0;\n",
              "    width: 32px;\n",
              "  }\n",
              "\n",
              "  .colab-df-quickchart:hover {\n",
              "    background-color: var(--hover-bg-color);\n",
              "    box-shadow: 0 1px 2px rgba(60, 64, 67, 0.3), 0 1px 3px 1px rgba(60, 64, 67, 0.15);\n",
              "    fill: var(--button-hover-fill-color);\n",
              "  }\n",
              "\n",
              "  .colab-df-quickchart-complete:disabled,\n",
              "  .colab-df-quickchart-complete:disabled:hover {\n",
              "    background-color: var(--disabled-bg-color);\n",
              "    fill: var(--disabled-fill-color);\n",
              "    box-shadow: none;\n",
              "  }\n",
              "\n",
              "  .colab-df-spinner {\n",
              "    border: 2px solid var(--fill-color);\n",
              "    border-color: transparent;\n",
              "    border-bottom-color: var(--fill-color);\n",
              "    animation:\n",
              "      spin 1s steps(1) infinite;\n",
              "  }\n",
              "\n",
              "  @keyframes spin {\n",
              "    0% {\n",
              "      border-color: transparent;\n",
              "      border-bottom-color: var(--fill-color);\n",
              "      border-left-color: var(--fill-color);\n",
              "    }\n",
              "    20% {\n",
              "      border-color: transparent;\n",
              "      border-left-color: var(--fill-color);\n",
              "      border-top-color: var(--fill-color);\n",
              "    }\n",
              "    30% {\n",
              "      border-color: transparent;\n",
              "      border-left-color: var(--fill-color);\n",
              "      border-top-color: var(--fill-color);\n",
              "      border-right-color: var(--fill-color);\n",
              "    }\n",
              "    40% {\n",
              "      border-color: transparent;\n",
              "      border-right-color: var(--fill-color);\n",
              "      border-top-color: var(--fill-color);\n",
              "    }\n",
              "    60% {\n",
              "      border-color: transparent;\n",
              "      border-right-color: var(--fill-color);\n",
              "    }\n",
              "    80% {\n",
              "      border-color: transparent;\n",
              "      border-right-color: var(--fill-color);\n",
              "      border-bottom-color: var(--fill-color);\n",
              "    }\n",
              "    90% {\n",
              "      border-color: transparent;\n",
              "      border-bottom-color: var(--fill-color);\n",
              "    }\n",
              "  }\n",
              "</style>\n",
              "\n",
              "  <script>\n",
              "    async function quickchart(key) {\n",
              "      const quickchartButtonEl =\n",
              "        document.querySelector('#' + key + ' button');\n",
              "      quickchartButtonEl.disabled = true;  // To prevent multiple clicks.\n",
              "      quickchartButtonEl.classList.add('colab-df-spinner');\n",
              "      try {\n",
              "        const charts = await google.colab.kernel.invokeFunction(\n",
              "            'suggestCharts', [key], {});\n",
              "      } catch (error) {\n",
              "        console.error('Error during call to suggestCharts:', error);\n",
              "      }\n",
              "      quickchartButtonEl.classList.remove('colab-df-spinner');\n",
              "      quickchartButtonEl.classList.add('colab-df-quickchart-complete');\n",
              "    }\n",
              "    (() => {\n",
              "      let quickchartButtonEl =\n",
              "        document.querySelector('#df-5df1a87e-d28c-48a2-a59e-721acd129b85 button');\n",
              "      quickchartButtonEl.style.display =\n",
              "        google.colab.kernel.accessAllowed ? 'block' : 'none';\n",
              "    })();\n",
              "  </script>\n",
              "</div>\n",
              "\n",
              "    </div>\n",
              "  </div>\n"
            ],
            "application/vnd.google.colaboratory.intrinsic+json": {
              "type": "dataframe",
              "variable_name": "weekly_rows",
              "summary": "{\n  \"name\": \"weekly_rows\",\n  \"rows\": 202,\n  \"fields\": [\n    {\n      \"column\": \"Date\",\n      \"properties\": {\n        \"dtype\": \"date\",\n        \"min\": \"2015-01-05 00:00:00+00:00\",\n        \"max\": \"2018-11-12 00:00:00+00:00\",\n        \"num_unique_values\": 202,\n        \"samples\": [\n          \"2016-10-31 00:00:00+00:00\",\n          \"2015-04-20 00:00:00+00:00\",\n          \"2015-08-03 00:00:00+00:00\"\n        ],\n        \"semantic_type\": \"\",\n        \"description\": \"\"\n      }\n    },\n    {\n      \"column\": \"Price\",\n      \"properties\": {\n        \"dtype\": \"string\",\n        \"num_unique_values\": 200,\n        \"samples\": [\n          \"704.6\",\n          \"224.2\",\n          \"263.3\"\n        ],\n        \"semantic_type\": \"\",\n        \"description\": \"\"\n      }\n    },\n    {\n      \"column\": \"Open\",\n      \"properties\": {\n        \"dtype\": \"string\",\n        \"num_unique_values\": 200,\n        \"samples\": [\n          \"702.0\",\n          \"223.0\",\n          \"263.9\"\n        ],\n        \"semantic_type\": \"\",\n        \"description\": \"\"\n      }\n    },\n    {\n      \"column\": \"High\",\n      \"properties\": {\n        \"dtype\": \"string\",\n        \"num_unique_values\": 199,\n        \"samples\": [\n          \"575.0\",\n          \"226.7\",\n          \"1,245.6\"\n        ],\n        \"semantic_type\": \"\",\n        \"description\": \"\"\n      }\n    },\n    {\n      \"column\": \"Low\",\n      \"properties\": {\n        \"dtype\": \"string\",\n        \"num_unique_values\": 202,\n        \"samples\": [\n          \"682.2\",\n          \"221.6\",\n          \"278.9\"\n        ],\n        \"semantic_type\": \"\",\n        \"description\": \"\"\n      }\n    },\n    {\n      \"column\": \"Vol.\",\n      \"properties\": {\n        \"dtype\": \"string\",\n        \"num_unique_values\": 201,\n        \"samples\": [\n          \"38.05K\",\n          \"44.87K\",\n          \"45.89K\"\n        ],\n        \"semantic_type\": \"\",\n        \"description\": \"\"\n      }\n    },\n    {\n      \"column\": \"Change %\",\n      \"properties\": {\n        \"dtype\": \"string\",\n        \"num_unique_values\": 181,\n        \"samples\": [\n          \"-1.55%\",\n          \"11.25%\",\n          \"-0.75%\"\n        ],\n        \"semantic_type\": \"\",\n        \"description\": \"\"\n      }\n    }\n  ]\n}"
            }
          },
          "metadata": {},
          "execution_count": 14
        }
      ]
    },
    {
      "cell_type": "code",
      "source": [
        "weekly_rows['Open'] = weekly_rows['Open'].replace({',': ''}, regex=True).astype(float)\n",
        "weekly_rows['Price'] = weekly_rows['Price'].replace({',': ''}, regex=True).astype(float)\n",
        "\n",
        "trace1 = go.Scatter(\n",
        "    x=weekly_rows['Date'],\n",
        "    y=weekly_rows['Open'],\n",
        "    mode='lines',\n",
        "    name='Open'\n",
        ")\n",
        "\n",
        "\n",
        "trace3 = go.Scatter(\n",
        "    x=weekly_rows['Date'],\n",
        "    y=weekly_rows['Price'],\n",
        "    mode='lines',\n",
        "    name='Weighted Avg'\n",
        ")\n",
        "\n",
        "layout = dict(\n",
        "    title='Historical Bitcoin Prices (2015-2018) with the Slider',\n",
        "    xaxis=dict(\n",
        "        rangeselector=dict(\n",
        "            buttons=list([\n",
        "                dict(count=1,\n",
        "                     label='1m',\n",
        "                     step='month',\n",
        "                     stepmode='backward'),\n",
        "                dict(count=6,\n",
        "                     label='6m',\n",
        "                     step='month',\n",
        "                     stepmode='backward'),\n",
        "                dict(count=12,\n",
        "                     label='1y',\n",
        "                     step='month',\n",
        "                     stepmode='backward'),\n",
        "                dict(count=36,\n",
        "                     label='3y',\n",
        "                     step='month',\n",
        "                     stepmode='backward'),\n",
        "                dict(step='all')\n",
        "            ])\n",
        "        ),\n",
        "        rangeslider=dict(\n",
        "            visible=True\n",
        "        ),\n",
        "        type='date'\n",
        "    )\n",
        ")\n",
        "\n",
        "data = [trace1, trace3]\n",
        "\n",
        "fig = dict(data=data, layout=layout)\n",
        "\n",
        "\n",
        "from plotly.offline import iplot\n",
        "iplot(fig, filename=\"Time Series with Rangeslider\")"
      ],
      "metadata": {
        "colab": {
          "base_uri": "https://localhost:8080/",
          "height": 542
        },
        "id": "Tkb2MHnbvf8N",
        "outputId": "041b911c-bb0e-4c5b-cc00-058558840c7c"
      },
      "execution_count": 15,
      "outputs": [
        {
          "output_type": "display_data",
          "data": {
            "application/vnd.plotly.v1+json": {
              "data": [
                {
                  "mode": "lines",
                  "name": "Open",
                  "x": [
                    "2015-01-05T00:00:00+00:00",
                    "2015-01-12T00:00:00+00:00",
                    "2015-01-19T00:00:00+00:00",
                    "2015-01-26T00:00:00+00:00",
                    "2015-02-02T00:00:00+00:00",
                    "2015-02-09T00:00:00+00:00",
                    "2015-02-16T00:00:00+00:00",
                    "2015-02-23T00:00:00+00:00",
                    "2015-03-02T00:00:00+00:00",
                    "2015-03-09T00:00:00+00:00",
                    "2015-03-16T00:00:00+00:00",
                    "2015-03-23T00:00:00+00:00",
                    "2015-03-30T00:00:00+00:00",
                    "2015-04-06T00:00:00+00:00",
                    "2015-04-13T00:00:00+00:00",
                    "2015-04-20T00:00:00+00:00",
                    "2015-04-27T00:00:00+00:00",
                    "2015-05-04T00:00:00+00:00",
                    "2015-05-11T00:00:00+00:00",
                    "2015-05-18T00:00:00+00:00",
                    "2015-05-25T00:00:00+00:00",
                    "2015-06-01T00:00:00+00:00",
                    "2015-06-08T00:00:00+00:00",
                    "2015-06-15T00:00:00+00:00",
                    "2015-06-22T00:00:00+00:00",
                    "2015-06-29T00:00:00+00:00",
                    "2015-07-06T00:00:00+00:00",
                    "2015-07-13T00:00:00+00:00",
                    "2015-07-20T00:00:00+00:00",
                    "2015-07-27T00:00:00+00:00",
                    "2015-08-03T00:00:00+00:00",
                    "2015-08-10T00:00:00+00:00",
                    "2015-08-17T00:00:00+00:00",
                    "2015-08-24T00:00:00+00:00",
                    "2015-08-31T00:00:00+00:00",
                    "2015-09-07T00:00:00+00:00",
                    "2015-09-14T00:00:00+00:00",
                    "2015-09-21T00:00:00+00:00",
                    "2015-09-28T00:00:00+00:00",
                    "2015-10-05T00:00:00+00:00",
                    "2015-10-12T00:00:00+00:00",
                    "2015-10-19T00:00:00+00:00",
                    "2015-10-26T00:00:00+00:00",
                    "2015-11-02T00:00:00+00:00",
                    "2015-11-09T00:00:00+00:00",
                    "2015-11-16T00:00:00+00:00",
                    "2015-11-23T00:00:00+00:00",
                    "2015-11-30T00:00:00+00:00",
                    "2015-12-07T00:00:00+00:00",
                    "2015-12-14T00:00:00+00:00",
                    "2015-12-21T00:00:00+00:00",
                    "2015-12-28T00:00:00+00:00",
                    "2016-01-04T00:00:00+00:00",
                    "2016-01-11T00:00:00+00:00",
                    "2016-01-18T00:00:00+00:00",
                    "2016-01-25T00:00:00+00:00",
                    "2016-02-01T00:00:00+00:00",
                    "2016-02-08T00:00:00+00:00",
                    "2016-02-15T00:00:00+00:00",
                    "2016-02-22T00:00:00+00:00",
                    "2016-02-29T00:00:00+00:00",
                    "2016-03-07T00:00:00+00:00",
                    "2016-03-14T00:00:00+00:00",
                    "2016-03-21T00:00:00+00:00",
                    "2016-03-28T00:00:00+00:00",
                    "2016-04-04T00:00:00+00:00",
                    "2016-04-11T00:00:00+00:00",
                    "2016-04-18T00:00:00+00:00",
                    "2016-04-25T00:00:00+00:00",
                    "2016-05-02T00:00:00+00:00",
                    "2016-05-09T00:00:00+00:00",
                    "2016-05-16T00:00:00+00:00",
                    "2016-05-23T00:00:00+00:00",
                    "2016-05-30T00:00:00+00:00",
                    "2016-06-06T00:00:00+00:00",
                    "2016-06-13T00:00:00+00:00",
                    "2016-06-20T00:00:00+00:00",
                    "2016-06-27T00:00:00+00:00",
                    "2016-07-04T00:00:00+00:00",
                    "2016-07-11T00:00:00+00:00",
                    "2016-07-18T00:00:00+00:00",
                    "2016-07-25T00:00:00+00:00",
                    "2016-08-01T00:00:00+00:00",
                    "2016-08-08T00:00:00+00:00",
                    "2016-08-15T00:00:00+00:00",
                    "2016-08-22T00:00:00+00:00",
                    "2016-08-29T00:00:00+00:00",
                    "2016-09-05T00:00:00+00:00",
                    "2016-09-12T00:00:00+00:00",
                    "2016-09-19T00:00:00+00:00",
                    "2016-09-26T00:00:00+00:00",
                    "2016-10-03T00:00:00+00:00",
                    "2016-10-10T00:00:00+00:00",
                    "2016-10-17T00:00:00+00:00",
                    "2016-10-24T00:00:00+00:00",
                    "2016-10-31T00:00:00+00:00",
                    "2016-11-07T00:00:00+00:00",
                    "2016-11-14T00:00:00+00:00",
                    "2016-11-21T00:00:00+00:00",
                    "2016-11-28T00:00:00+00:00",
                    "2016-12-05T00:00:00+00:00",
                    "2016-12-12T00:00:00+00:00",
                    "2016-12-19T00:00:00+00:00",
                    "2016-12-26T00:00:00+00:00",
                    "2017-01-02T00:00:00+00:00",
                    "2017-01-09T00:00:00+00:00",
                    "2017-01-16T00:00:00+00:00",
                    "2017-01-23T00:00:00+00:00",
                    "2017-01-30T00:00:00+00:00",
                    "2017-02-06T00:00:00+00:00",
                    "2017-02-13T00:00:00+00:00",
                    "2017-02-20T00:00:00+00:00",
                    "2017-02-27T00:00:00+00:00",
                    "2017-03-06T00:00:00+00:00",
                    "2017-03-13T00:00:00+00:00",
                    "2017-03-20T00:00:00+00:00",
                    "2017-03-27T00:00:00+00:00",
                    "2017-04-03T00:00:00+00:00",
                    "2017-04-10T00:00:00+00:00",
                    "2017-04-17T00:00:00+00:00",
                    "2017-04-24T00:00:00+00:00",
                    "2017-05-01T00:00:00+00:00",
                    "2017-05-08T00:00:00+00:00",
                    "2017-05-15T00:00:00+00:00",
                    "2017-05-22T00:00:00+00:00",
                    "2017-05-29T00:00:00+00:00",
                    "2017-06-05T00:00:00+00:00",
                    "2017-06-12T00:00:00+00:00",
                    "2017-06-19T00:00:00+00:00",
                    "2017-06-26T00:00:00+00:00",
                    "2017-07-03T00:00:00+00:00",
                    "2017-07-10T00:00:00+00:00",
                    "2017-07-17T00:00:00+00:00",
                    "2017-07-24T00:00:00+00:00",
                    "2017-07-31T00:00:00+00:00",
                    "2017-08-07T00:00:00+00:00",
                    "2017-08-14T00:00:00+00:00",
                    "2017-08-21T00:00:00+00:00",
                    "2017-08-28T00:00:00+00:00",
                    "2017-09-04T00:00:00+00:00",
                    "2017-09-11T00:00:00+00:00",
                    "2017-09-18T00:00:00+00:00",
                    "2017-09-25T00:00:00+00:00",
                    "2017-10-02T00:00:00+00:00",
                    "2017-10-09T00:00:00+00:00",
                    "2017-10-16T00:00:00+00:00",
                    "2017-10-23T00:00:00+00:00",
                    "2017-10-30T00:00:00+00:00",
                    "2017-11-06T00:00:00+00:00",
                    "2017-11-13T00:00:00+00:00",
                    "2017-11-20T00:00:00+00:00",
                    "2017-11-27T00:00:00+00:00",
                    "2017-12-04T00:00:00+00:00",
                    "2017-12-11T00:00:00+00:00",
                    "2017-12-18T00:00:00+00:00",
                    "2017-12-25T00:00:00+00:00",
                    "2018-01-01T00:00:00+00:00",
                    "2018-01-08T00:00:00+00:00",
                    "2018-01-15T00:00:00+00:00",
                    "2018-01-22T00:00:00+00:00",
                    "2018-01-29T00:00:00+00:00",
                    "2018-02-05T00:00:00+00:00",
                    "2018-02-12T00:00:00+00:00",
                    "2018-02-19T00:00:00+00:00",
                    "2018-02-26T00:00:00+00:00",
                    "2018-03-05T00:00:00+00:00",
                    "2018-03-12T00:00:00+00:00",
                    "2018-03-19T00:00:00+00:00",
                    "2018-03-26T00:00:00+00:00",
                    "2018-04-02T00:00:00+00:00",
                    "2018-04-09T00:00:00+00:00",
                    "2018-04-16T00:00:00+00:00",
                    "2018-04-23T00:00:00+00:00",
                    "2018-04-30T00:00:00+00:00",
                    "2018-05-07T00:00:00+00:00",
                    "2018-05-14T00:00:00+00:00",
                    "2018-05-21T00:00:00+00:00",
                    "2018-05-28T00:00:00+00:00",
                    "2018-06-04T00:00:00+00:00",
                    "2018-06-11T00:00:00+00:00",
                    "2018-06-18T00:00:00+00:00",
                    "2018-06-25T00:00:00+00:00",
                    "2018-07-02T00:00:00+00:00",
                    "2018-07-09T00:00:00+00:00",
                    "2018-07-16T00:00:00+00:00",
                    "2018-07-23T00:00:00+00:00",
                    "2018-07-30T00:00:00+00:00",
                    "2018-08-06T00:00:00+00:00",
                    "2018-08-13T00:00:00+00:00",
                    "2018-08-20T00:00:00+00:00",
                    "2018-08-27T00:00:00+00:00",
                    "2018-09-03T00:00:00+00:00",
                    "2018-09-10T00:00:00+00:00",
                    "2018-09-17T00:00:00+00:00",
                    "2018-09-24T00:00:00+00:00",
                    "2018-10-01T00:00:00+00:00",
                    "2018-10-08T00:00:00+00:00",
                    "2018-10-15T00:00:00+00:00",
                    "2018-10-22T00:00:00+00:00",
                    "2018-10-29T00:00:00+00:00",
                    "2018-11-05T00:00:00+00:00",
                    "2018-11-12T00:00:00+00:00"
                  ],
                  "y": [
                    264.7,
                    264.8,
                    210.6,
                    252.1,
                    225.3,
                    223.7,
                    233.3,
                    235.7,
                    257.9,
                    274.5,
                    284.9,
                    268.6,
                    242.1,
                    259.6,
                    235.9,
                    223,
                    218.7,
                    240,
                    240,
                    236.3,
                    241,
                    229.8,
                    223.5,
                    233.8,
                    244.1,
                    248.9,
                    270.1,
                    310.4,
                    273.2,
                    291.8,
                    281.4,
                    263.9,
                    257.1,
                    226.8,
                    228.4,
                    239.9,
                    230.2,
                    231.1,
                    232.5,
                    238.3,
                    247.6,
                    261.7,
                    287.9,
                    323,
                    371.6,
                    317.5,
                    322.8,
                    370.8,
                    393.4,
                    434.7,
                    441.8,
                    422.4,
                    430.7,
                    446.2,
                    382.5,
                    402.1,
                    369.8,
                    377.9,
                    405.5,
                    437.9,
                    432.5,
                    406,
                    412.4,
                    411.5,
                    424.6,
                    419.1,
                    420.3,
                    426.3,
                    457.6,
                    452.2,
                    457.9,
                    458.1,
                    439.6,
                    516,
                    574.9,
                    666.5,
                    761,
                    625.4,
                    661.6,
                    647.1,
                    676.3,
                    659.3,
                    621.9,
                    590.8,
                    569.1,
                    580.7,
                    575,
                    609.5,
                    605.6,
                    610.7,
                    601.5,
                    610.7,
                    615.8,
                    640.1,
                    653,
                    697.3,
                    709.9,
                    702,
                    728.5,
                    729.4,
                    766.4,
                    767.9,
                    789,
                    891.1,
                    995.4,
                    900.9,
                    821.2,
                    918.8,
                    914.5,
                    1016.1,
                    996.5,
                    1048.9,
                    1171.6,
                    1271.2,
                    1225.1,
                    1022.6,
                    969.4,
                    1097.4,
                    1204.3,
                    1176.8,
                    1249.1,
                    1351.9,
                    1554.4,
                    1772.6,
                    2044.2,
                    2189,
                    2524.1,
                    2973.4,
                    2539.6,
                    2541.6,
                    2536.5,
                    2511.4,
                    1914.1,
                    2756.6,
                    2766.5,
                    3232,
                    4062.6,
                    4066.6,
                    4345.8,
                    4612.9,
                    4245.9,
                    3689.6,
                    3667.5,
                    4403.1,
                    4611.7,
                    5677.4,
                    5982.9,
                    6147.7,
                    7389.5,
                    5878.1,
                    8042.6,
                    9318.4,
                    11244.2,
                    15060.5,
                    19065.7,
                    13790,
                    13850.5,
                    16228.3,
                    13695.5,
                    11597.5,
                    11794.9,
                    8220.8,
                    8083.6,
                    10396.6,
                    9590.9,
                    11415.7,
                    9535.8,
                    8200.9,
                    8474,
                    6825.4,
                    7035.7,
                    8362.2,
                    8809.3,
                    9415.8,
                    9651.1,
                    8693.4,
                    8529.5,
                    7367.3,
                    7729.3,
                    6775.2,
                    6460.5,
                    6155.1,
                    6349.1,
                    6715.1,
                    6362.8,
                    7412.4,
                    8214.7,
                    7027.8,
                    6313,
                    6474.2,
                    6712.7,
                    7289.8,
                    6238.5,
                    6500.2,
                    6713.3,
                    6635.2,
                    6611,
                    6326.8,
                    6583,
                    6486.1,
                    6478.2,
                    6427.1
                  ],
                  "type": "scatter"
                },
                {
                  "mode": "lines",
                  "name": "Weighted Avg",
                  "x": [
                    "2015-01-05T00:00:00+00:00",
                    "2015-01-12T00:00:00+00:00",
                    "2015-01-19T00:00:00+00:00",
                    "2015-01-26T00:00:00+00:00",
                    "2015-02-02T00:00:00+00:00",
                    "2015-02-09T00:00:00+00:00",
                    "2015-02-16T00:00:00+00:00",
                    "2015-02-23T00:00:00+00:00",
                    "2015-03-02T00:00:00+00:00",
                    "2015-03-09T00:00:00+00:00",
                    "2015-03-16T00:00:00+00:00",
                    "2015-03-23T00:00:00+00:00",
                    "2015-03-30T00:00:00+00:00",
                    "2015-04-06T00:00:00+00:00",
                    "2015-04-13T00:00:00+00:00",
                    "2015-04-20T00:00:00+00:00",
                    "2015-04-27T00:00:00+00:00",
                    "2015-05-04T00:00:00+00:00",
                    "2015-05-11T00:00:00+00:00",
                    "2015-05-18T00:00:00+00:00",
                    "2015-05-25T00:00:00+00:00",
                    "2015-06-01T00:00:00+00:00",
                    "2015-06-08T00:00:00+00:00",
                    "2015-06-15T00:00:00+00:00",
                    "2015-06-22T00:00:00+00:00",
                    "2015-06-29T00:00:00+00:00",
                    "2015-07-06T00:00:00+00:00",
                    "2015-07-13T00:00:00+00:00",
                    "2015-07-20T00:00:00+00:00",
                    "2015-07-27T00:00:00+00:00",
                    "2015-08-03T00:00:00+00:00",
                    "2015-08-10T00:00:00+00:00",
                    "2015-08-17T00:00:00+00:00",
                    "2015-08-24T00:00:00+00:00",
                    "2015-08-31T00:00:00+00:00",
                    "2015-09-07T00:00:00+00:00",
                    "2015-09-14T00:00:00+00:00",
                    "2015-09-21T00:00:00+00:00",
                    "2015-09-28T00:00:00+00:00",
                    "2015-10-05T00:00:00+00:00",
                    "2015-10-12T00:00:00+00:00",
                    "2015-10-19T00:00:00+00:00",
                    "2015-10-26T00:00:00+00:00",
                    "2015-11-02T00:00:00+00:00",
                    "2015-11-09T00:00:00+00:00",
                    "2015-11-16T00:00:00+00:00",
                    "2015-11-23T00:00:00+00:00",
                    "2015-11-30T00:00:00+00:00",
                    "2015-12-07T00:00:00+00:00",
                    "2015-12-14T00:00:00+00:00",
                    "2015-12-21T00:00:00+00:00",
                    "2015-12-28T00:00:00+00:00",
                    "2016-01-04T00:00:00+00:00",
                    "2016-01-11T00:00:00+00:00",
                    "2016-01-18T00:00:00+00:00",
                    "2016-01-25T00:00:00+00:00",
                    "2016-02-01T00:00:00+00:00",
                    "2016-02-08T00:00:00+00:00",
                    "2016-02-15T00:00:00+00:00",
                    "2016-02-22T00:00:00+00:00",
                    "2016-02-29T00:00:00+00:00",
                    "2016-03-07T00:00:00+00:00",
                    "2016-03-14T00:00:00+00:00",
                    "2016-03-21T00:00:00+00:00",
                    "2016-03-28T00:00:00+00:00",
                    "2016-04-04T00:00:00+00:00",
                    "2016-04-11T00:00:00+00:00",
                    "2016-04-18T00:00:00+00:00",
                    "2016-04-25T00:00:00+00:00",
                    "2016-05-02T00:00:00+00:00",
                    "2016-05-09T00:00:00+00:00",
                    "2016-05-16T00:00:00+00:00",
                    "2016-05-23T00:00:00+00:00",
                    "2016-05-30T00:00:00+00:00",
                    "2016-06-06T00:00:00+00:00",
                    "2016-06-13T00:00:00+00:00",
                    "2016-06-20T00:00:00+00:00",
                    "2016-06-27T00:00:00+00:00",
                    "2016-07-04T00:00:00+00:00",
                    "2016-07-11T00:00:00+00:00",
                    "2016-07-18T00:00:00+00:00",
                    "2016-07-25T00:00:00+00:00",
                    "2016-08-01T00:00:00+00:00",
                    "2016-08-08T00:00:00+00:00",
                    "2016-08-15T00:00:00+00:00",
                    "2016-08-22T00:00:00+00:00",
                    "2016-08-29T00:00:00+00:00",
                    "2016-09-05T00:00:00+00:00",
                    "2016-09-12T00:00:00+00:00",
                    "2016-09-19T00:00:00+00:00",
                    "2016-09-26T00:00:00+00:00",
                    "2016-10-03T00:00:00+00:00",
                    "2016-10-10T00:00:00+00:00",
                    "2016-10-17T00:00:00+00:00",
                    "2016-10-24T00:00:00+00:00",
                    "2016-10-31T00:00:00+00:00",
                    "2016-11-07T00:00:00+00:00",
                    "2016-11-14T00:00:00+00:00",
                    "2016-11-21T00:00:00+00:00",
                    "2016-11-28T00:00:00+00:00",
                    "2016-12-05T00:00:00+00:00",
                    "2016-12-12T00:00:00+00:00",
                    "2016-12-19T00:00:00+00:00",
                    "2016-12-26T00:00:00+00:00",
                    "2017-01-02T00:00:00+00:00",
                    "2017-01-09T00:00:00+00:00",
                    "2017-01-16T00:00:00+00:00",
                    "2017-01-23T00:00:00+00:00",
                    "2017-01-30T00:00:00+00:00",
                    "2017-02-06T00:00:00+00:00",
                    "2017-02-13T00:00:00+00:00",
                    "2017-02-20T00:00:00+00:00",
                    "2017-02-27T00:00:00+00:00",
                    "2017-03-06T00:00:00+00:00",
                    "2017-03-13T00:00:00+00:00",
                    "2017-03-20T00:00:00+00:00",
                    "2017-03-27T00:00:00+00:00",
                    "2017-04-03T00:00:00+00:00",
                    "2017-04-10T00:00:00+00:00",
                    "2017-04-17T00:00:00+00:00",
                    "2017-04-24T00:00:00+00:00",
                    "2017-05-01T00:00:00+00:00",
                    "2017-05-08T00:00:00+00:00",
                    "2017-05-15T00:00:00+00:00",
                    "2017-05-22T00:00:00+00:00",
                    "2017-05-29T00:00:00+00:00",
                    "2017-06-05T00:00:00+00:00",
                    "2017-06-12T00:00:00+00:00",
                    "2017-06-19T00:00:00+00:00",
                    "2017-06-26T00:00:00+00:00",
                    "2017-07-03T00:00:00+00:00",
                    "2017-07-10T00:00:00+00:00",
                    "2017-07-17T00:00:00+00:00",
                    "2017-07-24T00:00:00+00:00",
                    "2017-07-31T00:00:00+00:00",
                    "2017-08-07T00:00:00+00:00",
                    "2017-08-14T00:00:00+00:00",
                    "2017-08-21T00:00:00+00:00",
                    "2017-08-28T00:00:00+00:00",
                    "2017-09-04T00:00:00+00:00",
                    "2017-09-11T00:00:00+00:00",
                    "2017-09-18T00:00:00+00:00",
                    "2017-09-25T00:00:00+00:00",
                    "2017-10-02T00:00:00+00:00",
                    "2017-10-09T00:00:00+00:00",
                    "2017-10-16T00:00:00+00:00",
                    "2017-10-23T00:00:00+00:00",
                    "2017-10-30T00:00:00+00:00",
                    "2017-11-06T00:00:00+00:00",
                    "2017-11-13T00:00:00+00:00",
                    "2017-11-20T00:00:00+00:00",
                    "2017-11-27T00:00:00+00:00",
                    "2017-12-04T00:00:00+00:00",
                    "2017-12-11T00:00:00+00:00",
                    "2017-12-18T00:00:00+00:00",
                    "2017-12-25T00:00:00+00:00",
                    "2018-01-01T00:00:00+00:00",
                    "2018-01-08T00:00:00+00:00",
                    "2018-01-15T00:00:00+00:00",
                    "2018-01-22T00:00:00+00:00",
                    "2018-01-29T00:00:00+00:00",
                    "2018-02-05T00:00:00+00:00",
                    "2018-02-12T00:00:00+00:00",
                    "2018-02-19T00:00:00+00:00",
                    "2018-02-26T00:00:00+00:00",
                    "2018-03-05T00:00:00+00:00",
                    "2018-03-12T00:00:00+00:00",
                    "2018-03-19T00:00:00+00:00",
                    "2018-03-26T00:00:00+00:00",
                    "2018-04-02T00:00:00+00:00",
                    "2018-04-09T00:00:00+00:00",
                    "2018-04-16T00:00:00+00:00",
                    "2018-04-23T00:00:00+00:00",
                    "2018-04-30T00:00:00+00:00",
                    "2018-05-07T00:00:00+00:00",
                    "2018-05-14T00:00:00+00:00",
                    "2018-05-21T00:00:00+00:00",
                    "2018-05-28T00:00:00+00:00",
                    "2018-06-04T00:00:00+00:00",
                    "2018-06-11T00:00:00+00:00",
                    "2018-06-18T00:00:00+00:00",
                    "2018-06-25T00:00:00+00:00",
                    "2018-07-02T00:00:00+00:00",
                    "2018-07-09T00:00:00+00:00",
                    "2018-07-16T00:00:00+00:00",
                    "2018-07-23T00:00:00+00:00",
                    "2018-07-30T00:00:00+00:00",
                    "2018-08-06T00:00:00+00:00",
                    "2018-08-13T00:00:00+00:00",
                    "2018-08-20T00:00:00+00:00",
                    "2018-08-27T00:00:00+00:00",
                    "2018-09-03T00:00:00+00:00",
                    "2018-09-10T00:00:00+00:00",
                    "2018-09-17T00:00:00+00:00",
                    "2018-09-24T00:00:00+00:00",
                    "2018-10-01T00:00:00+00:00",
                    "2018-10-08T00:00:00+00:00",
                    "2018-10-15T00:00:00+00:00",
                    "2018-10-22T00:00:00+00:00",
                    "2018-10-29T00:00:00+00:00",
                    "2018-11-05T00:00:00+00:00",
                    "2018-11-12T00:00:00+00:00"
                  ],
                  "y": [
                    274.8,
                    269.3,
                    215.9,
                    269.2,
                    238.9,
                    220.3,
                    235.8,
                    238.8,
                    273.8,
                    290,
                    290.4,
                    265.5,
                    246.8,
                    255,
                    223.6,
                    224.2,
                    229,
                    239,
                    241.8,
                    232.6,
                    237.4,
                    223.1,
                    228.6,
                    237,
                    247.5,
                    257,
                    269.1,
                    290.4,
                    277.7,
                    293,
                    281.6,
                    263.3,
                    257.1,
                    211.4,
                    229.5,
                    239.6,
                    229.9,
                    226.3,
                    238.9,
                    240.1,
                    245.4,
                    263.8,
                    285.1,
                    359.3,
                    380.2,
                    330.2,
                    322.1,
                    378,
                    394.3,
                    442,
                    437.6,
                    421.8,
                    433.3,
                    447.7,
                    384.4,
                    392.8,
                    372.2,
                    372.6,
                    401.1,
                    437.8,
                    436.2,
                    414.9,
                    414.3,
                    411.1,
                    422.2,
                    419.3,
                    421.4,
                    427.7,
                    461.7,
                    444.2,
                    460.4,
                    454.9,
                    443.7,
                    532.3,
                    583.6,
                    700.1,
                    734,
                    644.7,
                    675.2,
                    646.7,
                    670.4,
                    654,
                    607,
                    589.2,
                    567,
                    587.5,
                    574.2,
                    605.8,
                    608,
                    609.8,
                    606.5,
                    611.6,
                    617.3,
                    637.4,
                    650.5,
                    698.7,
                    705.4,
                    704.6,
                    736.2,
                    733.3,
                    754.3,
                    778.5,
                    789.8,
                    898.4,
                    1017,
                    899.8,
                    827.3,
                    921.5,
                    920.7,
                    1024.7,
                    995.4,
                    1077.6,
                    1188.8,
                    1277,
                    1238.2,
                    1047.5,
                    1045.1,
                    1147.6,
                    1206.7,
                    1194,
                    1248.2,
                    1415.8,
                    1664.5,
                    1708.9,
                    2124.4,
                    2278.2,
                    2705,
                    2656.8,
                    2616.8,
                    2446.1,
                    2572.5,
                    2344,
                    2233.4,
                    2763.4,
                    2883.3,
                    3401.9,
                    4327.9,
                    4005.1,
                    4390.3,
                    4267.5,
                    4217.9,
                    4100.3,
                    3932.8,
                    4401.3,
                    4777.5,
                    5759.3,
                    5903.6,
                    6124.3,
                    6959.2,
                    6522.5,
                    8244.7,
                    9733.2,
                    11623.9,
                    16732.5,
                    18972.3,
                    13833.5,
                    13444.9,
                    14976.2,
                    13697.5,
                    10864.8,
                    11244.8,
                    6938.5,
                    8903.5,
                    11169.4,
                    10285.1,
                    11330.6,
                    9137.4,
                    8616.8,
                    8143.5,
                    7068.4,
                    6781.9,
                    8070,
                    8952.8,
                    9245.1,
                    9431.6,
                    8674.1,
                    8403.3,
                    7119.3,
                    7504.3,
                    6885.9,
                    6719.8,
                    6256.6,
                    6619.5,
                    6667.1,
                    6729.9,
                    7723,
                    8177.1,
                    6943.6,
                    6255.3,
                    6268.1,
                    6897.6,
                    7264.2,
                    6321,
                    6251.9,
                    6584.1,
                    6608.2,
                    6669.6,
                    6699.8,
                    6555.8,
                    6335,
                    6459.7,
                    6446.1
                  ],
                  "type": "scatter"
                }
              ],
              "layout": {
                "template": {
                  "data": {
                    "barpolar": [
                      {
                        "marker": {
                          "line": {
                            "color": "#E5ECF6",
                            "width": 0.5
                          },
                          "pattern": {
                            "fillmode": "overlay",
                            "size": 10,
                            "solidity": 0.2
                          }
                        },
                        "type": "barpolar"
                      }
                    ],
                    "bar": [
                      {
                        "error_x": {
                          "color": "#2a3f5f"
                        },
                        "error_y": {
                          "color": "#2a3f5f"
                        },
                        "marker": {
                          "line": {
                            "color": "#E5ECF6",
                            "width": 0.5
                          },
                          "pattern": {
                            "fillmode": "overlay",
                            "size": 10,
                            "solidity": 0.2
                          }
                        },
                        "type": "bar"
                      }
                    ],
                    "carpet": [
                      {
                        "aaxis": {
                          "endlinecolor": "#2a3f5f",
                          "gridcolor": "white",
                          "linecolor": "white",
                          "minorgridcolor": "white",
                          "startlinecolor": "#2a3f5f"
                        },
                        "baxis": {
                          "endlinecolor": "#2a3f5f",
                          "gridcolor": "white",
                          "linecolor": "white",
                          "minorgridcolor": "white",
                          "startlinecolor": "#2a3f5f"
                        },
                        "type": "carpet"
                      }
                    ],
                    "choropleth": [
                      {
                        "colorbar": {
                          "outlinewidth": 0,
                          "ticks": ""
                        },
                        "type": "choropleth"
                      }
                    ],
                    "contourcarpet": [
                      {
                        "colorbar": {
                          "outlinewidth": 0,
                          "ticks": ""
                        },
                        "type": "contourcarpet"
                      }
                    ],
                    "contour": [
                      {
                        "colorbar": {
                          "outlinewidth": 0,
                          "ticks": ""
                        },
                        "colorscale": [
                          [
                            0,
                            "#0d0887"
                          ],
                          [
                            0.1111111111111111,
                            "#46039f"
                          ],
                          [
                            0.2222222222222222,
                            "#7201a8"
                          ],
                          [
                            0.3333333333333333,
                            "#9c179e"
                          ],
                          [
                            0.4444444444444444,
                            "#bd3786"
                          ],
                          [
                            0.5555555555555556,
                            "#d8576b"
                          ],
                          [
                            0.6666666666666666,
                            "#ed7953"
                          ],
                          [
                            0.7777777777777778,
                            "#fb9f3a"
                          ],
                          [
                            0.8888888888888888,
                            "#fdca26"
                          ],
                          [
                            1,
                            "#f0f921"
                          ]
                        ],
                        "type": "contour"
                      }
                    ],
                    "heatmapgl": [
                      {
                        "colorbar": {
                          "outlinewidth": 0,
                          "ticks": ""
                        },
                        "colorscale": [
                          [
                            0,
                            "#0d0887"
                          ],
                          [
                            0.1111111111111111,
                            "#46039f"
                          ],
                          [
                            0.2222222222222222,
                            "#7201a8"
                          ],
                          [
                            0.3333333333333333,
                            "#9c179e"
                          ],
                          [
                            0.4444444444444444,
                            "#bd3786"
                          ],
                          [
                            0.5555555555555556,
                            "#d8576b"
                          ],
                          [
                            0.6666666666666666,
                            "#ed7953"
                          ],
                          [
                            0.7777777777777778,
                            "#fb9f3a"
                          ],
                          [
                            0.8888888888888888,
                            "#fdca26"
                          ],
                          [
                            1,
                            "#f0f921"
                          ]
                        ],
                        "type": "heatmapgl"
                      }
                    ],
                    "heatmap": [
                      {
                        "colorbar": {
                          "outlinewidth": 0,
                          "ticks": ""
                        },
                        "colorscale": [
                          [
                            0,
                            "#0d0887"
                          ],
                          [
                            0.1111111111111111,
                            "#46039f"
                          ],
                          [
                            0.2222222222222222,
                            "#7201a8"
                          ],
                          [
                            0.3333333333333333,
                            "#9c179e"
                          ],
                          [
                            0.4444444444444444,
                            "#bd3786"
                          ],
                          [
                            0.5555555555555556,
                            "#d8576b"
                          ],
                          [
                            0.6666666666666666,
                            "#ed7953"
                          ],
                          [
                            0.7777777777777778,
                            "#fb9f3a"
                          ],
                          [
                            0.8888888888888888,
                            "#fdca26"
                          ],
                          [
                            1,
                            "#f0f921"
                          ]
                        ],
                        "type": "heatmap"
                      }
                    ],
                    "histogram2dcontour": [
                      {
                        "colorbar": {
                          "outlinewidth": 0,
                          "ticks": ""
                        },
                        "colorscale": [
                          [
                            0,
                            "#0d0887"
                          ],
                          [
                            0.1111111111111111,
                            "#46039f"
                          ],
                          [
                            0.2222222222222222,
                            "#7201a8"
                          ],
                          [
                            0.3333333333333333,
                            "#9c179e"
                          ],
                          [
                            0.4444444444444444,
                            "#bd3786"
                          ],
                          [
                            0.5555555555555556,
                            "#d8576b"
                          ],
                          [
                            0.6666666666666666,
                            "#ed7953"
                          ],
                          [
                            0.7777777777777778,
                            "#fb9f3a"
                          ],
                          [
                            0.8888888888888888,
                            "#fdca26"
                          ],
                          [
                            1,
                            "#f0f921"
                          ]
                        ],
                        "type": "histogram2dcontour"
                      }
                    ],
                    "histogram2d": [
                      {
                        "colorbar": {
                          "outlinewidth": 0,
                          "ticks": ""
                        },
                        "colorscale": [
                          [
                            0,
                            "#0d0887"
                          ],
                          [
                            0.1111111111111111,
                            "#46039f"
                          ],
                          [
                            0.2222222222222222,
                            "#7201a8"
                          ],
                          [
                            0.3333333333333333,
                            "#9c179e"
                          ],
                          [
                            0.4444444444444444,
                            "#bd3786"
                          ],
                          [
                            0.5555555555555556,
                            "#d8576b"
                          ],
                          [
                            0.6666666666666666,
                            "#ed7953"
                          ],
                          [
                            0.7777777777777778,
                            "#fb9f3a"
                          ],
                          [
                            0.8888888888888888,
                            "#fdca26"
                          ],
                          [
                            1,
                            "#f0f921"
                          ]
                        ],
                        "type": "histogram2d"
                      }
                    ],
                    "histogram": [
                      {
                        "marker": {
                          "pattern": {
                            "fillmode": "overlay",
                            "size": 10,
                            "solidity": 0.2
                          }
                        },
                        "type": "histogram"
                      }
                    ],
                    "mesh3d": [
                      {
                        "colorbar": {
                          "outlinewidth": 0,
                          "ticks": ""
                        },
                        "type": "mesh3d"
                      }
                    ],
                    "parcoords": [
                      {
                        "line": {
                          "colorbar": {
                            "outlinewidth": 0,
                            "ticks": ""
                          }
                        },
                        "type": "parcoords"
                      }
                    ],
                    "pie": [
                      {
                        "automargin": true,
                        "type": "pie"
                      }
                    ],
                    "scatter3d": [
                      {
                        "line": {
                          "colorbar": {
                            "outlinewidth": 0,
                            "ticks": ""
                          }
                        },
                        "marker": {
                          "colorbar": {
                            "outlinewidth": 0,
                            "ticks": ""
                          }
                        },
                        "type": "scatter3d"
                      }
                    ],
                    "scattercarpet": [
                      {
                        "marker": {
                          "colorbar": {
                            "outlinewidth": 0,
                            "ticks": ""
                          }
                        },
                        "type": "scattercarpet"
                      }
                    ],
                    "scattergeo": [
                      {
                        "marker": {
                          "colorbar": {
                            "outlinewidth": 0,
                            "ticks": ""
                          }
                        },
                        "type": "scattergeo"
                      }
                    ],
                    "scattergl": [
                      {
                        "marker": {
                          "colorbar": {
                            "outlinewidth": 0,
                            "ticks": ""
                          }
                        },
                        "type": "scattergl"
                      }
                    ],
                    "scattermapbox": [
                      {
                        "marker": {
                          "colorbar": {
                            "outlinewidth": 0,
                            "ticks": ""
                          }
                        },
                        "type": "scattermapbox"
                      }
                    ],
                    "scatterpolargl": [
                      {
                        "marker": {
                          "colorbar": {
                            "outlinewidth": 0,
                            "ticks": ""
                          }
                        },
                        "type": "scatterpolargl"
                      }
                    ],
                    "scatterpolar": [
                      {
                        "marker": {
                          "colorbar": {
                            "outlinewidth": 0,
                            "ticks": ""
                          }
                        },
                        "type": "scatterpolar"
                      }
                    ],
                    "scatter": [
                      {
                        "fillpattern": {
                          "fillmode": "overlay",
                          "size": 10,
                          "solidity": 0.2
                        },
                        "type": "scatter"
                      }
                    ],
                    "scatterternary": [
                      {
                        "marker": {
                          "colorbar": {
                            "outlinewidth": 0,
                            "ticks": ""
                          }
                        },
                        "type": "scatterternary"
                      }
                    ],
                    "surface": [
                      {
                        "colorbar": {
                          "outlinewidth": 0,
                          "ticks": ""
                        },
                        "colorscale": [
                          [
                            0,
                            "#0d0887"
                          ],
                          [
                            0.1111111111111111,
                            "#46039f"
                          ],
                          [
                            0.2222222222222222,
                            "#7201a8"
                          ],
                          [
                            0.3333333333333333,
                            "#9c179e"
                          ],
                          [
                            0.4444444444444444,
                            "#bd3786"
                          ],
                          [
                            0.5555555555555556,
                            "#d8576b"
                          ],
                          [
                            0.6666666666666666,
                            "#ed7953"
                          ],
                          [
                            0.7777777777777778,
                            "#fb9f3a"
                          ],
                          [
                            0.8888888888888888,
                            "#fdca26"
                          ],
                          [
                            1,
                            "#f0f921"
                          ]
                        ],
                        "type": "surface"
                      }
                    ],
                    "table": [
                      {
                        "cells": {
                          "fill": {
                            "color": "#EBF0F8"
                          },
                          "line": {
                            "color": "white"
                          }
                        },
                        "header": {
                          "fill": {
                            "color": "#C8D4E3"
                          },
                          "line": {
                            "color": "white"
                          }
                        },
                        "type": "table"
                      }
                    ]
                  },
                  "layout": {
                    "annotationdefaults": {
                      "arrowcolor": "#2a3f5f",
                      "arrowhead": 0,
                      "arrowwidth": 1
                    },
                    "autotypenumbers": "strict",
                    "coloraxis": {
                      "colorbar": {
                        "outlinewidth": 0,
                        "ticks": ""
                      }
                    },
                    "colorscale": {
                      "diverging": [
                        [
                          0,
                          "#8e0152"
                        ],
                        [
                          0.1,
                          "#c51b7d"
                        ],
                        [
                          0.2,
                          "#de77ae"
                        ],
                        [
                          0.3,
                          "#f1b6da"
                        ],
                        [
                          0.4,
                          "#fde0ef"
                        ],
                        [
                          0.5,
                          "#f7f7f7"
                        ],
                        [
                          0.6,
                          "#e6f5d0"
                        ],
                        [
                          0.7,
                          "#b8e186"
                        ],
                        [
                          0.8,
                          "#7fbc41"
                        ],
                        [
                          0.9,
                          "#4d9221"
                        ],
                        [
                          1,
                          "#276419"
                        ]
                      ],
                      "sequential": [
                        [
                          0,
                          "#0d0887"
                        ],
                        [
                          0.1111111111111111,
                          "#46039f"
                        ],
                        [
                          0.2222222222222222,
                          "#7201a8"
                        ],
                        [
                          0.3333333333333333,
                          "#9c179e"
                        ],
                        [
                          0.4444444444444444,
                          "#bd3786"
                        ],
                        [
                          0.5555555555555556,
                          "#d8576b"
                        ],
                        [
                          0.6666666666666666,
                          "#ed7953"
                        ],
                        [
                          0.7777777777777778,
                          "#fb9f3a"
                        ],
                        [
                          0.8888888888888888,
                          "#fdca26"
                        ],
                        [
                          1,
                          "#f0f921"
                        ]
                      ],
                      "sequentialminus": [
                        [
                          0,
                          "#0d0887"
                        ],
                        [
                          0.1111111111111111,
                          "#46039f"
                        ],
                        [
                          0.2222222222222222,
                          "#7201a8"
                        ],
                        [
                          0.3333333333333333,
                          "#9c179e"
                        ],
                        [
                          0.4444444444444444,
                          "#bd3786"
                        ],
                        [
                          0.5555555555555556,
                          "#d8576b"
                        ],
                        [
                          0.6666666666666666,
                          "#ed7953"
                        ],
                        [
                          0.7777777777777778,
                          "#fb9f3a"
                        ],
                        [
                          0.8888888888888888,
                          "#fdca26"
                        ],
                        [
                          1,
                          "#f0f921"
                        ]
                      ]
                    },
                    "colorway": [
                      "#636efa",
                      "#EF553B",
                      "#00cc96",
                      "#ab63fa",
                      "#FFA15A",
                      "#19d3f3",
                      "#FF6692",
                      "#B6E880",
                      "#FF97FF",
                      "#FECB52"
                    ],
                    "font": {
                      "color": "#2a3f5f"
                    },
                    "geo": {
                      "bgcolor": "white",
                      "lakecolor": "white",
                      "landcolor": "#E5ECF6",
                      "showlakes": true,
                      "showland": true,
                      "subunitcolor": "white"
                    },
                    "hoverlabel": {
                      "align": "left"
                    },
                    "hovermode": "closest",
                    "mapbox": {
                      "style": "light"
                    },
                    "paper_bgcolor": "white",
                    "plot_bgcolor": "#E5ECF6",
                    "polar": {
                      "angularaxis": {
                        "gridcolor": "white",
                        "linecolor": "white",
                        "ticks": ""
                      },
                      "bgcolor": "#E5ECF6",
                      "radialaxis": {
                        "gridcolor": "white",
                        "linecolor": "white",
                        "ticks": ""
                      }
                    },
                    "scene": {
                      "xaxis": {
                        "backgroundcolor": "#E5ECF6",
                        "gridcolor": "white",
                        "gridwidth": 2,
                        "linecolor": "white",
                        "showbackground": true,
                        "ticks": "",
                        "zerolinecolor": "white"
                      },
                      "yaxis": {
                        "backgroundcolor": "#E5ECF6",
                        "gridcolor": "white",
                        "gridwidth": 2,
                        "linecolor": "white",
                        "showbackground": true,
                        "ticks": "",
                        "zerolinecolor": "white"
                      },
                      "zaxis": {
                        "backgroundcolor": "#E5ECF6",
                        "gridcolor": "white",
                        "gridwidth": 2,
                        "linecolor": "white",
                        "showbackground": true,
                        "ticks": "",
                        "zerolinecolor": "white"
                      }
                    },
                    "shapedefaults": {
                      "line": {
                        "color": "#2a3f5f"
                      }
                    },
                    "ternary": {
                      "aaxis": {
                        "gridcolor": "white",
                        "linecolor": "white",
                        "ticks": ""
                      },
                      "baxis": {
                        "gridcolor": "white",
                        "linecolor": "white",
                        "ticks": ""
                      },
                      "bgcolor": "#E5ECF6",
                      "caxis": {
                        "gridcolor": "white",
                        "linecolor": "white",
                        "ticks": ""
                      }
                    },
                    "title": {
                      "x": 0.05
                    },
                    "xaxis": {
                      "automargin": true,
                      "gridcolor": "white",
                      "linecolor": "white",
                      "ticks": "",
                      "title": {
                        "standoff": 15
                      },
                      "zerolinecolor": "white",
                      "zerolinewidth": 2
                    },
                    "yaxis": {
                      "automargin": true,
                      "gridcolor": "white",
                      "linecolor": "white",
                      "ticks": "",
                      "title": {
                        "standoff": 15
                      },
                      "zerolinecolor": "white",
                      "zerolinewidth": 2
                    }
                  }
                },
                "title": {
                  "text": "Historical Bitcoin Prices (2015-2018) with the Slider"
                },
                "xaxis": {
                  "rangeselector": {
                    "buttons": [
                      {
                        "count": 1,
                        "label": "1m",
                        "step": "month",
                        "stepmode": "backward"
                      },
                      {
                        "count": 6,
                        "label": "6m",
                        "step": "month",
                        "stepmode": "backward"
                      },
                      {
                        "count": 12,
                        "label": "1y",
                        "step": "month",
                        "stepmode": "backward"
                      },
                      {
                        "count": 36,
                        "label": "3y",
                        "step": "month",
                        "stepmode": "backward"
                      },
                      {
                        "step": "all"
                      }
                    ]
                  },
                  "rangeslider": {
                    "visible": true
                  },
                  "type": "date"
                }
              },
              "config": {
                "showLink": false,
                "linkText": "Export to plot.ly",
                "plotlyServerURL": "https://plot.ly"
              }
            },
            "text/html": [
              "<div>                            <div id=\"93a1d8f2-c2ca-45b6-85b6-e7a94a1b1d21\" class=\"plotly-graph-div\" style=\"height:525px; width:100%;\"></div>            <script type=\"text/javascript\">                require([\"plotly\"], function(Plotly) {                    window.PLOTLYENV=window.PLOTLYENV || {};                                    if (document.getElementById(\"93a1d8f2-c2ca-45b6-85b6-e7a94a1b1d21\")) {                    Plotly.newPlot(                        \"93a1d8f2-c2ca-45b6-85b6-e7a94a1b1d21\",                        [{\"mode\":\"lines\",\"name\":\"Open\",\"x\":[\"2015-01-05T00:00:00+00:00\",\"2015-01-12T00:00:00+00:00\",\"2015-01-19T00:00:00+00:00\",\"2015-01-26T00:00:00+00:00\",\"2015-02-02T00:00:00+00:00\",\"2015-02-09T00:00:00+00:00\",\"2015-02-16T00:00:00+00:00\",\"2015-02-23T00:00:00+00:00\",\"2015-03-02T00:00:00+00:00\",\"2015-03-09T00:00:00+00:00\",\"2015-03-16T00:00:00+00:00\",\"2015-03-23T00:00:00+00:00\",\"2015-03-30T00:00:00+00:00\",\"2015-04-06T00:00:00+00:00\",\"2015-04-13T00:00:00+00:00\",\"2015-04-20T00:00:00+00:00\",\"2015-04-27T00:00:00+00:00\",\"2015-05-04T00:00:00+00:00\",\"2015-05-11T00:00:00+00:00\",\"2015-05-18T00:00:00+00:00\",\"2015-05-25T00:00:00+00:00\",\"2015-06-01T00:00:00+00:00\",\"2015-06-08T00:00:00+00:00\",\"2015-06-15T00:00:00+00:00\",\"2015-06-22T00:00:00+00:00\",\"2015-06-29T00:00:00+00:00\",\"2015-07-06T00:00:00+00:00\",\"2015-07-13T00:00:00+00:00\",\"2015-07-20T00:00:00+00:00\",\"2015-07-27T00:00:00+00:00\",\"2015-08-03T00:00:00+00:00\",\"2015-08-10T00:00:00+00:00\",\"2015-08-17T00:00:00+00:00\",\"2015-08-24T00:00:00+00:00\",\"2015-08-31T00:00:00+00:00\",\"2015-09-07T00:00:00+00:00\",\"2015-09-14T00:00:00+00:00\",\"2015-09-21T00:00:00+00:00\",\"2015-09-28T00:00:00+00:00\",\"2015-10-05T00:00:00+00:00\",\"2015-10-12T00:00:00+00:00\",\"2015-10-19T00:00:00+00:00\",\"2015-10-26T00:00:00+00:00\",\"2015-11-02T00:00:00+00:00\",\"2015-11-09T00:00:00+00:00\",\"2015-11-16T00:00:00+00:00\",\"2015-11-23T00:00:00+00:00\",\"2015-11-30T00:00:00+00:00\",\"2015-12-07T00:00:00+00:00\",\"2015-12-14T00:00:00+00:00\",\"2015-12-21T00:00:00+00:00\",\"2015-12-28T00:00:00+00:00\",\"2016-01-04T00:00:00+00:00\",\"2016-01-11T00:00:00+00:00\",\"2016-01-18T00:00:00+00:00\",\"2016-01-25T00:00:00+00:00\",\"2016-02-01T00:00:00+00:00\",\"2016-02-08T00:00:00+00:00\",\"2016-02-15T00:00:00+00:00\",\"2016-02-22T00:00:00+00:00\",\"2016-02-29T00:00:00+00:00\",\"2016-03-07T00:00:00+00:00\",\"2016-03-14T00:00:00+00:00\",\"2016-03-21T00:00:00+00:00\",\"2016-03-28T00:00:00+00:00\",\"2016-04-04T00:00:00+00:00\",\"2016-04-11T00:00:00+00:00\",\"2016-04-18T00:00:00+00:00\",\"2016-04-25T00:00:00+00:00\",\"2016-05-02T00:00:00+00:00\",\"2016-05-09T00:00:00+00:00\",\"2016-05-16T00:00:00+00:00\",\"2016-05-23T00:00:00+00:00\",\"2016-05-30T00:00:00+00:00\",\"2016-06-06T00:00:00+00:00\",\"2016-06-13T00:00:00+00:00\",\"2016-06-20T00:00:00+00:00\",\"2016-06-27T00:00:00+00:00\",\"2016-07-04T00:00:00+00:00\",\"2016-07-11T00:00:00+00:00\",\"2016-07-18T00:00:00+00:00\",\"2016-07-25T00:00:00+00:00\",\"2016-08-01T00:00:00+00:00\",\"2016-08-08T00:00:00+00:00\",\"2016-08-15T00:00:00+00:00\",\"2016-08-22T00:00:00+00:00\",\"2016-08-29T00:00:00+00:00\",\"2016-09-05T00:00:00+00:00\",\"2016-09-12T00:00:00+00:00\",\"2016-09-19T00:00:00+00:00\",\"2016-09-26T00:00:00+00:00\",\"2016-10-03T00:00:00+00:00\",\"2016-10-10T00:00:00+00:00\",\"2016-10-17T00:00:00+00:00\",\"2016-10-24T00:00:00+00:00\",\"2016-10-31T00:00:00+00:00\",\"2016-11-07T00:00:00+00:00\",\"2016-11-14T00:00:00+00:00\",\"2016-11-21T00:00:00+00:00\",\"2016-11-28T00:00:00+00:00\",\"2016-12-05T00:00:00+00:00\",\"2016-12-12T00:00:00+00:00\",\"2016-12-19T00:00:00+00:00\",\"2016-12-26T00:00:00+00:00\",\"2017-01-02T00:00:00+00:00\",\"2017-01-09T00:00:00+00:00\",\"2017-01-16T00:00:00+00:00\",\"2017-01-23T00:00:00+00:00\",\"2017-01-30T00:00:00+00:00\",\"2017-02-06T00:00:00+00:00\",\"2017-02-13T00:00:00+00:00\",\"2017-02-20T00:00:00+00:00\",\"2017-02-27T00:00:00+00:00\",\"2017-03-06T00:00:00+00:00\",\"2017-03-13T00:00:00+00:00\",\"2017-03-20T00:00:00+00:00\",\"2017-03-27T00:00:00+00:00\",\"2017-04-03T00:00:00+00:00\",\"2017-04-10T00:00:00+00:00\",\"2017-04-17T00:00:00+00:00\",\"2017-04-24T00:00:00+00:00\",\"2017-05-01T00:00:00+00:00\",\"2017-05-08T00:00:00+00:00\",\"2017-05-15T00:00:00+00:00\",\"2017-05-22T00:00:00+00:00\",\"2017-05-29T00:00:00+00:00\",\"2017-06-05T00:00:00+00:00\",\"2017-06-12T00:00:00+00:00\",\"2017-06-19T00:00:00+00:00\",\"2017-06-26T00:00:00+00:00\",\"2017-07-03T00:00:00+00:00\",\"2017-07-10T00:00:00+00:00\",\"2017-07-17T00:00:00+00:00\",\"2017-07-24T00:00:00+00:00\",\"2017-07-31T00:00:00+00:00\",\"2017-08-07T00:00:00+00:00\",\"2017-08-14T00:00:00+00:00\",\"2017-08-21T00:00:00+00:00\",\"2017-08-28T00:00:00+00:00\",\"2017-09-04T00:00:00+00:00\",\"2017-09-11T00:00:00+00:00\",\"2017-09-18T00:00:00+00:00\",\"2017-09-25T00:00:00+00:00\",\"2017-10-02T00:00:00+00:00\",\"2017-10-09T00:00:00+00:00\",\"2017-10-16T00:00:00+00:00\",\"2017-10-23T00:00:00+00:00\",\"2017-10-30T00:00:00+00:00\",\"2017-11-06T00:00:00+00:00\",\"2017-11-13T00:00:00+00:00\",\"2017-11-20T00:00:00+00:00\",\"2017-11-27T00:00:00+00:00\",\"2017-12-04T00:00:00+00:00\",\"2017-12-11T00:00:00+00:00\",\"2017-12-18T00:00:00+00:00\",\"2017-12-25T00:00:00+00:00\",\"2018-01-01T00:00:00+00:00\",\"2018-01-08T00:00:00+00:00\",\"2018-01-15T00:00:00+00:00\",\"2018-01-22T00:00:00+00:00\",\"2018-01-29T00:00:00+00:00\",\"2018-02-05T00:00:00+00:00\",\"2018-02-12T00:00:00+00:00\",\"2018-02-19T00:00:00+00:00\",\"2018-02-26T00:00:00+00:00\",\"2018-03-05T00:00:00+00:00\",\"2018-03-12T00:00:00+00:00\",\"2018-03-19T00:00:00+00:00\",\"2018-03-26T00:00:00+00:00\",\"2018-04-02T00:00:00+00:00\",\"2018-04-09T00:00:00+00:00\",\"2018-04-16T00:00:00+00:00\",\"2018-04-23T00:00:00+00:00\",\"2018-04-30T00:00:00+00:00\",\"2018-05-07T00:00:00+00:00\",\"2018-05-14T00:00:00+00:00\",\"2018-05-21T00:00:00+00:00\",\"2018-05-28T00:00:00+00:00\",\"2018-06-04T00:00:00+00:00\",\"2018-06-11T00:00:00+00:00\",\"2018-06-18T00:00:00+00:00\",\"2018-06-25T00:00:00+00:00\",\"2018-07-02T00:00:00+00:00\",\"2018-07-09T00:00:00+00:00\",\"2018-07-16T00:00:00+00:00\",\"2018-07-23T00:00:00+00:00\",\"2018-07-30T00:00:00+00:00\",\"2018-08-06T00:00:00+00:00\",\"2018-08-13T00:00:00+00:00\",\"2018-08-20T00:00:00+00:00\",\"2018-08-27T00:00:00+00:00\",\"2018-09-03T00:00:00+00:00\",\"2018-09-10T00:00:00+00:00\",\"2018-09-17T00:00:00+00:00\",\"2018-09-24T00:00:00+00:00\",\"2018-10-01T00:00:00+00:00\",\"2018-10-08T00:00:00+00:00\",\"2018-10-15T00:00:00+00:00\",\"2018-10-22T00:00:00+00:00\",\"2018-10-29T00:00:00+00:00\",\"2018-11-05T00:00:00+00:00\",\"2018-11-12T00:00:00+00:00\"],\"y\":[264.7,264.8,210.6,252.1,225.3,223.7,233.3,235.7,257.9,274.5,284.9,268.6,242.1,259.6,235.9,223.0,218.7,240.0,240.0,236.3,241.0,229.8,223.5,233.8,244.1,248.9,270.1,310.4,273.2,291.8,281.4,263.9,257.1,226.8,228.4,239.9,230.2,231.1,232.5,238.3,247.6,261.7,287.9,323.0,371.6,317.5,322.8,370.8,393.4,434.7,441.8,422.4,430.7,446.2,382.5,402.1,369.8,377.9,405.5,437.9,432.5,406.0,412.4,411.5,424.6,419.1,420.3,426.3,457.6,452.2,457.9,458.1,439.6,516.0,574.9,666.5,761.0,625.4,661.6,647.1,676.3,659.3,621.9,590.8,569.1,580.7,575.0,609.5,605.6,610.7,601.5,610.7,615.8,640.1,653.0,697.3,709.9,702.0,728.5,729.4,766.4,767.9,789.0,891.1,995.4,900.9,821.2,918.8,914.5,1016.1,996.5,1048.9,1171.6,1271.2,1225.1,1022.6,969.4,1097.4,1204.3,1176.8,1249.1,1351.9,1554.4,1772.6,2044.2,2189.0,2524.1,2973.4,2539.6,2541.6,2536.5,2511.4,1914.1,2756.6,2766.5,3232.0,4062.6,4066.6,4345.8,4612.9,4245.9,3689.6,3667.5,4403.1,4611.7,5677.4,5982.9,6147.7,7389.5,5878.1,8042.6,9318.4,11244.2,15060.5,19065.7,13790.0,13850.5,16228.3,13695.5,11597.5,11794.9,8220.8,8083.6,10396.6,9590.9,11415.7,9535.8,8200.9,8474.0,6825.4,7035.7,8362.2,8809.3,9415.8,9651.1,8693.4,8529.5,7367.3,7729.3,6775.2,6460.5,6155.1,6349.1,6715.1,6362.8,7412.4,8214.7,7027.8,6313.0,6474.2,6712.7,7289.8,6238.5,6500.2,6713.3,6635.2,6611.0,6326.8,6583.0,6486.1,6478.2,6427.1],\"type\":\"scatter\"},{\"mode\":\"lines\",\"name\":\"Weighted Avg\",\"x\":[\"2015-01-05T00:00:00+00:00\",\"2015-01-12T00:00:00+00:00\",\"2015-01-19T00:00:00+00:00\",\"2015-01-26T00:00:00+00:00\",\"2015-02-02T00:00:00+00:00\",\"2015-02-09T00:00:00+00:00\",\"2015-02-16T00:00:00+00:00\",\"2015-02-23T00:00:00+00:00\",\"2015-03-02T00:00:00+00:00\",\"2015-03-09T00:00:00+00:00\",\"2015-03-16T00:00:00+00:00\",\"2015-03-23T00:00:00+00:00\",\"2015-03-30T00:00:00+00:00\",\"2015-04-06T00:00:00+00:00\",\"2015-04-13T00:00:00+00:00\",\"2015-04-20T00:00:00+00:00\",\"2015-04-27T00:00:00+00:00\",\"2015-05-04T00:00:00+00:00\",\"2015-05-11T00:00:00+00:00\",\"2015-05-18T00:00:00+00:00\",\"2015-05-25T00:00:00+00:00\",\"2015-06-01T00:00:00+00:00\",\"2015-06-08T00:00:00+00:00\",\"2015-06-15T00:00:00+00:00\",\"2015-06-22T00:00:00+00:00\",\"2015-06-29T00:00:00+00:00\",\"2015-07-06T00:00:00+00:00\",\"2015-07-13T00:00:00+00:00\",\"2015-07-20T00:00:00+00:00\",\"2015-07-27T00:00:00+00:00\",\"2015-08-03T00:00:00+00:00\",\"2015-08-10T00:00:00+00:00\",\"2015-08-17T00:00:00+00:00\",\"2015-08-24T00:00:00+00:00\",\"2015-08-31T00:00:00+00:00\",\"2015-09-07T00:00:00+00:00\",\"2015-09-14T00:00:00+00:00\",\"2015-09-21T00:00:00+00:00\",\"2015-09-28T00:00:00+00:00\",\"2015-10-05T00:00:00+00:00\",\"2015-10-12T00:00:00+00:00\",\"2015-10-19T00:00:00+00:00\",\"2015-10-26T00:00:00+00:00\",\"2015-11-02T00:00:00+00:00\",\"2015-11-09T00:00:00+00:00\",\"2015-11-16T00:00:00+00:00\",\"2015-11-23T00:00:00+00:00\",\"2015-11-30T00:00:00+00:00\",\"2015-12-07T00:00:00+00:00\",\"2015-12-14T00:00:00+00:00\",\"2015-12-21T00:00:00+00:00\",\"2015-12-28T00:00:00+00:00\",\"2016-01-04T00:00:00+00:00\",\"2016-01-11T00:00:00+00:00\",\"2016-01-18T00:00:00+00:00\",\"2016-01-25T00:00:00+00:00\",\"2016-02-01T00:00:00+00:00\",\"2016-02-08T00:00:00+00:00\",\"2016-02-15T00:00:00+00:00\",\"2016-02-22T00:00:00+00:00\",\"2016-02-29T00:00:00+00:00\",\"2016-03-07T00:00:00+00:00\",\"2016-03-14T00:00:00+00:00\",\"2016-03-21T00:00:00+00:00\",\"2016-03-28T00:00:00+00:00\",\"2016-04-04T00:00:00+00:00\",\"2016-04-11T00:00:00+00:00\",\"2016-04-18T00:00:00+00:00\",\"2016-04-25T00:00:00+00:00\",\"2016-05-02T00:00:00+00:00\",\"2016-05-09T00:00:00+00:00\",\"2016-05-16T00:00:00+00:00\",\"2016-05-23T00:00:00+00:00\",\"2016-05-30T00:00:00+00:00\",\"2016-06-06T00:00:00+00:00\",\"2016-06-13T00:00:00+00:00\",\"2016-06-20T00:00:00+00:00\",\"2016-06-27T00:00:00+00:00\",\"2016-07-04T00:00:00+00:00\",\"2016-07-11T00:00:00+00:00\",\"2016-07-18T00:00:00+00:00\",\"2016-07-25T00:00:00+00:00\",\"2016-08-01T00:00:00+00:00\",\"2016-08-08T00:00:00+00:00\",\"2016-08-15T00:00:00+00:00\",\"2016-08-22T00:00:00+00:00\",\"2016-08-29T00:00:00+00:00\",\"2016-09-05T00:00:00+00:00\",\"2016-09-12T00:00:00+00:00\",\"2016-09-19T00:00:00+00:00\",\"2016-09-26T00:00:00+00:00\",\"2016-10-03T00:00:00+00:00\",\"2016-10-10T00:00:00+00:00\",\"2016-10-17T00:00:00+00:00\",\"2016-10-24T00:00:00+00:00\",\"2016-10-31T00:00:00+00:00\",\"2016-11-07T00:00:00+00:00\",\"2016-11-14T00:00:00+00:00\",\"2016-11-21T00:00:00+00:00\",\"2016-11-28T00:00:00+00:00\",\"2016-12-05T00:00:00+00:00\",\"2016-12-12T00:00:00+00:00\",\"2016-12-19T00:00:00+00:00\",\"2016-12-26T00:00:00+00:00\",\"2017-01-02T00:00:00+00:00\",\"2017-01-09T00:00:00+00:00\",\"2017-01-16T00:00:00+00:00\",\"2017-01-23T00:00:00+00:00\",\"2017-01-30T00:00:00+00:00\",\"2017-02-06T00:00:00+00:00\",\"2017-02-13T00:00:00+00:00\",\"2017-02-20T00:00:00+00:00\",\"2017-02-27T00:00:00+00:00\",\"2017-03-06T00:00:00+00:00\",\"2017-03-13T00:00:00+00:00\",\"2017-03-20T00:00:00+00:00\",\"2017-03-27T00:00:00+00:00\",\"2017-04-03T00:00:00+00:00\",\"2017-04-10T00:00:00+00:00\",\"2017-04-17T00:00:00+00:00\",\"2017-04-24T00:00:00+00:00\",\"2017-05-01T00:00:00+00:00\",\"2017-05-08T00:00:00+00:00\",\"2017-05-15T00:00:00+00:00\",\"2017-05-22T00:00:00+00:00\",\"2017-05-29T00:00:00+00:00\",\"2017-06-05T00:00:00+00:00\",\"2017-06-12T00:00:00+00:00\",\"2017-06-19T00:00:00+00:00\",\"2017-06-26T00:00:00+00:00\",\"2017-07-03T00:00:00+00:00\",\"2017-07-10T00:00:00+00:00\",\"2017-07-17T00:00:00+00:00\",\"2017-07-24T00:00:00+00:00\",\"2017-07-31T00:00:00+00:00\",\"2017-08-07T00:00:00+00:00\",\"2017-08-14T00:00:00+00:00\",\"2017-08-21T00:00:00+00:00\",\"2017-08-28T00:00:00+00:00\",\"2017-09-04T00:00:00+00:00\",\"2017-09-11T00:00:00+00:00\",\"2017-09-18T00:00:00+00:00\",\"2017-09-25T00:00:00+00:00\",\"2017-10-02T00:00:00+00:00\",\"2017-10-09T00:00:00+00:00\",\"2017-10-16T00:00:00+00:00\",\"2017-10-23T00:00:00+00:00\",\"2017-10-30T00:00:00+00:00\",\"2017-11-06T00:00:00+00:00\",\"2017-11-13T00:00:00+00:00\",\"2017-11-20T00:00:00+00:00\",\"2017-11-27T00:00:00+00:00\",\"2017-12-04T00:00:00+00:00\",\"2017-12-11T00:00:00+00:00\",\"2017-12-18T00:00:00+00:00\",\"2017-12-25T00:00:00+00:00\",\"2018-01-01T00:00:00+00:00\",\"2018-01-08T00:00:00+00:00\",\"2018-01-15T00:00:00+00:00\",\"2018-01-22T00:00:00+00:00\",\"2018-01-29T00:00:00+00:00\",\"2018-02-05T00:00:00+00:00\",\"2018-02-12T00:00:00+00:00\",\"2018-02-19T00:00:00+00:00\",\"2018-02-26T00:00:00+00:00\",\"2018-03-05T00:00:00+00:00\",\"2018-03-12T00:00:00+00:00\",\"2018-03-19T00:00:00+00:00\",\"2018-03-26T00:00:00+00:00\",\"2018-04-02T00:00:00+00:00\",\"2018-04-09T00:00:00+00:00\",\"2018-04-16T00:00:00+00:00\",\"2018-04-23T00:00:00+00:00\",\"2018-04-30T00:00:00+00:00\",\"2018-05-07T00:00:00+00:00\",\"2018-05-14T00:00:00+00:00\",\"2018-05-21T00:00:00+00:00\",\"2018-05-28T00:00:00+00:00\",\"2018-06-04T00:00:00+00:00\",\"2018-06-11T00:00:00+00:00\",\"2018-06-18T00:00:00+00:00\",\"2018-06-25T00:00:00+00:00\",\"2018-07-02T00:00:00+00:00\",\"2018-07-09T00:00:00+00:00\",\"2018-07-16T00:00:00+00:00\",\"2018-07-23T00:00:00+00:00\",\"2018-07-30T00:00:00+00:00\",\"2018-08-06T00:00:00+00:00\",\"2018-08-13T00:00:00+00:00\",\"2018-08-20T00:00:00+00:00\",\"2018-08-27T00:00:00+00:00\",\"2018-09-03T00:00:00+00:00\",\"2018-09-10T00:00:00+00:00\",\"2018-09-17T00:00:00+00:00\",\"2018-09-24T00:00:00+00:00\",\"2018-10-01T00:00:00+00:00\",\"2018-10-08T00:00:00+00:00\",\"2018-10-15T00:00:00+00:00\",\"2018-10-22T00:00:00+00:00\",\"2018-10-29T00:00:00+00:00\",\"2018-11-05T00:00:00+00:00\",\"2018-11-12T00:00:00+00:00\"],\"y\":[274.8,269.3,215.9,269.2,238.9,220.3,235.8,238.8,273.8,290.0,290.4,265.5,246.8,255.0,223.6,224.2,229.0,239.0,241.8,232.6,237.4,223.1,228.6,237.0,247.5,257.0,269.1,290.4,277.7,293.0,281.6,263.3,257.1,211.4,229.5,239.6,229.9,226.3,238.9,240.1,245.4,263.8,285.1,359.3,380.2,330.2,322.1,378.0,394.3,442.0,437.6,421.8,433.3,447.7,384.4,392.8,372.2,372.6,401.1,437.8,436.2,414.9,414.3,411.1,422.2,419.3,421.4,427.7,461.7,444.2,460.4,454.9,443.7,532.3,583.6,700.1,734.0,644.7,675.2,646.7,670.4,654.0,607.0,589.2,567.0,587.5,574.2,605.8,608.0,609.8,606.5,611.6,617.3,637.4,650.5,698.7,705.4,704.6,736.2,733.3,754.3,778.5,789.8,898.4,1017.0,899.8,827.3,921.5,920.7,1024.7,995.4,1077.6,1188.8,1277.0,1238.2,1047.5,1045.1,1147.6,1206.7,1194.0,1248.2,1415.8,1664.5,1708.9,2124.4,2278.2,2705.0,2656.8,2616.8,2446.1,2572.5,2344.0,2233.4,2763.4,2883.3,3401.9,4327.9,4005.1,4390.3,4267.5,4217.9,4100.3,3932.8,4401.3,4777.5,5759.3,5903.6,6124.3,6959.2,6522.5,8244.7,9733.2,11623.9,16732.5,18972.3,13833.5,13444.9,14976.2,13697.5,10864.8,11244.8,6938.5,8903.5,11169.4,10285.1,11330.6,9137.4,8616.8,8143.5,7068.4,6781.9,8070.0,8952.8,9245.1,9431.6,8674.1,8403.3,7119.3,7504.3,6885.9,6719.8,6256.6,6619.5,6667.1,6729.9,7723.0,8177.1,6943.6,6255.3,6268.1,6897.6,7264.2,6321.0,6251.9,6584.1,6608.2,6669.6,6699.8,6555.8,6335.0,6459.7,6446.1],\"type\":\"scatter\"}],                        {\"template\":{\"data\":{\"barpolar\":[{\"marker\":{\"line\":{\"color\":\"#E5ECF6\",\"width\":0.5},\"pattern\":{\"fillmode\":\"overlay\",\"size\":10,\"solidity\":0.2}},\"type\":\"barpolar\"}],\"bar\":[{\"error_x\":{\"color\":\"#2a3f5f\"},\"error_y\":{\"color\":\"#2a3f5f\"},\"marker\":{\"line\":{\"color\":\"#E5ECF6\",\"width\":0.5},\"pattern\":{\"fillmode\":\"overlay\",\"size\":10,\"solidity\":0.2}},\"type\":\"bar\"}],\"carpet\":[{\"aaxis\":{\"endlinecolor\":\"#2a3f5f\",\"gridcolor\":\"white\",\"linecolor\":\"white\",\"minorgridcolor\":\"white\",\"startlinecolor\":\"#2a3f5f\"},\"baxis\":{\"endlinecolor\":\"#2a3f5f\",\"gridcolor\":\"white\",\"linecolor\":\"white\",\"minorgridcolor\":\"white\",\"startlinecolor\":\"#2a3f5f\"},\"type\":\"carpet\"}],\"choropleth\":[{\"colorbar\":{\"outlinewidth\":0,\"ticks\":\"\"},\"type\":\"choropleth\"}],\"contourcarpet\":[{\"colorbar\":{\"outlinewidth\":0,\"ticks\":\"\"},\"type\":\"contourcarpet\"}],\"contour\":[{\"colorbar\":{\"outlinewidth\":0,\"ticks\":\"\"},\"colorscale\":[[0.0,\"#0d0887\"],[0.1111111111111111,\"#46039f\"],[0.2222222222222222,\"#7201a8\"],[0.3333333333333333,\"#9c179e\"],[0.4444444444444444,\"#bd3786\"],[0.5555555555555556,\"#d8576b\"],[0.6666666666666666,\"#ed7953\"],[0.7777777777777778,\"#fb9f3a\"],[0.8888888888888888,\"#fdca26\"],[1.0,\"#f0f921\"]],\"type\":\"contour\"}],\"heatmapgl\":[{\"colorbar\":{\"outlinewidth\":0,\"ticks\":\"\"},\"colorscale\":[[0.0,\"#0d0887\"],[0.1111111111111111,\"#46039f\"],[0.2222222222222222,\"#7201a8\"],[0.3333333333333333,\"#9c179e\"],[0.4444444444444444,\"#bd3786\"],[0.5555555555555556,\"#d8576b\"],[0.6666666666666666,\"#ed7953\"],[0.7777777777777778,\"#fb9f3a\"],[0.8888888888888888,\"#fdca26\"],[1.0,\"#f0f921\"]],\"type\":\"heatmapgl\"}],\"heatmap\":[{\"colorbar\":{\"outlinewidth\":0,\"ticks\":\"\"},\"colorscale\":[[0.0,\"#0d0887\"],[0.1111111111111111,\"#46039f\"],[0.2222222222222222,\"#7201a8\"],[0.3333333333333333,\"#9c179e\"],[0.4444444444444444,\"#bd3786\"],[0.5555555555555556,\"#d8576b\"],[0.6666666666666666,\"#ed7953\"],[0.7777777777777778,\"#fb9f3a\"],[0.8888888888888888,\"#fdca26\"],[1.0,\"#f0f921\"]],\"type\":\"heatmap\"}],\"histogram2dcontour\":[{\"colorbar\":{\"outlinewidth\":0,\"ticks\":\"\"},\"colorscale\":[[0.0,\"#0d0887\"],[0.1111111111111111,\"#46039f\"],[0.2222222222222222,\"#7201a8\"],[0.3333333333333333,\"#9c179e\"],[0.4444444444444444,\"#bd3786\"],[0.5555555555555556,\"#d8576b\"],[0.6666666666666666,\"#ed7953\"],[0.7777777777777778,\"#fb9f3a\"],[0.8888888888888888,\"#fdca26\"],[1.0,\"#f0f921\"]],\"type\":\"histogram2dcontour\"}],\"histogram2d\":[{\"colorbar\":{\"outlinewidth\":0,\"ticks\":\"\"},\"colorscale\":[[0.0,\"#0d0887\"],[0.1111111111111111,\"#46039f\"],[0.2222222222222222,\"#7201a8\"],[0.3333333333333333,\"#9c179e\"],[0.4444444444444444,\"#bd3786\"],[0.5555555555555556,\"#d8576b\"],[0.6666666666666666,\"#ed7953\"],[0.7777777777777778,\"#fb9f3a\"],[0.8888888888888888,\"#fdca26\"],[1.0,\"#f0f921\"]],\"type\":\"histogram2d\"}],\"histogram\":[{\"marker\":{\"pattern\":{\"fillmode\":\"overlay\",\"size\":10,\"solidity\":0.2}},\"type\":\"histogram\"}],\"mesh3d\":[{\"colorbar\":{\"outlinewidth\":0,\"ticks\":\"\"},\"type\":\"mesh3d\"}],\"parcoords\":[{\"line\":{\"colorbar\":{\"outlinewidth\":0,\"ticks\":\"\"}},\"type\":\"parcoords\"}],\"pie\":[{\"automargin\":true,\"type\":\"pie\"}],\"scatter3d\":[{\"line\":{\"colorbar\":{\"outlinewidth\":0,\"ticks\":\"\"}},\"marker\":{\"colorbar\":{\"outlinewidth\":0,\"ticks\":\"\"}},\"type\":\"scatter3d\"}],\"scattercarpet\":[{\"marker\":{\"colorbar\":{\"outlinewidth\":0,\"ticks\":\"\"}},\"type\":\"scattercarpet\"}],\"scattergeo\":[{\"marker\":{\"colorbar\":{\"outlinewidth\":0,\"ticks\":\"\"}},\"type\":\"scattergeo\"}],\"scattergl\":[{\"marker\":{\"colorbar\":{\"outlinewidth\":0,\"ticks\":\"\"}},\"type\":\"scattergl\"}],\"scattermapbox\":[{\"marker\":{\"colorbar\":{\"outlinewidth\":0,\"ticks\":\"\"}},\"type\":\"scattermapbox\"}],\"scatterpolargl\":[{\"marker\":{\"colorbar\":{\"outlinewidth\":0,\"ticks\":\"\"}},\"type\":\"scatterpolargl\"}],\"scatterpolar\":[{\"marker\":{\"colorbar\":{\"outlinewidth\":0,\"ticks\":\"\"}},\"type\":\"scatterpolar\"}],\"scatter\":[{\"fillpattern\":{\"fillmode\":\"overlay\",\"size\":10,\"solidity\":0.2},\"type\":\"scatter\"}],\"scatterternary\":[{\"marker\":{\"colorbar\":{\"outlinewidth\":0,\"ticks\":\"\"}},\"type\":\"scatterternary\"}],\"surface\":[{\"colorbar\":{\"outlinewidth\":0,\"ticks\":\"\"},\"colorscale\":[[0.0,\"#0d0887\"],[0.1111111111111111,\"#46039f\"],[0.2222222222222222,\"#7201a8\"],[0.3333333333333333,\"#9c179e\"],[0.4444444444444444,\"#bd3786\"],[0.5555555555555556,\"#d8576b\"],[0.6666666666666666,\"#ed7953\"],[0.7777777777777778,\"#fb9f3a\"],[0.8888888888888888,\"#fdca26\"],[1.0,\"#f0f921\"]],\"type\":\"surface\"}],\"table\":[{\"cells\":{\"fill\":{\"color\":\"#EBF0F8\"},\"line\":{\"color\":\"white\"}},\"header\":{\"fill\":{\"color\":\"#C8D4E3\"},\"line\":{\"color\":\"white\"}},\"type\":\"table\"}]},\"layout\":{\"annotationdefaults\":{\"arrowcolor\":\"#2a3f5f\",\"arrowhead\":0,\"arrowwidth\":1},\"autotypenumbers\":\"strict\",\"coloraxis\":{\"colorbar\":{\"outlinewidth\":0,\"ticks\":\"\"}},\"colorscale\":{\"diverging\":[[0,\"#8e0152\"],[0.1,\"#c51b7d\"],[0.2,\"#de77ae\"],[0.3,\"#f1b6da\"],[0.4,\"#fde0ef\"],[0.5,\"#f7f7f7\"],[0.6,\"#e6f5d0\"],[0.7,\"#b8e186\"],[0.8,\"#7fbc41\"],[0.9,\"#4d9221\"],[1,\"#276419\"]],\"sequential\":[[0.0,\"#0d0887\"],[0.1111111111111111,\"#46039f\"],[0.2222222222222222,\"#7201a8\"],[0.3333333333333333,\"#9c179e\"],[0.4444444444444444,\"#bd3786\"],[0.5555555555555556,\"#d8576b\"],[0.6666666666666666,\"#ed7953\"],[0.7777777777777778,\"#fb9f3a\"],[0.8888888888888888,\"#fdca26\"],[1.0,\"#f0f921\"]],\"sequentialminus\":[[0.0,\"#0d0887\"],[0.1111111111111111,\"#46039f\"],[0.2222222222222222,\"#7201a8\"],[0.3333333333333333,\"#9c179e\"],[0.4444444444444444,\"#bd3786\"],[0.5555555555555556,\"#d8576b\"],[0.6666666666666666,\"#ed7953\"],[0.7777777777777778,\"#fb9f3a\"],[0.8888888888888888,\"#fdca26\"],[1.0,\"#f0f921\"]]},\"colorway\":[\"#636efa\",\"#EF553B\",\"#00cc96\",\"#ab63fa\",\"#FFA15A\",\"#19d3f3\",\"#FF6692\",\"#B6E880\",\"#FF97FF\",\"#FECB52\"],\"font\":{\"color\":\"#2a3f5f\"},\"geo\":{\"bgcolor\":\"white\",\"lakecolor\":\"white\",\"landcolor\":\"#E5ECF6\",\"showlakes\":true,\"showland\":true,\"subunitcolor\":\"white\"},\"hoverlabel\":{\"align\":\"left\"},\"hovermode\":\"closest\",\"mapbox\":{\"style\":\"light\"},\"paper_bgcolor\":\"white\",\"plot_bgcolor\":\"#E5ECF6\",\"polar\":{\"angularaxis\":{\"gridcolor\":\"white\",\"linecolor\":\"white\",\"ticks\":\"\"},\"bgcolor\":\"#E5ECF6\",\"radialaxis\":{\"gridcolor\":\"white\",\"linecolor\":\"white\",\"ticks\":\"\"}},\"scene\":{\"xaxis\":{\"backgroundcolor\":\"#E5ECF6\",\"gridcolor\":\"white\",\"gridwidth\":2,\"linecolor\":\"white\",\"showbackground\":true,\"ticks\":\"\",\"zerolinecolor\":\"white\"},\"yaxis\":{\"backgroundcolor\":\"#E5ECF6\",\"gridcolor\":\"white\",\"gridwidth\":2,\"linecolor\":\"white\",\"showbackground\":true,\"ticks\":\"\",\"zerolinecolor\":\"white\"},\"zaxis\":{\"backgroundcolor\":\"#E5ECF6\",\"gridcolor\":\"white\",\"gridwidth\":2,\"linecolor\":\"white\",\"showbackground\":true,\"ticks\":\"\",\"zerolinecolor\":\"white\"}},\"shapedefaults\":{\"line\":{\"color\":\"#2a3f5f\"}},\"ternary\":{\"aaxis\":{\"gridcolor\":\"white\",\"linecolor\":\"white\",\"ticks\":\"\"},\"baxis\":{\"gridcolor\":\"white\",\"linecolor\":\"white\",\"ticks\":\"\"},\"bgcolor\":\"#E5ECF6\",\"caxis\":{\"gridcolor\":\"white\",\"linecolor\":\"white\",\"ticks\":\"\"}},\"title\":{\"x\":0.05},\"xaxis\":{\"automargin\":true,\"gridcolor\":\"white\",\"linecolor\":\"white\",\"ticks\":\"\",\"title\":{\"standoff\":15},\"zerolinecolor\":\"white\",\"zerolinewidth\":2},\"yaxis\":{\"automargin\":true,\"gridcolor\":\"white\",\"linecolor\":\"white\",\"ticks\":\"\",\"title\":{\"standoff\":15},\"zerolinecolor\":\"white\",\"zerolinewidth\":2}}},\"title\":{\"text\":\"Historical Bitcoin Prices (2015-2018) with the Slider\"},\"xaxis\":{\"rangeselector\":{\"buttons\":[{\"count\":1,\"label\":\"1m\",\"step\":\"month\",\"stepmode\":\"backward\"},{\"count\":6,\"label\":\"6m\",\"step\":\"month\",\"stepmode\":\"backward\"},{\"count\":12,\"label\":\"1y\",\"step\":\"month\",\"stepmode\":\"backward\"},{\"count\":36,\"label\":\"3y\",\"step\":\"month\",\"stepmode\":\"backward\"},{\"step\":\"all\"}]},\"rangeslider\":{\"visible\":true},\"type\":\"date\"}},                        {\"responsive\": true}                    ).then(function(){\n",
              "                            \n",
              "var gd = document.getElementById('93a1d8f2-c2ca-45b6-85b6-e7a94a1b1d21');\n",
              "var x = new MutationObserver(function (mutations, observer) {{\n",
              "        var display = window.getComputedStyle(gd).display;\n",
              "        if (!display || display === 'none') {{\n",
              "            console.log([gd, 'removed!']);\n",
              "            Plotly.purge(gd);\n",
              "            observer.disconnect();\n",
              "        }}\n",
              "}});\n",
              "\n",
              "// Listen for the removal of the full notebook cells\n",
              "var notebookContainer = gd.closest('#notebook-container');\n",
              "if (notebookContainer) {{\n",
              "    x.observe(notebookContainer, {childList: true});\n",
              "}}\n",
              "\n",
              "// Listen for the clearing of the current output cell\n",
              "var outputEl = gd.closest('.output');\n",
              "if (outputEl) {{\n",
              "    x.observe(outputEl, {childList: true});\n",
              "}}\n",
              "\n",
              "                        })                };                });            </script>        </div>"
            ]
          },
          "metadata": {}
        }
      ]
    },
    {
      "cell_type": "code",
      "source": [
        "def convert_volume(value):\n",
        "    if isinstance(value, str):\n",
        "        if 'K' in value:\n",
        "            return float(value.replace('K', '')) * 1e3  # 1K = 1000\n",
        "        elif 'M' in value:\n",
        "            return float(value.replace('M', '')) * 1e6  # 1M = 1,000,000\n",
        "        elif 'B' in value:\n",
        "            return float(value.replace('B', '')) * 1e9  # 1B = 1,000,000,000\n",
        "    return float(value)\n",
        "\n",
        "weekly_rows['Vol.'] = weekly_rows['Vol.'].apply(convert_volume)\n",
        "trace1 = go.Scatter(\n",
        "    x = weekly_rows['Date'],\n",
        "    y = weekly_rows['Vol.'].astype(float),\n",
        "    mode = 'lines',\n",
        "    name = 'Bitcoin Price (Open)'\n",
        ")\n",
        "\n",
        "layout = dict(\n",
        "    title='Historical Bitcoin Volume (USD) (2015-2018) with the slider',\n",
        "    xaxis=dict(\n",
        "        rangeselector=dict(\n",
        "            buttons=list([\n",
        "                dict(count=1,\n",
        "                     label='1m',\n",
        "                     step='month',\n",
        "                     stepmode='backward'),\n",
        "                dict(count=6,\n",
        "                     label='6m',\n",
        "                     step='month',\n",
        "                     stepmode='backward'),\n",
        "                dict(count=12,\n",
        "                     label='1y',\n",
        "                     step='month',\n",
        "                     stepmode='backward'),\n",
        "                dict(count=36,\n",
        "                     label='3y',\n",
        "                     step='month',\n",
        "                     stepmode='backward'),\n",
        "                dict(step='all')\n",
        "            ])\n",
        "        ),\n",
        "        rangeslider=dict(\n",
        "            visible = True\n",
        "        ),\n",
        "        type='date'\n",
        "    )\n",
        ")\n",
        "\n",
        "data = [trace1]\n",
        "fig = dict(data=data, layout=layout)\n",
        "iplot(fig, filename = \"Time Series with Rangeslider\")"
      ],
      "metadata": {
        "colab": {
          "base_uri": "https://localhost:8080/",
          "height": 542
        },
        "id": "NZXqeqbiviTk",
        "outputId": "cc8bce41-e031-49b0-a0dc-6cd27cd558e3"
      },
      "execution_count": 16,
      "outputs": [
        {
          "output_type": "display_data",
          "data": {
            "application/vnd.plotly.v1+json": {
              "data": [
                {
                  "mode": "lines",
                  "name": "Bitcoin Price (Open)",
                  "x": [
                    "2015-01-05T00:00:00+00:00",
                    "2015-01-12T00:00:00+00:00",
                    "2015-01-19T00:00:00+00:00",
                    "2015-01-26T00:00:00+00:00",
                    "2015-02-02T00:00:00+00:00",
                    "2015-02-09T00:00:00+00:00",
                    "2015-02-16T00:00:00+00:00",
                    "2015-02-23T00:00:00+00:00",
                    "2015-03-02T00:00:00+00:00",
                    "2015-03-09T00:00:00+00:00",
                    "2015-03-16T00:00:00+00:00",
                    "2015-03-23T00:00:00+00:00",
                    "2015-03-30T00:00:00+00:00",
                    "2015-04-06T00:00:00+00:00",
                    "2015-04-13T00:00:00+00:00",
                    "2015-04-20T00:00:00+00:00",
                    "2015-04-27T00:00:00+00:00",
                    "2015-05-04T00:00:00+00:00",
                    "2015-05-11T00:00:00+00:00",
                    "2015-05-18T00:00:00+00:00",
                    "2015-05-25T00:00:00+00:00",
                    "2015-06-01T00:00:00+00:00",
                    "2015-06-08T00:00:00+00:00",
                    "2015-06-15T00:00:00+00:00",
                    "2015-06-22T00:00:00+00:00",
                    "2015-06-29T00:00:00+00:00",
                    "2015-07-06T00:00:00+00:00",
                    "2015-07-13T00:00:00+00:00",
                    "2015-07-20T00:00:00+00:00",
                    "2015-07-27T00:00:00+00:00",
                    "2015-08-03T00:00:00+00:00",
                    "2015-08-10T00:00:00+00:00",
                    "2015-08-17T00:00:00+00:00",
                    "2015-08-24T00:00:00+00:00",
                    "2015-08-31T00:00:00+00:00",
                    "2015-09-07T00:00:00+00:00",
                    "2015-09-14T00:00:00+00:00",
                    "2015-09-21T00:00:00+00:00",
                    "2015-09-28T00:00:00+00:00",
                    "2015-10-05T00:00:00+00:00",
                    "2015-10-12T00:00:00+00:00",
                    "2015-10-19T00:00:00+00:00",
                    "2015-10-26T00:00:00+00:00",
                    "2015-11-02T00:00:00+00:00",
                    "2015-11-09T00:00:00+00:00",
                    "2015-11-16T00:00:00+00:00",
                    "2015-11-23T00:00:00+00:00",
                    "2015-11-30T00:00:00+00:00",
                    "2015-12-07T00:00:00+00:00",
                    "2015-12-14T00:00:00+00:00",
                    "2015-12-21T00:00:00+00:00",
                    "2015-12-28T00:00:00+00:00",
                    "2016-01-04T00:00:00+00:00",
                    "2016-01-11T00:00:00+00:00",
                    "2016-01-18T00:00:00+00:00",
                    "2016-01-25T00:00:00+00:00",
                    "2016-02-01T00:00:00+00:00",
                    "2016-02-08T00:00:00+00:00",
                    "2016-02-15T00:00:00+00:00",
                    "2016-02-22T00:00:00+00:00",
                    "2016-02-29T00:00:00+00:00",
                    "2016-03-07T00:00:00+00:00",
                    "2016-03-14T00:00:00+00:00",
                    "2016-03-21T00:00:00+00:00",
                    "2016-03-28T00:00:00+00:00",
                    "2016-04-04T00:00:00+00:00",
                    "2016-04-11T00:00:00+00:00",
                    "2016-04-18T00:00:00+00:00",
                    "2016-04-25T00:00:00+00:00",
                    "2016-05-02T00:00:00+00:00",
                    "2016-05-09T00:00:00+00:00",
                    "2016-05-16T00:00:00+00:00",
                    "2016-05-23T00:00:00+00:00",
                    "2016-05-30T00:00:00+00:00",
                    "2016-06-06T00:00:00+00:00",
                    "2016-06-13T00:00:00+00:00",
                    "2016-06-20T00:00:00+00:00",
                    "2016-06-27T00:00:00+00:00",
                    "2016-07-04T00:00:00+00:00",
                    "2016-07-11T00:00:00+00:00",
                    "2016-07-18T00:00:00+00:00",
                    "2016-07-25T00:00:00+00:00",
                    "2016-08-01T00:00:00+00:00",
                    "2016-08-08T00:00:00+00:00",
                    "2016-08-15T00:00:00+00:00",
                    "2016-08-22T00:00:00+00:00",
                    "2016-08-29T00:00:00+00:00",
                    "2016-09-05T00:00:00+00:00",
                    "2016-09-12T00:00:00+00:00",
                    "2016-09-19T00:00:00+00:00",
                    "2016-09-26T00:00:00+00:00",
                    "2016-10-03T00:00:00+00:00",
                    "2016-10-10T00:00:00+00:00",
                    "2016-10-17T00:00:00+00:00",
                    "2016-10-24T00:00:00+00:00",
                    "2016-10-31T00:00:00+00:00",
                    "2016-11-07T00:00:00+00:00",
                    "2016-11-14T00:00:00+00:00",
                    "2016-11-21T00:00:00+00:00",
                    "2016-11-28T00:00:00+00:00",
                    "2016-12-05T00:00:00+00:00",
                    "2016-12-12T00:00:00+00:00",
                    "2016-12-19T00:00:00+00:00",
                    "2016-12-26T00:00:00+00:00",
                    "2017-01-02T00:00:00+00:00",
                    "2017-01-09T00:00:00+00:00",
                    "2017-01-16T00:00:00+00:00",
                    "2017-01-23T00:00:00+00:00",
                    "2017-01-30T00:00:00+00:00",
                    "2017-02-06T00:00:00+00:00",
                    "2017-02-13T00:00:00+00:00",
                    "2017-02-20T00:00:00+00:00",
                    "2017-02-27T00:00:00+00:00",
                    "2017-03-06T00:00:00+00:00",
                    "2017-03-13T00:00:00+00:00",
                    "2017-03-20T00:00:00+00:00",
                    "2017-03-27T00:00:00+00:00",
                    "2017-04-03T00:00:00+00:00",
                    "2017-04-10T00:00:00+00:00",
                    "2017-04-17T00:00:00+00:00",
                    "2017-04-24T00:00:00+00:00",
                    "2017-05-01T00:00:00+00:00",
                    "2017-05-08T00:00:00+00:00",
                    "2017-05-15T00:00:00+00:00",
                    "2017-05-22T00:00:00+00:00",
                    "2017-05-29T00:00:00+00:00",
                    "2017-06-05T00:00:00+00:00",
                    "2017-06-12T00:00:00+00:00",
                    "2017-06-19T00:00:00+00:00",
                    "2017-06-26T00:00:00+00:00",
                    "2017-07-03T00:00:00+00:00",
                    "2017-07-10T00:00:00+00:00",
                    "2017-07-17T00:00:00+00:00",
                    "2017-07-24T00:00:00+00:00",
                    "2017-07-31T00:00:00+00:00",
                    "2017-08-07T00:00:00+00:00",
                    "2017-08-14T00:00:00+00:00",
                    "2017-08-21T00:00:00+00:00",
                    "2017-08-28T00:00:00+00:00",
                    "2017-09-04T00:00:00+00:00",
                    "2017-09-11T00:00:00+00:00",
                    "2017-09-18T00:00:00+00:00",
                    "2017-09-25T00:00:00+00:00",
                    "2017-10-02T00:00:00+00:00",
                    "2017-10-09T00:00:00+00:00",
                    "2017-10-16T00:00:00+00:00",
                    "2017-10-23T00:00:00+00:00",
                    "2017-10-30T00:00:00+00:00",
                    "2017-11-06T00:00:00+00:00",
                    "2017-11-13T00:00:00+00:00",
                    "2017-11-20T00:00:00+00:00",
                    "2017-11-27T00:00:00+00:00",
                    "2017-12-04T00:00:00+00:00",
                    "2017-12-11T00:00:00+00:00",
                    "2017-12-18T00:00:00+00:00",
                    "2017-12-25T00:00:00+00:00",
                    "2018-01-01T00:00:00+00:00",
                    "2018-01-08T00:00:00+00:00",
                    "2018-01-15T00:00:00+00:00",
                    "2018-01-22T00:00:00+00:00",
                    "2018-01-29T00:00:00+00:00",
                    "2018-02-05T00:00:00+00:00",
                    "2018-02-12T00:00:00+00:00",
                    "2018-02-19T00:00:00+00:00",
                    "2018-02-26T00:00:00+00:00",
                    "2018-03-05T00:00:00+00:00",
                    "2018-03-12T00:00:00+00:00",
                    "2018-03-19T00:00:00+00:00",
                    "2018-03-26T00:00:00+00:00",
                    "2018-04-02T00:00:00+00:00",
                    "2018-04-09T00:00:00+00:00",
                    "2018-04-16T00:00:00+00:00",
                    "2018-04-23T00:00:00+00:00",
                    "2018-04-30T00:00:00+00:00",
                    "2018-05-07T00:00:00+00:00",
                    "2018-05-14T00:00:00+00:00",
                    "2018-05-21T00:00:00+00:00",
                    "2018-05-28T00:00:00+00:00",
                    "2018-06-04T00:00:00+00:00",
                    "2018-06-11T00:00:00+00:00",
                    "2018-06-18T00:00:00+00:00",
                    "2018-06-25T00:00:00+00:00",
                    "2018-07-02T00:00:00+00:00",
                    "2018-07-09T00:00:00+00:00",
                    "2018-07-16T00:00:00+00:00",
                    "2018-07-23T00:00:00+00:00",
                    "2018-07-30T00:00:00+00:00",
                    "2018-08-06T00:00:00+00:00",
                    "2018-08-13T00:00:00+00:00",
                    "2018-08-20T00:00:00+00:00",
                    "2018-08-27T00:00:00+00:00",
                    "2018-09-03T00:00:00+00:00",
                    "2018-09-10T00:00:00+00:00",
                    "2018-09-17T00:00:00+00:00",
                    "2018-09-24T00:00:00+00:00",
                    "2018-10-01T00:00:00+00:00",
                    "2018-10-08T00:00:00+00:00",
                    "2018-10-15T00:00:00+00:00",
                    "2018-10-22T00:00:00+00:00",
                    "2018-10-29T00:00:00+00:00",
                    "2018-11-05T00:00:00+00:00",
                    "2018-11-12T00:00:00+00:00"
                  ],
                  "y": [
                    54990,
                    25390,
                    31580,
                    105710,
                    39020,
                    91690,
                    115470,
                    62670,
                    81090,
                    151770,
                    66340,
                    81450,
                    85330,
                    45930,
                    105150,
                    44870,
                    123410,
                    69120,
                    57170,
                    53140,
                    26390,
                    87060,
                    74150,
                    63470,
                    47590,
                    92640,
                    90580,
                    146850,
                    46600,
                    69710,
                    45890,
                    48570,
                    47880,
                    196700,
                    54510,
                    57190,
                    61100,
                    53430,
                    64280,
                    61240,
                    40390,
                    58170,
                    73210,
                    223100,
                    125540,
                    87140,
                    42730,
                    129770.00000000001,
                    96750,
                    218920,
                    121990,
                    68350,
                    53010,
                    56590,
                    69300,
                    67660,
                    74350,
                    62240,
                    86130,
                    56010,
                    68770,
                    61770,
                    49330,
                    43160,
                    43450,
                    33440,
                    36390,
                    32580,
                    81660,
                    73850,
                    48420,
                    36600,
                    35900,
                    77530,
                    63680,
                    216730,
                    112290,
                    99810,
                    63910,
                    45940,
                    42580,
                    34380,
                    66660,
                    24880,
                    33770,
                    33560,
                    23860,
                    25290,
                    27950,
                    21240,
                    27510,
                    21950,
                    25230,
                    27690,
                    33240,
                    38050,
                    30740,
                    37750,
                    32509.999999999996,
                    34120,
                    51170,
                    28760,
                    25460,
                    38790,
                    64950,
                    62580,
                    33220,
                    32740.000000000004,
                    19060,
                    32020.000000000004,
                    32910,
                    31010,
                    35470,
                    31030,
                    60460,
                    61430,
                    91260,
                    98500,
                    40010,
                    46480,
                    38540,
                    100440,
                    107230,
                    80240,
                    174380,
                    92240,
                    86690,
                    217960,
                    81830,
                    165830,
                    83420,
                    123800,
                    176890,
                    83010,
                    91120,
                    88110,
                    128460.00000000001,
                    90650,
                    75490,
                    170400,
                    88760,
                    147930,
                    100200,
                    71200,
                    110190,
                    61360,
                    137140,
                    78620,
                    159690,
                    178340,
                    75700,
                    106900,
                    93170,
                    159730,
                    139250,
                    107480,
                    78430,
                    142450,
                    73270,
                    201730,
                    137420,
                    593890,
                    238670,
                    215200,
                    235940,
                    162110,
                    257910.00000000003,
                    316960,
                    247180,
                    199310,
                    241190,
                    197700,
                    147540,
                    156830,
                    165080,
                    212050,
                    115520,
                    152290,
                    141010,
                    174880,
                    135700,
                    210690,
                    179920,
                    289480,
                    312120,
                    272150,
                    242210,
                    168870,
                    234090,
                    3100000,
                    3260000,
                    3870000,
                    3110000,
                    3260000,
                    7570000,
                    9190000,
                    119680,
                    443330,
                    101570,
                    160520,
                    128509.99999999999,
                    127400
                  ],
                  "type": "scatter"
                }
              ],
              "layout": {
                "template": {
                  "data": {
                    "barpolar": [
                      {
                        "marker": {
                          "line": {
                            "color": "#E5ECF6",
                            "width": 0.5
                          },
                          "pattern": {
                            "fillmode": "overlay",
                            "size": 10,
                            "solidity": 0.2
                          }
                        },
                        "type": "barpolar"
                      }
                    ],
                    "bar": [
                      {
                        "error_x": {
                          "color": "#2a3f5f"
                        },
                        "error_y": {
                          "color": "#2a3f5f"
                        },
                        "marker": {
                          "line": {
                            "color": "#E5ECF6",
                            "width": 0.5
                          },
                          "pattern": {
                            "fillmode": "overlay",
                            "size": 10,
                            "solidity": 0.2
                          }
                        },
                        "type": "bar"
                      }
                    ],
                    "carpet": [
                      {
                        "aaxis": {
                          "endlinecolor": "#2a3f5f",
                          "gridcolor": "white",
                          "linecolor": "white",
                          "minorgridcolor": "white",
                          "startlinecolor": "#2a3f5f"
                        },
                        "baxis": {
                          "endlinecolor": "#2a3f5f",
                          "gridcolor": "white",
                          "linecolor": "white",
                          "minorgridcolor": "white",
                          "startlinecolor": "#2a3f5f"
                        },
                        "type": "carpet"
                      }
                    ],
                    "choropleth": [
                      {
                        "colorbar": {
                          "outlinewidth": 0,
                          "ticks": ""
                        },
                        "type": "choropleth"
                      }
                    ],
                    "contourcarpet": [
                      {
                        "colorbar": {
                          "outlinewidth": 0,
                          "ticks": ""
                        },
                        "type": "contourcarpet"
                      }
                    ],
                    "contour": [
                      {
                        "colorbar": {
                          "outlinewidth": 0,
                          "ticks": ""
                        },
                        "colorscale": [
                          [
                            0,
                            "#0d0887"
                          ],
                          [
                            0.1111111111111111,
                            "#46039f"
                          ],
                          [
                            0.2222222222222222,
                            "#7201a8"
                          ],
                          [
                            0.3333333333333333,
                            "#9c179e"
                          ],
                          [
                            0.4444444444444444,
                            "#bd3786"
                          ],
                          [
                            0.5555555555555556,
                            "#d8576b"
                          ],
                          [
                            0.6666666666666666,
                            "#ed7953"
                          ],
                          [
                            0.7777777777777778,
                            "#fb9f3a"
                          ],
                          [
                            0.8888888888888888,
                            "#fdca26"
                          ],
                          [
                            1,
                            "#f0f921"
                          ]
                        ],
                        "type": "contour"
                      }
                    ],
                    "heatmapgl": [
                      {
                        "colorbar": {
                          "outlinewidth": 0,
                          "ticks": ""
                        },
                        "colorscale": [
                          [
                            0,
                            "#0d0887"
                          ],
                          [
                            0.1111111111111111,
                            "#46039f"
                          ],
                          [
                            0.2222222222222222,
                            "#7201a8"
                          ],
                          [
                            0.3333333333333333,
                            "#9c179e"
                          ],
                          [
                            0.4444444444444444,
                            "#bd3786"
                          ],
                          [
                            0.5555555555555556,
                            "#d8576b"
                          ],
                          [
                            0.6666666666666666,
                            "#ed7953"
                          ],
                          [
                            0.7777777777777778,
                            "#fb9f3a"
                          ],
                          [
                            0.8888888888888888,
                            "#fdca26"
                          ],
                          [
                            1,
                            "#f0f921"
                          ]
                        ],
                        "type": "heatmapgl"
                      }
                    ],
                    "heatmap": [
                      {
                        "colorbar": {
                          "outlinewidth": 0,
                          "ticks": ""
                        },
                        "colorscale": [
                          [
                            0,
                            "#0d0887"
                          ],
                          [
                            0.1111111111111111,
                            "#46039f"
                          ],
                          [
                            0.2222222222222222,
                            "#7201a8"
                          ],
                          [
                            0.3333333333333333,
                            "#9c179e"
                          ],
                          [
                            0.4444444444444444,
                            "#bd3786"
                          ],
                          [
                            0.5555555555555556,
                            "#d8576b"
                          ],
                          [
                            0.6666666666666666,
                            "#ed7953"
                          ],
                          [
                            0.7777777777777778,
                            "#fb9f3a"
                          ],
                          [
                            0.8888888888888888,
                            "#fdca26"
                          ],
                          [
                            1,
                            "#f0f921"
                          ]
                        ],
                        "type": "heatmap"
                      }
                    ],
                    "histogram2dcontour": [
                      {
                        "colorbar": {
                          "outlinewidth": 0,
                          "ticks": ""
                        },
                        "colorscale": [
                          [
                            0,
                            "#0d0887"
                          ],
                          [
                            0.1111111111111111,
                            "#46039f"
                          ],
                          [
                            0.2222222222222222,
                            "#7201a8"
                          ],
                          [
                            0.3333333333333333,
                            "#9c179e"
                          ],
                          [
                            0.4444444444444444,
                            "#bd3786"
                          ],
                          [
                            0.5555555555555556,
                            "#d8576b"
                          ],
                          [
                            0.6666666666666666,
                            "#ed7953"
                          ],
                          [
                            0.7777777777777778,
                            "#fb9f3a"
                          ],
                          [
                            0.8888888888888888,
                            "#fdca26"
                          ],
                          [
                            1,
                            "#f0f921"
                          ]
                        ],
                        "type": "histogram2dcontour"
                      }
                    ],
                    "histogram2d": [
                      {
                        "colorbar": {
                          "outlinewidth": 0,
                          "ticks": ""
                        },
                        "colorscale": [
                          [
                            0,
                            "#0d0887"
                          ],
                          [
                            0.1111111111111111,
                            "#46039f"
                          ],
                          [
                            0.2222222222222222,
                            "#7201a8"
                          ],
                          [
                            0.3333333333333333,
                            "#9c179e"
                          ],
                          [
                            0.4444444444444444,
                            "#bd3786"
                          ],
                          [
                            0.5555555555555556,
                            "#d8576b"
                          ],
                          [
                            0.6666666666666666,
                            "#ed7953"
                          ],
                          [
                            0.7777777777777778,
                            "#fb9f3a"
                          ],
                          [
                            0.8888888888888888,
                            "#fdca26"
                          ],
                          [
                            1,
                            "#f0f921"
                          ]
                        ],
                        "type": "histogram2d"
                      }
                    ],
                    "histogram": [
                      {
                        "marker": {
                          "pattern": {
                            "fillmode": "overlay",
                            "size": 10,
                            "solidity": 0.2
                          }
                        },
                        "type": "histogram"
                      }
                    ],
                    "mesh3d": [
                      {
                        "colorbar": {
                          "outlinewidth": 0,
                          "ticks": ""
                        },
                        "type": "mesh3d"
                      }
                    ],
                    "parcoords": [
                      {
                        "line": {
                          "colorbar": {
                            "outlinewidth": 0,
                            "ticks": ""
                          }
                        },
                        "type": "parcoords"
                      }
                    ],
                    "pie": [
                      {
                        "automargin": true,
                        "type": "pie"
                      }
                    ],
                    "scatter3d": [
                      {
                        "line": {
                          "colorbar": {
                            "outlinewidth": 0,
                            "ticks": ""
                          }
                        },
                        "marker": {
                          "colorbar": {
                            "outlinewidth": 0,
                            "ticks": ""
                          }
                        },
                        "type": "scatter3d"
                      }
                    ],
                    "scattercarpet": [
                      {
                        "marker": {
                          "colorbar": {
                            "outlinewidth": 0,
                            "ticks": ""
                          }
                        },
                        "type": "scattercarpet"
                      }
                    ],
                    "scattergeo": [
                      {
                        "marker": {
                          "colorbar": {
                            "outlinewidth": 0,
                            "ticks": ""
                          }
                        },
                        "type": "scattergeo"
                      }
                    ],
                    "scattergl": [
                      {
                        "marker": {
                          "colorbar": {
                            "outlinewidth": 0,
                            "ticks": ""
                          }
                        },
                        "type": "scattergl"
                      }
                    ],
                    "scattermapbox": [
                      {
                        "marker": {
                          "colorbar": {
                            "outlinewidth": 0,
                            "ticks": ""
                          }
                        },
                        "type": "scattermapbox"
                      }
                    ],
                    "scatterpolargl": [
                      {
                        "marker": {
                          "colorbar": {
                            "outlinewidth": 0,
                            "ticks": ""
                          }
                        },
                        "type": "scatterpolargl"
                      }
                    ],
                    "scatterpolar": [
                      {
                        "marker": {
                          "colorbar": {
                            "outlinewidth": 0,
                            "ticks": ""
                          }
                        },
                        "type": "scatterpolar"
                      }
                    ],
                    "scatter": [
                      {
                        "fillpattern": {
                          "fillmode": "overlay",
                          "size": 10,
                          "solidity": 0.2
                        },
                        "type": "scatter"
                      }
                    ],
                    "scatterternary": [
                      {
                        "marker": {
                          "colorbar": {
                            "outlinewidth": 0,
                            "ticks": ""
                          }
                        },
                        "type": "scatterternary"
                      }
                    ],
                    "surface": [
                      {
                        "colorbar": {
                          "outlinewidth": 0,
                          "ticks": ""
                        },
                        "colorscale": [
                          [
                            0,
                            "#0d0887"
                          ],
                          [
                            0.1111111111111111,
                            "#46039f"
                          ],
                          [
                            0.2222222222222222,
                            "#7201a8"
                          ],
                          [
                            0.3333333333333333,
                            "#9c179e"
                          ],
                          [
                            0.4444444444444444,
                            "#bd3786"
                          ],
                          [
                            0.5555555555555556,
                            "#d8576b"
                          ],
                          [
                            0.6666666666666666,
                            "#ed7953"
                          ],
                          [
                            0.7777777777777778,
                            "#fb9f3a"
                          ],
                          [
                            0.8888888888888888,
                            "#fdca26"
                          ],
                          [
                            1,
                            "#f0f921"
                          ]
                        ],
                        "type": "surface"
                      }
                    ],
                    "table": [
                      {
                        "cells": {
                          "fill": {
                            "color": "#EBF0F8"
                          },
                          "line": {
                            "color": "white"
                          }
                        },
                        "header": {
                          "fill": {
                            "color": "#C8D4E3"
                          },
                          "line": {
                            "color": "white"
                          }
                        },
                        "type": "table"
                      }
                    ]
                  },
                  "layout": {
                    "annotationdefaults": {
                      "arrowcolor": "#2a3f5f",
                      "arrowhead": 0,
                      "arrowwidth": 1
                    },
                    "autotypenumbers": "strict",
                    "coloraxis": {
                      "colorbar": {
                        "outlinewidth": 0,
                        "ticks": ""
                      }
                    },
                    "colorscale": {
                      "diverging": [
                        [
                          0,
                          "#8e0152"
                        ],
                        [
                          0.1,
                          "#c51b7d"
                        ],
                        [
                          0.2,
                          "#de77ae"
                        ],
                        [
                          0.3,
                          "#f1b6da"
                        ],
                        [
                          0.4,
                          "#fde0ef"
                        ],
                        [
                          0.5,
                          "#f7f7f7"
                        ],
                        [
                          0.6,
                          "#e6f5d0"
                        ],
                        [
                          0.7,
                          "#b8e186"
                        ],
                        [
                          0.8,
                          "#7fbc41"
                        ],
                        [
                          0.9,
                          "#4d9221"
                        ],
                        [
                          1,
                          "#276419"
                        ]
                      ],
                      "sequential": [
                        [
                          0,
                          "#0d0887"
                        ],
                        [
                          0.1111111111111111,
                          "#46039f"
                        ],
                        [
                          0.2222222222222222,
                          "#7201a8"
                        ],
                        [
                          0.3333333333333333,
                          "#9c179e"
                        ],
                        [
                          0.4444444444444444,
                          "#bd3786"
                        ],
                        [
                          0.5555555555555556,
                          "#d8576b"
                        ],
                        [
                          0.6666666666666666,
                          "#ed7953"
                        ],
                        [
                          0.7777777777777778,
                          "#fb9f3a"
                        ],
                        [
                          0.8888888888888888,
                          "#fdca26"
                        ],
                        [
                          1,
                          "#f0f921"
                        ]
                      ],
                      "sequentialminus": [
                        [
                          0,
                          "#0d0887"
                        ],
                        [
                          0.1111111111111111,
                          "#46039f"
                        ],
                        [
                          0.2222222222222222,
                          "#7201a8"
                        ],
                        [
                          0.3333333333333333,
                          "#9c179e"
                        ],
                        [
                          0.4444444444444444,
                          "#bd3786"
                        ],
                        [
                          0.5555555555555556,
                          "#d8576b"
                        ],
                        [
                          0.6666666666666666,
                          "#ed7953"
                        ],
                        [
                          0.7777777777777778,
                          "#fb9f3a"
                        ],
                        [
                          0.8888888888888888,
                          "#fdca26"
                        ],
                        [
                          1,
                          "#f0f921"
                        ]
                      ]
                    },
                    "colorway": [
                      "#636efa",
                      "#EF553B",
                      "#00cc96",
                      "#ab63fa",
                      "#FFA15A",
                      "#19d3f3",
                      "#FF6692",
                      "#B6E880",
                      "#FF97FF",
                      "#FECB52"
                    ],
                    "font": {
                      "color": "#2a3f5f"
                    },
                    "geo": {
                      "bgcolor": "white",
                      "lakecolor": "white",
                      "landcolor": "#E5ECF6",
                      "showlakes": true,
                      "showland": true,
                      "subunitcolor": "white"
                    },
                    "hoverlabel": {
                      "align": "left"
                    },
                    "hovermode": "closest",
                    "mapbox": {
                      "style": "light"
                    },
                    "paper_bgcolor": "white",
                    "plot_bgcolor": "#E5ECF6",
                    "polar": {
                      "angularaxis": {
                        "gridcolor": "white",
                        "linecolor": "white",
                        "ticks": ""
                      },
                      "bgcolor": "#E5ECF6",
                      "radialaxis": {
                        "gridcolor": "white",
                        "linecolor": "white",
                        "ticks": ""
                      }
                    },
                    "scene": {
                      "xaxis": {
                        "backgroundcolor": "#E5ECF6",
                        "gridcolor": "white",
                        "gridwidth": 2,
                        "linecolor": "white",
                        "showbackground": true,
                        "ticks": "",
                        "zerolinecolor": "white"
                      },
                      "yaxis": {
                        "backgroundcolor": "#E5ECF6",
                        "gridcolor": "white",
                        "gridwidth": 2,
                        "linecolor": "white",
                        "showbackground": true,
                        "ticks": "",
                        "zerolinecolor": "white"
                      },
                      "zaxis": {
                        "backgroundcolor": "#E5ECF6",
                        "gridcolor": "white",
                        "gridwidth": 2,
                        "linecolor": "white",
                        "showbackground": true,
                        "ticks": "",
                        "zerolinecolor": "white"
                      }
                    },
                    "shapedefaults": {
                      "line": {
                        "color": "#2a3f5f"
                      }
                    },
                    "ternary": {
                      "aaxis": {
                        "gridcolor": "white",
                        "linecolor": "white",
                        "ticks": ""
                      },
                      "baxis": {
                        "gridcolor": "white",
                        "linecolor": "white",
                        "ticks": ""
                      },
                      "bgcolor": "#E5ECF6",
                      "caxis": {
                        "gridcolor": "white",
                        "linecolor": "white",
                        "ticks": ""
                      }
                    },
                    "title": {
                      "x": 0.05
                    },
                    "xaxis": {
                      "automargin": true,
                      "gridcolor": "white",
                      "linecolor": "white",
                      "ticks": "",
                      "title": {
                        "standoff": 15
                      },
                      "zerolinecolor": "white",
                      "zerolinewidth": 2
                    },
                    "yaxis": {
                      "automargin": true,
                      "gridcolor": "white",
                      "linecolor": "white",
                      "ticks": "",
                      "title": {
                        "standoff": 15
                      },
                      "zerolinecolor": "white",
                      "zerolinewidth": 2
                    }
                  }
                },
                "title": {
                  "text": "Historical Bitcoin Volume (USD) (2015-2018) with the slider"
                },
                "xaxis": {
                  "rangeselector": {
                    "buttons": [
                      {
                        "count": 1,
                        "label": "1m",
                        "step": "month",
                        "stepmode": "backward"
                      },
                      {
                        "count": 6,
                        "label": "6m",
                        "step": "month",
                        "stepmode": "backward"
                      },
                      {
                        "count": 12,
                        "label": "1y",
                        "step": "month",
                        "stepmode": "backward"
                      },
                      {
                        "count": 36,
                        "label": "3y",
                        "step": "month",
                        "stepmode": "backward"
                      },
                      {
                        "step": "all"
                      }
                    ]
                  },
                  "rangeslider": {
                    "visible": true
                  },
                  "type": "date"
                }
              },
              "config": {
                "showLink": false,
                "linkText": "Export to plot.ly",
                "plotlyServerURL": "https://plot.ly"
              }
            },
            "text/html": [
              "<div>                            <div id=\"74934d32-ef2a-4d45-9646-9fe911102023\" class=\"plotly-graph-div\" style=\"height:525px; width:100%;\"></div>            <script type=\"text/javascript\">                require([\"plotly\"], function(Plotly) {                    window.PLOTLYENV=window.PLOTLYENV || {};                                    if (document.getElementById(\"74934d32-ef2a-4d45-9646-9fe911102023\")) {                    Plotly.newPlot(                        \"74934d32-ef2a-4d45-9646-9fe911102023\",                        [{\"mode\":\"lines\",\"name\":\"Bitcoin Price (Open)\",\"x\":[\"2015-01-05T00:00:00+00:00\",\"2015-01-12T00:00:00+00:00\",\"2015-01-19T00:00:00+00:00\",\"2015-01-26T00:00:00+00:00\",\"2015-02-02T00:00:00+00:00\",\"2015-02-09T00:00:00+00:00\",\"2015-02-16T00:00:00+00:00\",\"2015-02-23T00:00:00+00:00\",\"2015-03-02T00:00:00+00:00\",\"2015-03-09T00:00:00+00:00\",\"2015-03-16T00:00:00+00:00\",\"2015-03-23T00:00:00+00:00\",\"2015-03-30T00:00:00+00:00\",\"2015-04-06T00:00:00+00:00\",\"2015-04-13T00:00:00+00:00\",\"2015-04-20T00:00:00+00:00\",\"2015-04-27T00:00:00+00:00\",\"2015-05-04T00:00:00+00:00\",\"2015-05-11T00:00:00+00:00\",\"2015-05-18T00:00:00+00:00\",\"2015-05-25T00:00:00+00:00\",\"2015-06-01T00:00:00+00:00\",\"2015-06-08T00:00:00+00:00\",\"2015-06-15T00:00:00+00:00\",\"2015-06-22T00:00:00+00:00\",\"2015-06-29T00:00:00+00:00\",\"2015-07-06T00:00:00+00:00\",\"2015-07-13T00:00:00+00:00\",\"2015-07-20T00:00:00+00:00\",\"2015-07-27T00:00:00+00:00\",\"2015-08-03T00:00:00+00:00\",\"2015-08-10T00:00:00+00:00\",\"2015-08-17T00:00:00+00:00\",\"2015-08-24T00:00:00+00:00\",\"2015-08-31T00:00:00+00:00\",\"2015-09-07T00:00:00+00:00\",\"2015-09-14T00:00:00+00:00\",\"2015-09-21T00:00:00+00:00\",\"2015-09-28T00:00:00+00:00\",\"2015-10-05T00:00:00+00:00\",\"2015-10-12T00:00:00+00:00\",\"2015-10-19T00:00:00+00:00\",\"2015-10-26T00:00:00+00:00\",\"2015-11-02T00:00:00+00:00\",\"2015-11-09T00:00:00+00:00\",\"2015-11-16T00:00:00+00:00\",\"2015-11-23T00:00:00+00:00\",\"2015-11-30T00:00:00+00:00\",\"2015-12-07T00:00:00+00:00\",\"2015-12-14T00:00:00+00:00\",\"2015-12-21T00:00:00+00:00\",\"2015-12-28T00:00:00+00:00\",\"2016-01-04T00:00:00+00:00\",\"2016-01-11T00:00:00+00:00\",\"2016-01-18T00:00:00+00:00\",\"2016-01-25T00:00:00+00:00\",\"2016-02-01T00:00:00+00:00\",\"2016-02-08T00:00:00+00:00\",\"2016-02-15T00:00:00+00:00\",\"2016-02-22T00:00:00+00:00\",\"2016-02-29T00:00:00+00:00\",\"2016-03-07T00:00:00+00:00\",\"2016-03-14T00:00:00+00:00\",\"2016-03-21T00:00:00+00:00\",\"2016-03-28T00:00:00+00:00\",\"2016-04-04T00:00:00+00:00\",\"2016-04-11T00:00:00+00:00\",\"2016-04-18T00:00:00+00:00\",\"2016-04-25T00:00:00+00:00\",\"2016-05-02T00:00:00+00:00\",\"2016-05-09T00:00:00+00:00\",\"2016-05-16T00:00:00+00:00\",\"2016-05-23T00:00:00+00:00\",\"2016-05-30T00:00:00+00:00\",\"2016-06-06T00:00:00+00:00\",\"2016-06-13T00:00:00+00:00\",\"2016-06-20T00:00:00+00:00\",\"2016-06-27T00:00:00+00:00\",\"2016-07-04T00:00:00+00:00\",\"2016-07-11T00:00:00+00:00\",\"2016-07-18T00:00:00+00:00\",\"2016-07-25T00:00:00+00:00\",\"2016-08-01T00:00:00+00:00\",\"2016-08-08T00:00:00+00:00\",\"2016-08-15T00:00:00+00:00\",\"2016-08-22T00:00:00+00:00\",\"2016-08-29T00:00:00+00:00\",\"2016-09-05T00:00:00+00:00\",\"2016-09-12T00:00:00+00:00\",\"2016-09-19T00:00:00+00:00\",\"2016-09-26T00:00:00+00:00\",\"2016-10-03T00:00:00+00:00\",\"2016-10-10T00:00:00+00:00\",\"2016-10-17T00:00:00+00:00\",\"2016-10-24T00:00:00+00:00\",\"2016-10-31T00:00:00+00:00\",\"2016-11-07T00:00:00+00:00\",\"2016-11-14T00:00:00+00:00\",\"2016-11-21T00:00:00+00:00\",\"2016-11-28T00:00:00+00:00\",\"2016-12-05T00:00:00+00:00\",\"2016-12-12T00:00:00+00:00\",\"2016-12-19T00:00:00+00:00\",\"2016-12-26T00:00:00+00:00\",\"2017-01-02T00:00:00+00:00\",\"2017-01-09T00:00:00+00:00\",\"2017-01-16T00:00:00+00:00\",\"2017-01-23T00:00:00+00:00\",\"2017-01-30T00:00:00+00:00\",\"2017-02-06T00:00:00+00:00\",\"2017-02-13T00:00:00+00:00\",\"2017-02-20T00:00:00+00:00\",\"2017-02-27T00:00:00+00:00\",\"2017-03-06T00:00:00+00:00\",\"2017-03-13T00:00:00+00:00\",\"2017-03-20T00:00:00+00:00\",\"2017-03-27T00:00:00+00:00\",\"2017-04-03T00:00:00+00:00\",\"2017-04-10T00:00:00+00:00\",\"2017-04-17T00:00:00+00:00\",\"2017-04-24T00:00:00+00:00\",\"2017-05-01T00:00:00+00:00\",\"2017-05-08T00:00:00+00:00\",\"2017-05-15T00:00:00+00:00\",\"2017-05-22T00:00:00+00:00\",\"2017-05-29T00:00:00+00:00\",\"2017-06-05T00:00:00+00:00\",\"2017-06-12T00:00:00+00:00\",\"2017-06-19T00:00:00+00:00\",\"2017-06-26T00:00:00+00:00\",\"2017-07-03T00:00:00+00:00\",\"2017-07-10T00:00:00+00:00\",\"2017-07-17T00:00:00+00:00\",\"2017-07-24T00:00:00+00:00\",\"2017-07-31T00:00:00+00:00\",\"2017-08-07T00:00:00+00:00\",\"2017-08-14T00:00:00+00:00\",\"2017-08-21T00:00:00+00:00\",\"2017-08-28T00:00:00+00:00\",\"2017-09-04T00:00:00+00:00\",\"2017-09-11T00:00:00+00:00\",\"2017-09-18T00:00:00+00:00\",\"2017-09-25T00:00:00+00:00\",\"2017-10-02T00:00:00+00:00\",\"2017-10-09T00:00:00+00:00\",\"2017-10-16T00:00:00+00:00\",\"2017-10-23T00:00:00+00:00\",\"2017-10-30T00:00:00+00:00\",\"2017-11-06T00:00:00+00:00\",\"2017-11-13T00:00:00+00:00\",\"2017-11-20T00:00:00+00:00\",\"2017-11-27T00:00:00+00:00\",\"2017-12-04T00:00:00+00:00\",\"2017-12-11T00:00:00+00:00\",\"2017-12-18T00:00:00+00:00\",\"2017-12-25T00:00:00+00:00\",\"2018-01-01T00:00:00+00:00\",\"2018-01-08T00:00:00+00:00\",\"2018-01-15T00:00:00+00:00\",\"2018-01-22T00:00:00+00:00\",\"2018-01-29T00:00:00+00:00\",\"2018-02-05T00:00:00+00:00\",\"2018-02-12T00:00:00+00:00\",\"2018-02-19T00:00:00+00:00\",\"2018-02-26T00:00:00+00:00\",\"2018-03-05T00:00:00+00:00\",\"2018-03-12T00:00:00+00:00\",\"2018-03-19T00:00:00+00:00\",\"2018-03-26T00:00:00+00:00\",\"2018-04-02T00:00:00+00:00\",\"2018-04-09T00:00:00+00:00\",\"2018-04-16T00:00:00+00:00\",\"2018-04-23T00:00:00+00:00\",\"2018-04-30T00:00:00+00:00\",\"2018-05-07T00:00:00+00:00\",\"2018-05-14T00:00:00+00:00\",\"2018-05-21T00:00:00+00:00\",\"2018-05-28T00:00:00+00:00\",\"2018-06-04T00:00:00+00:00\",\"2018-06-11T00:00:00+00:00\",\"2018-06-18T00:00:00+00:00\",\"2018-06-25T00:00:00+00:00\",\"2018-07-02T00:00:00+00:00\",\"2018-07-09T00:00:00+00:00\",\"2018-07-16T00:00:00+00:00\",\"2018-07-23T00:00:00+00:00\",\"2018-07-30T00:00:00+00:00\",\"2018-08-06T00:00:00+00:00\",\"2018-08-13T00:00:00+00:00\",\"2018-08-20T00:00:00+00:00\",\"2018-08-27T00:00:00+00:00\",\"2018-09-03T00:00:00+00:00\",\"2018-09-10T00:00:00+00:00\",\"2018-09-17T00:00:00+00:00\",\"2018-09-24T00:00:00+00:00\",\"2018-10-01T00:00:00+00:00\",\"2018-10-08T00:00:00+00:00\",\"2018-10-15T00:00:00+00:00\",\"2018-10-22T00:00:00+00:00\",\"2018-10-29T00:00:00+00:00\",\"2018-11-05T00:00:00+00:00\",\"2018-11-12T00:00:00+00:00\"],\"y\":[54990.0,25390.0,31580.0,105710.0,39020.0,91690.0,115470.0,62670.0,81090.0,151770.0,66340.0,81450.0,85330.0,45930.0,105150.0,44870.0,123410.0,69120.0,57170.0,53140.0,26390.0,87060.0,74150.0,63470.0,47590.0,92640.0,90580.0,146850.0,46600.0,69710.0,45890.0,48570.0,47880.0,196700.0,54510.0,57190.0,61100.0,53430.0,64280.0,61240.0,40390.0,58170.0,73210.0,223100.0,125540.0,87140.0,42730.0,129770.00000000001,96750.0,218920.0,121990.0,68350.0,53010.0,56590.0,69300.0,67660.0,74350.0,62240.0,86130.0,56010.0,68770.0,61770.0,49330.0,43160.0,43450.0,33440.0,36390.0,32580.0,81660.0,73850.0,48420.0,36600.0,35900.0,77530.0,63680.0,216730.0,112290.0,99810.0,63910.0,45940.0,42580.0,34380.0,66660.0,24880.0,33770.0,33560.0,23860.0,25290.0,27950.0,21240.0,27510.0,21950.0,25230.0,27690.0,33240.0,38050.0,30740.0,37750.0,32509.999999999996,34120.0,51170.0,28760.0,25460.0,38790.0,64950.0,62580.0,33220.0,32740.000000000004,19060.0,32020.000000000004,32910.0,31010.0,35470.0,31030.0,60460.0,61430.0,91260.0,98500.0,40010.0,46480.0,38540.0,100440.0,107230.0,80240.0,174380.0,92240.0,86690.0,217960.0,81830.0,165830.0,83420.0,123800.0,176890.0,83010.0,91120.0,88110.0,128460.00000000001,90650.0,75490.0,170400.0,88760.0,147930.0,100200.0,71200.0,110190.0,61360.0,137140.0,78620.0,159690.0,178340.0,75700.0,106900.0,93170.0,159730.0,139250.0,107480.0,78430.0,142450.0,73270.0,201730.0,137420.0,593890.0,238670.0,215200.0,235940.0,162110.0,257910.00000000003,316960.0,247180.0,199310.0,241190.0,197700.0,147540.0,156830.0,165080.0,212050.0,115520.0,152290.0,141010.0,174880.0,135700.0,210690.0,179920.0,289480.0,312120.0,272150.0,242210.0,168870.0,234090.0,3100000.0,3260000.0,3870000.0,3110000.0,3260000.0,7570000.0,9190000.0,119680.0,443330.0,101570.0,160520.0,128509.99999999999,127400.0],\"type\":\"scatter\"}],                        {\"template\":{\"data\":{\"barpolar\":[{\"marker\":{\"line\":{\"color\":\"#E5ECF6\",\"width\":0.5},\"pattern\":{\"fillmode\":\"overlay\",\"size\":10,\"solidity\":0.2}},\"type\":\"barpolar\"}],\"bar\":[{\"error_x\":{\"color\":\"#2a3f5f\"},\"error_y\":{\"color\":\"#2a3f5f\"},\"marker\":{\"line\":{\"color\":\"#E5ECF6\",\"width\":0.5},\"pattern\":{\"fillmode\":\"overlay\",\"size\":10,\"solidity\":0.2}},\"type\":\"bar\"}],\"carpet\":[{\"aaxis\":{\"endlinecolor\":\"#2a3f5f\",\"gridcolor\":\"white\",\"linecolor\":\"white\",\"minorgridcolor\":\"white\",\"startlinecolor\":\"#2a3f5f\"},\"baxis\":{\"endlinecolor\":\"#2a3f5f\",\"gridcolor\":\"white\",\"linecolor\":\"white\",\"minorgridcolor\":\"white\",\"startlinecolor\":\"#2a3f5f\"},\"type\":\"carpet\"}],\"choropleth\":[{\"colorbar\":{\"outlinewidth\":0,\"ticks\":\"\"},\"type\":\"choropleth\"}],\"contourcarpet\":[{\"colorbar\":{\"outlinewidth\":0,\"ticks\":\"\"},\"type\":\"contourcarpet\"}],\"contour\":[{\"colorbar\":{\"outlinewidth\":0,\"ticks\":\"\"},\"colorscale\":[[0.0,\"#0d0887\"],[0.1111111111111111,\"#46039f\"],[0.2222222222222222,\"#7201a8\"],[0.3333333333333333,\"#9c179e\"],[0.4444444444444444,\"#bd3786\"],[0.5555555555555556,\"#d8576b\"],[0.6666666666666666,\"#ed7953\"],[0.7777777777777778,\"#fb9f3a\"],[0.8888888888888888,\"#fdca26\"],[1.0,\"#f0f921\"]],\"type\":\"contour\"}],\"heatmapgl\":[{\"colorbar\":{\"outlinewidth\":0,\"ticks\":\"\"},\"colorscale\":[[0.0,\"#0d0887\"],[0.1111111111111111,\"#46039f\"],[0.2222222222222222,\"#7201a8\"],[0.3333333333333333,\"#9c179e\"],[0.4444444444444444,\"#bd3786\"],[0.5555555555555556,\"#d8576b\"],[0.6666666666666666,\"#ed7953\"],[0.7777777777777778,\"#fb9f3a\"],[0.8888888888888888,\"#fdca26\"],[1.0,\"#f0f921\"]],\"type\":\"heatmapgl\"}],\"heatmap\":[{\"colorbar\":{\"outlinewidth\":0,\"ticks\":\"\"},\"colorscale\":[[0.0,\"#0d0887\"],[0.1111111111111111,\"#46039f\"],[0.2222222222222222,\"#7201a8\"],[0.3333333333333333,\"#9c179e\"],[0.4444444444444444,\"#bd3786\"],[0.5555555555555556,\"#d8576b\"],[0.6666666666666666,\"#ed7953\"],[0.7777777777777778,\"#fb9f3a\"],[0.8888888888888888,\"#fdca26\"],[1.0,\"#f0f921\"]],\"type\":\"heatmap\"}],\"histogram2dcontour\":[{\"colorbar\":{\"outlinewidth\":0,\"ticks\":\"\"},\"colorscale\":[[0.0,\"#0d0887\"],[0.1111111111111111,\"#46039f\"],[0.2222222222222222,\"#7201a8\"],[0.3333333333333333,\"#9c179e\"],[0.4444444444444444,\"#bd3786\"],[0.5555555555555556,\"#d8576b\"],[0.6666666666666666,\"#ed7953\"],[0.7777777777777778,\"#fb9f3a\"],[0.8888888888888888,\"#fdca26\"],[1.0,\"#f0f921\"]],\"type\":\"histogram2dcontour\"}],\"histogram2d\":[{\"colorbar\":{\"outlinewidth\":0,\"ticks\":\"\"},\"colorscale\":[[0.0,\"#0d0887\"],[0.1111111111111111,\"#46039f\"],[0.2222222222222222,\"#7201a8\"],[0.3333333333333333,\"#9c179e\"],[0.4444444444444444,\"#bd3786\"],[0.5555555555555556,\"#d8576b\"],[0.6666666666666666,\"#ed7953\"],[0.7777777777777778,\"#fb9f3a\"],[0.8888888888888888,\"#fdca26\"],[1.0,\"#f0f921\"]],\"type\":\"histogram2d\"}],\"histogram\":[{\"marker\":{\"pattern\":{\"fillmode\":\"overlay\",\"size\":10,\"solidity\":0.2}},\"type\":\"histogram\"}],\"mesh3d\":[{\"colorbar\":{\"outlinewidth\":0,\"ticks\":\"\"},\"type\":\"mesh3d\"}],\"parcoords\":[{\"line\":{\"colorbar\":{\"outlinewidth\":0,\"ticks\":\"\"}},\"type\":\"parcoords\"}],\"pie\":[{\"automargin\":true,\"type\":\"pie\"}],\"scatter3d\":[{\"line\":{\"colorbar\":{\"outlinewidth\":0,\"ticks\":\"\"}},\"marker\":{\"colorbar\":{\"outlinewidth\":0,\"ticks\":\"\"}},\"type\":\"scatter3d\"}],\"scattercarpet\":[{\"marker\":{\"colorbar\":{\"outlinewidth\":0,\"ticks\":\"\"}},\"type\":\"scattercarpet\"}],\"scattergeo\":[{\"marker\":{\"colorbar\":{\"outlinewidth\":0,\"ticks\":\"\"}},\"type\":\"scattergeo\"}],\"scattergl\":[{\"marker\":{\"colorbar\":{\"outlinewidth\":0,\"ticks\":\"\"}},\"type\":\"scattergl\"}],\"scattermapbox\":[{\"marker\":{\"colorbar\":{\"outlinewidth\":0,\"ticks\":\"\"}},\"type\":\"scattermapbox\"}],\"scatterpolargl\":[{\"marker\":{\"colorbar\":{\"outlinewidth\":0,\"ticks\":\"\"}},\"type\":\"scatterpolargl\"}],\"scatterpolar\":[{\"marker\":{\"colorbar\":{\"outlinewidth\":0,\"ticks\":\"\"}},\"type\":\"scatterpolar\"}],\"scatter\":[{\"fillpattern\":{\"fillmode\":\"overlay\",\"size\":10,\"solidity\":0.2},\"type\":\"scatter\"}],\"scatterternary\":[{\"marker\":{\"colorbar\":{\"outlinewidth\":0,\"ticks\":\"\"}},\"type\":\"scatterternary\"}],\"surface\":[{\"colorbar\":{\"outlinewidth\":0,\"ticks\":\"\"},\"colorscale\":[[0.0,\"#0d0887\"],[0.1111111111111111,\"#46039f\"],[0.2222222222222222,\"#7201a8\"],[0.3333333333333333,\"#9c179e\"],[0.4444444444444444,\"#bd3786\"],[0.5555555555555556,\"#d8576b\"],[0.6666666666666666,\"#ed7953\"],[0.7777777777777778,\"#fb9f3a\"],[0.8888888888888888,\"#fdca26\"],[1.0,\"#f0f921\"]],\"type\":\"surface\"}],\"table\":[{\"cells\":{\"fill\":{\"color\":\"#EBF0F8\"},\"line\":{\"color\":\"white\"}},\"header\":{\"fill\":{\"color\":\"#C8D4E3\"},\"line\":{\"color\":\"white\"}},\"type\":\"table\"}]},\"layout\":{\"annotationdefaults\":{\"arrowcolor\":\"#2a3f5f\",\"arrowhead\":0,\"arrowwidth\":1},\"autotypenumbers\":\"strict\",\"coloraxis\":{\"colorbar\":{\"outlinewidth\":0,\"ticks\":\"\"}},\"colorscale\":{\"diverging\":[[0,\"#8e0152\"],[0.1,\"#c51b7d\"],[0.2,\"#de77ae\"],[0.3,\"#f1b6da\"],[0.4,\"#fde0ef\"],[0.5,\"#f7f7f7\"],[0.6,\"#e6f5d0\"],[0.7,\"#b8e186\"],[0.8,\"#7fbc41\"],[0.9,\"#4d9221\"],[1,\"#276419\"]],\"sequential\":[[0.0,\"#0d0887\"],[0.1111111111111111,\"#46039f\"],[0.2222222222222222,\"#7201a8\"],[0.3333333333333333,\"#9c179e\"],[0.4444444444444444,\"#bd3786\"],[0.5555555555555556,\"#d8576b\"],[0.6666666666666666,\"#ed7953\"],[0.7777777777777778,\"#fb9f3a\"],[0.8888888888888888,\"#fdca26\"],[1.0,\"#f0f921\"]],\"sequentialminus\":[[0.0,\"#0d0887\"],[0.1111111111111111,\"#46039f\"],[0.2222222222222222,\"#7201a8\"],[0.3333333333333333,\"#9c179e\"],[0.4444444444444444,\"#bd3786\"],[0.5555555555555556,\"#d8576b\"],[0.6666666666666666,\"#ed7953\"],[0.7777777777777778,\"#fb9f3a\"],[0.8888888888888888,\"#fdca26\"],[1.0,\"#f0f921\"]]},\"colorway\":[\"#636efa\",\"#EF553B\",\"#00cc96\",\"#ab63fa\",\"#FFA15A\",\"#19d3f3\",\"#FF6692\",\"#B6E880\",\"#FF97FF\",\"#FECB52\"],\"font\":{\"color\":\"#2a3f5f\"},\"geo\":{\"bgcolor\":\"white\",\"lakecolor\":\"white\",\"landcolor\":\"#E5ECF6\",\"showlakes\":true,\"showland\":true,\"subunitcolor\":\"white\"},\"hoverlabel\":{\"align\":\"left\"},\"hovermode\":\"closest\",\"mapbox\":{\"style\":\"light\"},\"paper_bgcolor\":\"white\",\"plot_bgcolor\":\"#E5ECF6\",\"polar\":{\"angularaxis\":{\"gridcolor\":\"white\",\"linecolor\":\"white\",\"ticks\":\"\"},\"bgcolor\":\"#E5ECF6\",\"radialaxis\":{\"gridcolor\":\"white\",\"linecolor\":\"white\",\"ticks\":\"\"}},\"scene\":{\"xaxis\":{\"backgroundcolor\":\"#E5ECF6\",\"gridcolor\":\"white\",\"gridwidth\":2,\"linecolor\":\"white\",\"showbackground\":true,\"ticks\":\"\",\"zerolinecolor\":\"white\"},\"yaxis\":{\"backgroundcolor\":\"#E5ECF6\",\"gridcolor\":\"white\",\"gridwidth\":2,\"linecolor\":\"white\",\"showbackground\":true,\"ticks\":\"\",\"zerolinecolor\":\"white\"},\"zaxis\":{\"backgroundcolor\":\"#E5ECF6\",\"gridcolor\":\"white\",\"gridwidth\":2,\"linecolor\":\"white\",\"showbackground\":true,\"ticks\":\"\",\"zerolinecolor\":\"white\"}},\"shapedefaults\":{\"line\":{\"color\":\"#2a3f5f\"}},\"ternary\":{\"aaxis\":{\"gridcolor\":\"white\",\"linecolor\":\"white\",\"ticks\":\"\"},\"baxis\":{\"gridcolor\":\"white\",\"linecolor\":\"white\",\"ticks\":\"\"},\"bgcolor\":\"#E5ECF6\",\"caxis\":{\"gridcolor\":\"white\",\"linecolor\":\"white\",\"ticks\":\"\"}},\"title\":{\"x\":0.05},\"xaxis\":{\"automargin\":true,\"gridcolor\":\"white\",\"linecolor\":\"white\",\"ticks\":\"\",\"title\":{\"standoff\":15},\"zerolinecolor\":\"white\",\"zerolinewidth\":2},\"yaxis\":{\"automargin\":true,\"gridcolor\":\"white\",\"linecolor\":\"white\",\"ticks\":\"\",\"title\":{\"standoff\":15},\"zerolinecolor\":\"white\",\"zerolinewidth\":2}}},\"title\":{\"text\":\"Historical Bitcoin Volume (USD) (2015-2018) with the slider\"},\"xaxis\":{\"rangeselector\":{\"buttons\":[{\"count\":1,\"label\":\"1m\",\"step\":\"month\",\"stepmode\":\"backward\"},{\"count\":6,\"label\":\"6m\",\"step\":\"month\",\"stepmode\":\"backward\"},{\"count\":12,\"label\":\"1y\",\"step\":\"month\",\"stepmode\":\"backward\"},{\"count\":36,\"label\":\"3y\",\"step\":\"month\",\"stepmode\":\"backward\"},{\"step\":\"all\"}]},\"rangeslider\":{\"visible\":true},\"type\":\"date\"}},                        {\"responsive\": true}                    ).then(function(){\n",
              "                            \n",
              "var gd = document.getElementById('74934d32-ef2a-4d45-9646-9fe911102023');\n",
              "var x = new MutationObserver(function (mutations, observer) {{\n",
              "        var display = window.getComputedStyle(gd).display;\n",
              "        if (!display || display === 'none') {{\n",
              "            console.log([gd, 'removed!']);\n",
              "            Plotly.purge(gd);\n",
              "            observer.disconnect();\n",
              "        }}\n",
              "}});\n",
              "\n",
              "// Listen for the removal of the full notebook cells\n",
              "var notebookContainer = gd.closest('#notebook-container');\n",
              "if (notebookContainer) {{\n",
              "    x.observe(notebookContainer, {childList: true});\n",
              "}}\n",
              "\n",
              "// Listen for the clearing of the current output cell\n",
              "var outputEl = gd.closest('.output');\n",
              "if (outputEl) {{\n",
              "    x.observe(outputEl, {childList: true});\n",
              "}}\n",
              "\n",
              "                        })                };                });            </script>        </div>"
            ]
          },
          "metadata": {}
        }
      ]
    },
    {
      "cell_type": "code",
      "source": [
        "weekly_rows.head()\n"
      ],
      "metadata": {
        "colab": {
          "base_uri": "https://localhost:8080/",
          "height": 206
        },
        "id": "tpY9rz-pvnUW",
        "outputId": "dc20df3f-a0bd-4a99-88ec-7c4c3524513f"
      },
      "execution_count": 17,
      "outputs": [
        {
          "output_type": "execute_result",
          "data": {
            "text/plain": [
              "                       Date  Price   Open   High    Low      Vol. Change %\n",
              "0 2015-01-05 00:00:00+00:00  274.8  264.7  278.3  262.9   54990.0    3.82%\n",
              "1 2015-01-12 00:00:00+00:00  269.3  264.8  273.1  263.3   25390.0    1.72%\n",
              "2 2015-01-19 00:00:00+00:00  215.9  210.6  219.5  205.5   31580.0    2.49%\n",
              "3 2015-01-26 00:00:00+00:00  269.2  252.1  310.9  251.5  105710.0    6.78%\n",
              "4 2015-02-02 00:00:00+00:00  238.9  225.3  242.5  220.5   39020.0    6.02%"
            ],
            "text/html": [
              "\n",
              "  <div id=\"df-68f9b299-ad02-403d-b0cf-6163e13a8d0b\" class=\"colab-df-container\">\n",
              "    <div>\n",
              "<style scoped>\n",
              "    .dataframe tbody tr th:only-of-type {\n",
              "        vertical-align: middle;\n",
              "    }\n",
              "\n",
              "    .dataframe tbody tr th {\n",
              "        vertical-align: top;\n",
              "    }\n",
              "\n",
              "    .dataframe thead th {\n",
              "        text-align: right;\n",
              "    }\n",
              "</style>\n",
              "<table border=\"1\" class=\"dataframe\">\n",
              "  <thead>\n",
              "    <tr style=\"text-align: right;\">\n",
              "      <th></th>\n",
              "      <th>Date</th>\n",
              "      <th>Price</th>\n",
              "      <th>Open</th>\n",
              "      <th>High</th>\n",
              "      <th>Low</th>\n",
              "      <th>Vol.</th>\n",
              "      <th>Change %</th>\n",
              "    </tr>\n",
              "  </thead>\n",
              "  <tbody>\n",
              "    <tr>\n",
              "      <th>0</th>\n",
              "      <td>2015-01-05 00:00:00+00:00</td>\n",
              "      <td>274.8</td>\n",
              "      <td>264.7</td>\n",
              "      <td>278.3</td>\n",
              "      <td>262.9</td>\n",
              "      <td>54990.0</td>\n",
              "      <td>3.82%</td>\n",
              "    </tr>\n",
              "    <tr>\n",
              "      <th>1</th>\n",
              "      <td>2015-01-12 00:00:00+00:00</td>\n",
              "      <td>269.3</td>\n",
              "      <td>264.8</td>\n",
              "      <td>273.1</td>\n",
              "      <td>263.3</td>\n",
              "      <td>25390.0</td>\n",
              "      <td>1.72%</td>\n",
              "    </tr>\n",
              "    <tr>\n",
              "      <th>2</th>\n",
              "      <td>2015-01-19 00:00:00+00:00</td>\n",
              "      <td>215.9</td>\n",
              "      <td>210.6</td>\n",
              "      <td>219.5</td>\n",
              "      <td>205.5</td>\n",
              "      <td>31580.0</td>\n",
              "      <td>2.49%</td>\n",
              "    </tr>\n",
              "    <tr>\n",
              "      <th>3</th>\n",
              "      <td>2015-01-26 00:00:00+00:00</td>\n",
              "      <td>269.2</td>\n",
              "      <td>252.1</td>\n",
              "      <td>310.9</td>\n",
              "      <td>251.5</td>\n",
              "      <td>105710.0</td>\n",
              "      <td>6.78%</td>\n",
              "    </tr>\n",
              "    <tr>\n",
              "      <th>4</th>\n",
              "      <td>2015-02-02 00:00:00+00:00</td>\n",
              "      <td>238.9</td>\n",
              "      <td>225.3</td>\n",
              "      <td>242.5</td>\n",
              "      <td>220.5</td>\n",
              "      <td>39020.0</td>\n",
              "      <td>6.02%</td>\n",
              "    </tr>\n",
              "  </tbody>\n",
              "</table>\n",
              "</div>\n",
              "    <div class=\"colab-df-buttons\">\n",
              "\n",
              "  <div class=\"colab-df-container\">\n",
              "    <button class=\"colab-df-convert\" onclick=\"convertToInteractive('df-68f9b299-ad02-403d-b0cf-6163e13a8d0b')\"\n",
              "            title=\"Convert this dataframe to an interactive table.\"\n",
              "            style=\"display:none;\">\n",
              "\n",
              "  <svg xmlns=\"http://www.w3.org/2000/svg\" height=\"24px\" viewBox=\"0 -960 960 960\">\n",
              "    <path d=\"M120-120v-720h720v720H120Zm60-500h600v-160H180v160Zm220 220h160v-160H400v160Zm0 220h160v-160H400v160ZM180-400h160v-160H180v160Zm440 0h160v-160H620v160ZM180-180h160v-160H180v160Zm440 0h160v-160H620v160Z\"/>\n",
              "  </svg>\n",
              "    </button>\n",
              "\n",
              "  <style>\n",
              "    .colab-df-container {\n",
              "      display:flex;\n",
              "      gap: 12px;\n",
              "    }\n",
              "\n",
              "    .colab-df-convert {\n",
              "      background-color: #E8F0FE;\n",
              "      border: none;\n",
              "      border-radius: 50%;\n",
              "      cursor: pointer;\n",
              "      display: none;\n",
              "      fill: #1967D2;\n",
              "      height: 32px;\n",
              "      padding: 0 0 0 0;\n",
              "      width: 32px;\n",
              "    }\n",
              "\n",
              "    .colab-df-convert:hover {\n",
              "      background-color: #E2EBFA;\n",
              "      box-shadow: 0px 1px 2px rgba(60, 64, 67, 0.3), 0px 1px 3px 1px rgba(60, 64, 67, 0.15);\n",
              "      fill: #174EA6;\n",
              "    }\n",
              "\n",
              "    .colab-df-buttons div {\n",
              "      margin-bottom: 4px;\n",
              "    }\n",
              "\n",
              "    [theme=dark] .colab-df-convert {\n",
              "      background-color: #3B4455;\n",
              "      fill: #D2E3FC;\n",
              "    }\n",
              "\n",
              "    [theme=dark] .colab-df-convert:hover {\n",
              "      background-color: #434B5C;\n",
              "      box-shadow: 0px 1px 3px 1px rgba(0, 0, 0, 0.15);\n",
              "      filter: drop-shadow(0px 1px 2px rgba(0, 0, 0, 0.3));\n",
              "      fill: #FFFFFF;\n",
              "    }\n",
              "  </style>\n",
              "\n",
              "    <script>\n",
              "      const buttonEl =\n",
              "        document.querySelector('#df-68f9b299-ad02-403d-b0cf-6163e13a8d0b button.colab-df-convert');\n",
              "      buttonEl.style.display =\n",
              "        google.colab.kernel.accessAllowed ? 'block' : 'none';\n",
              "\n",
              "      async function convertToInteractive(key) {\n",
              "        const element = document.querySelector('#df-68f9b299-ad02-403d-b0cf-6163e13a8d0b');\n",
              "        const dataTable =\n",
              "          await google.colab.kernel.invokeFunction('convertToInteractive',\n",
              "                                                    [key], {});\n",
              "        if (!dataTable) return;\n",
              "\n",
              "        const docLinkHtml = 'Like what you see? Visit the ' +\n",
              "          '<a target=\"_blank\" href=https://colab.research.google.com/notebooks/data_table.ipynb>data table notebook</a>'\n",
              "          + ' to learn more about interactive tables.';\n",
              "        element.innerHTML = '';\n",
              "        dataTable['output_type'] = 'display_data';\n",
              "        await google.colab.output.renderOutput(dataTable, element);\n",
              "        const docLink = document.createElement('div');\n",
              "        docLink.innerHTML = docLinkHtml;\n",
              "        element.appendChild(docLink);\n",
              "      }\n",
              "    </script>\n",
              "  </div>\n",
              "\n",
              "\n",
              "<div id=\"df-82ac522c-fd11-4156-962b-d5ef47dc9973\">\n",
              "  <button class=\"colab-df-quickchart\" onclick=\"quickchart('df-82ac522c-fd11-4156-962b-d5ef47dc9973')\"\n",
              "            title=\"Suggest charts\"\n",
              "            style=\"display:none;\">\n",
              "\n",
              "<svg xmlns=\"http://www.w3.org/2000/svg\" height=\"24px\"viewBox=\"0 0 24 24\"\n",
              "     width=\"24px\">\n",
              "    <g>\n",
              "        <path d=\"M19 3H5c-1.1 0-2 .9-2 2v14c0 1.1.9 2 2 2h14c1.1 0 2-.9 2-2V5c0-1.1-.9-2-2-2zM9 17H7v-7h2v7zm4 0h-2V7h2v10zm4 0h-2v-4h2v4z\"/>\n",
              "    </g>\n",
              "</svg>\n",
              "  </button>\n",
              "\n",
              "<style>\n",
              "  .colab-df-quickchart {\n",
              "      --bg-color: #E8F0FE;\n",
              "      --fill-color: #1967D2;\n",
              "      --hover-bg-color: #E2EBFA;\n",
              "      --hover-fill-color: #174EA6;\n",
              "      --disabled-fill-color: #AAA;\n",
              "      --disabled-bg-color: #DDD;\n",
              "  }\n",
              "\n",
              "  [theme=dark] .colab-df-quickchart {\n",
              "      --bg-color: #3B4455;\n",
              "      --fill-color: #D2E3FC;\n",
              "      --hover-bg-color: #434B5C;\n",
              "      --hover-fill-color: #FFFFFF;\n",
              "      --disabled-bg-color: #3B4455;\n",
              "      --disabled-fill-color: #666;\n",
              "  }\n",
              "\n",
              "  .colab-df-quickchart {\n",
              "    background-color: var(--bg-color);\n",
              "    border: none;\n",
              "    border-radius: 50%;\n",
              "    cursor: pointer;\n",
              "    display: none;\n",
              "    fill: var(--fill-color);\n",
              "    height: 32px;\n",
              "    padding: 0;\n",
              "    width: 32px;\n",
              "  }\n",
              "\n",
              "  .colab-df-quickchart:hover {\n",
              "    background-color: var(--hover-bg-color);\n",
              "    box-shadow: 0 1px 2px rgba(60, 64, 67, 0.3), 0 1px 3px 1px rgba(60, 64, 67, 0.15);\n",
              "    fill: var(--button-hover-fill-color);\n",
              "  }\n",
              "\n",
              "  .colab-df-quickchart-complete:disabled,\n",
              "  .colab-df-quickchart-complete:disabled:hover {\n",
              "    background-color: var(--disabled-bg-color);\n",
              "    fill: var(--disabled-fill-color);\n",
              "    box-shadow: none;\n",
              "  }\n",
              "\n",
              "  .colab-df-spinner {\n",
              "    border: 2px solid var(--fill-color);\n",
              "    border-color: transparent;\n",
              "    border-bottom-color: var(--fill-color);\n",
              "    animation:\n",
              "      spin 1s steps(1) infinite;\n",
              "  }\n",
              "\n",
              "  @keyframes spin {\n",
              "    0% {\n",
              "      border-color: transparent;\n",
              "      border-bottom-color: var(--fill-color);\n",
              "      border-left-color: var(--fill-color);\n",
              "    }\n",
              "    20% {\n",
              "      border-color: transparent;\n",
              "      border-left-color: var(--fill-color);\n",
              "      border-top-color: var(--fill-color);\n",
              "    }\n",
              "    30% {\n",
              "      border-color: transparent;\n",
              "      border-left-color: var(--fill-color);\n",
              "      border-top-color: var(--fill-color);\n",
              "      border-right-color: var(--fill-color);\n",
              "    }\n",
              "    40% {\n",
              "      border-color: transparent;\n",
              "      border-right-color: var(--fill-color);\n",
              "      border-top-color: var(--fill-color);\n",
              "    }\n",
              "    60% {\n",
              "      border-color: transparent;\n",
              "      border-right-color: var(--fill-color);\n",
              "    }\n",
              "    80% {\n",
              "      border-color: transparent;\n",
              "      border-right-color: var(--fill-color);\n",
              "      border-bottom-color: var(--fill-color);\n",
              "    }\n",
              "    90% {\n",
              "      border-color: transparent;\n",
              "      border-bottom-color: var(--fill-color);\n",
              "    }\n",
              "  }\n",
              "</style>\n",
              "\n",
              "  <script>\n",
              "    async function quickchart(key) {\n",
              "      const quickchartButtonEl =\n",
              "        document.querySelector('#' + key + ' button');\n",
              "      quickchartButtonEl.disabled = true;  // To prevent multiple clicks.\n",
              "      quickchartButtonEl.classList.add('colab-df-spinner');\n",
              "      try {\n",
              "        const charts = await google.colab.kernel.invokeFunction(\n",
              "            'suggestCharts', [key], {});\n",
              "      } catch (error) {\n",
              "        console.error('Error during call to suggestCharts:', error);\n",
              "      }\n",
              "      quickchartButtonEl.classList.remove('colab-df-spinner');\n",
              "      quickchartButtonEl.classList.add('colab-df-quickchart-complete');\n",
              "    }\n",
              "    (() => {\n",
              "      let quickchartButtonEl =\n",
              "        document.querySelector('#df-82ac522c-fd11-4156-962b-d5ef47dc9973 button');\n",
              "      quickchartButtonEl.style.display =\n",
              "        google.colab.kernel.accessAllowed ? 'block' : 'none';\n",
              "    })();\n",
              "  </script>\n",
              "</div>\n",
              "\n",
              "    </div>\n",
              "  </div>\n"
            ],
            "application/vnd.google.colaboratory.intrinsic+json": {
              "type": "dataframe",
              "variable_name": "weekly_rows",
              "summary": "{\n  \"name\": \"weekly_rows\",\n  \"rows\": 202,\n  \"fields\": [\n    {\n      \"column\": \"Date\",\n      \"properties\": {\n        \"dtype\": \"date\",\n        \"min\": \"2015-01-05 00:00:00+00:00\",\n        \"max\": \"2018-11-12 00:00:00+00:00\",\n        \"num_unique_values\": 202,\n        \"samples\": [\n          \"2016-10-31 00:00:00+00:00\",\n          \"2015-04-20 00:00:00+00:00\",\n          \"2015-08-03 00:00:00+00:00\"\n        ],\n        \"semantic_type\": \"\",\n        \"description\": \"\"\n      }\n    },\n    {\n      \"column\": \"Price\",\n      \"properties\": {\n        \"dtype\": \"number\",\n        \"std\": 3843.510148790327,\n        \"min\": 211.4,\n        \"max\": 18972.3,\n        \"num_unique_values\": 200,\n        \"samples\": [\n          704.6,\n          224.2,\n          263.3\n        ],\n        \"semantic_type\": \"\",\n        \"description\": \"\"\n      }\n    },\n    {\n      \"column\": \"Open\",\n      \"properties\": {\n        \"dtype\": \"number\",\n        \"std\": 3842.7882219092444,\n        \"min\": 210.6,\n        \"max\": 19065.7,\n        \"num_unique_values\": 200,\n        \"samples\": [\n          702.0,\n          223.0,\n          263.9\n        ],\n        \"semantic_type\": \"\",\n        \"description\": \"\"\n      }\n    },\n    {\n      \"column\": \"High\",\n      \"properties\": {\n        \"dtype\": \"string\",\n        \"num_unique_values\": 199,\n        \"samples\": [\n          \"575.0\",\n          \"226.7\",\n          \"1,245.6\"\n        ],\n        \"semantic_type\": \"\",\n        \"description\": \"\"\n      }\n    },\n    {\n      \"column\": \"Low\",\n      \"properties\": {\n        \"dtype\": \"string\",\n        \"num_unique_values\": 202,\n        \"samples\": [\n          \"682.2\",\n          \"221.6\",\n          \"278.9\"\n        ],\n        \"semantic_type\": \"\",\n        \"description\": \"\"\n      }\n    },\n    {\n      \"column\": \"Vol.\",\n      \"properties\": {\n        \"dtype\": \"number\",\n        \"std\": 963357.9711738445,\n        \"min\": 19060.0,\n        \"max\": 9190000.0,\n        \"num_unique_values\": 201,\n        \"samples\": [\n          38050.0,\n          44870.0,\n          45890.0\n        ],\n        \"semantic_type\": \"\",\n        \"description\": \"\"\n      }\n    },\n    {\n      \"column\": \"Change %\",\n      \"properties\": {\n        \"dtype\": \"string\",\n        \"num_unique_values\": 181,\n        \"samples\": [\n          \"-1.55%\",\n          \"11.25%\",\n          \"-0.75%\"\n        ],\n        \"semantic_type\": \"\",\n        \"description\": \"\"\n      }\n    }\n  ]\n}"
            }
          },
          "metadata": {},
          "execution_count": 17
        }
      ]
    },
    {
      "cell_type": "code",
      "source": [
        "import plotly.graph_objs as go\n",
        "import plotly.offline as pyo\n",
        "import pandas as pd\n",
        "\n",
        "\n",
        "trace = go.Scattergl(\n",
        "    x=weekly_rows['Price'].astype(float),\n",
        "    y=weekly_rows['Vol.'].astype(float),\n",
        "    mode='markers',\n",
        "    marker=dict(\n",
        "        color='#FFBAD2',\n",
        "        line=dict(width=1)\n",
        "    )\n",
        ")\n",
        "\n",
        "layout = go.Layout(\n",
        "    title='BTC Volume vs USD',\n",
        "    xaxis=dict(\n",
        "        title=dict(\n",
        "            text='Weighted Price',\n",
        "            font=dict(\n",
        "                family='Courier New, monospace',\n",
        "                size=18,\n",
        "                color='#7f7f7f'\n",
        "            )\n",
        "        )\n",
        "    ),\n",
        "    yaxis=dict(\n",
        "        title=dict(\n",
        "            text='Volume BTC',\n",
        "            font=dict(\n",
        "                family='Courier New, monospace',\n",
        "                size=18,\n",
        "                color='#7f7f7f'\n",
        "            )\n",
        "        )\n",
        "    )\n",
        ")\n",
        "\n",
        "data = [trace]\n",
        "fig = go.Figure(data=data, layout=layout)\n",
        "pyo.iplot(fig, filename='compare_webgl')"
      ],
      "metadata": {
        "colab": {
          "base_uri": "https://localhost:8080/",
          "height": 542
        },
        "id": "JHXyla5Yvr0D",
        "outputId": "b4aea507-9d28-443b-ea48-e55c34345cad"
      },
      "execution_count": 18,
      "outputs": [
        {
          "output_type": "display_data",
          "data": {
            "application/vnd.plotly.v1+json": {
              "data": [
                {
                  "marker": {
                    "color": "#FFBAD2",
                    "line": {
                      "width": 1
                    }
                  },
                  "mode": "markers",
                  "x": [
                    274.8,
                    269.3,
                    215.9,
                    269.2,
                    238.9,
                    220.3,
                    235.8,
                    238.8,
                    273.8,
                    290,
                    290.4,
                    265.5,
                    246.8,
                    255,
                    223.6,
                    224.2,
                    229,
                    239,
                    241.8,
                    232.6,
                    237.4,
                    223.1,
                    228.6,
                    237,
                    247.5,
                    257,
                    269.1,
                    290.4,
                    277.7,
                    293,
                    281.6,
                    263.3,
                    257.1,
                    211.4,
                    229.5,
                    239.6,
                    229.9,
                    226.3,
                    238.9,
                    240.1,
                    245.4,
                    263.8,
                    285.1,
                    359.3,
                    380.2,
                    330.2,
                    322.1,
                    378,
                    394.3,
                    442,
                    437.6,
                    421.8,
                    433.3,
                    447.7,
                    384.4,
                    392.8,
                    372.2,
                    372.6,
                    401.1,
                    437.8,
                    436.2,
                    414.9,
                    414.3,
                    411.1,
                    422.2,
                    419.3,
                    421.4,
                    427.7,
                    461.7,
                    444.2,
                    460.4,
                    454.9,
                    443.7,
                    532.3,
                    583.6,
                    700.1,
                    734,
                    644.7,
                    675.2,
                    646.7,
                    670.4,
                    654,
                    607,
                    589.2,
                    567,
                    587.5,
                    574.2,
                    605.8,
                    608,
                    609.8,
                    606.5,
                    611.6,
                    617.3,
                    637.4,
                    650.5,
                    698.7,
                    705.4,
                    704.6,
                    736.2,
                    733.3,
                    754.3,
                    778.5,
                    789.8,
                    898.4,
                    1017,
                    899.8,
                    827.3,
                    921.5,
                    920.7,
                    1024.7,
                    995.4,
                    1077.6,
                    1188.8,
                    1277,
                    1238.2,
                    1047.5,
                    1045.1,
                    1147.6,
                    1206.7,
                    1194,
                    1248.2,
                    1415.8,
                    1664.5,
                    1708.9,
                    2124.4,
                    2278.2,
                    2705,
                    2656.8,
                    2616.8,
                    2446.1,
                    2572.5,
                    2344,
                    2233.4,
                    2763.4,
                    2883.3,
                    3401.9,
                    4327.9,
                    4005.1,
                    4390.3,
                    4267.5,
                    4217.9,
                    4100.3,
                    3932.8,
                    4401.3,
                    4777.5,
                    5759.3,
                    5903.6,
                    6124.3,
                    6959.2,
                    6522.5,
                    8244.7,
                    9733.2,
                    11623.9,
                    16732.5,
                    18972.3,
                    13833.5,
                    13444.9,
                    14976.2,
                    13697.5,
                    10864.8,
                    11244.8,
                    6938.5,
                    8903.5,
                    11169.4,
                    10285.1,
                    11330.6,
                    9137.4,
                    8616.8,
                    8143.5,
                    7068.4,
                    6781.9,
                    8070,
                    8952.8,
                    9245.1,
                    9431.6,
                    8674.1,
                    8403.3,
                    7119.3,
                    7504.3,
                    6885.9,
                    6719.8,
                    6256.6,
                    6619.5,
                    6667.1,
                    6729.9,
                    7723,
                    8177.1,
                    6943.6,
                    6255.3,
                    6268.1,
                    6897.6,
                    7264.2,
                    6321,
                    6251.9,
                    6584.1,
                    6608.2,
                    6669.6,
                    6699.8,
                    6555.8,
                    6335,
                    6459.7,
                    6446.1
                  ],
                  "y": [
                    54990,
                    25390,
                    31580,
                    105710,
                    39020,
                    91690,
                    115470,
                    62670,
                    81090,
                    151770,
                    66340,
                    81450,
                    85330,
                    45930,
                    105150,
                    44870,
                    123410,
                    69120,
                    57170,
                    53140,
                    26390,
                    87060,
                    74150,
                    63470,
                    47590,
                    92640,
                    90580,
                    146850,
                    46600,
                    69710,
                    45890,
                    48570,
                    47880,
                    196700,
                    54510,
                    57190,
                    61100,
                    53430,
                    64280,
                    61240,
                    40390,
                    58170,
                    73210,
                    223100,
                    125540,
                    87140,
                    42730,
                    129770.00000000001,
                    96750,
                    218920,
                    121990,
                    68350,
                    53010,
                    56590,
                    69300,
                    67660,
                    74350,
                    62240,
                    86130,
                    56010,
                    68770,
                    61770,
                    49330,
                    43160,
                    43450,
                    33440,
                    36390,
                    32580,
                    81660,
                    73850,
                    48420,
                    36600,
                    35900,
                    77530,
                    63680,
                    216730,
                    112290,
                    99810,
                    63910,
                    45940,
                    42580,
                    34380,
                    66660,
                    24880,
                    33770,
                    33560,
                    23860,
                    25290,
                    27950,
                    21240,
                    27510,
                    21950,
                    25230,
                    27690,
                    33240,
                    38050,
                    30740,
                    37750,
                    32509.999999999996,
                    34120,
                    51170,
                    28760,
                    25460,
                    38790,
                    64950,
                    62580,
                    33220,
                    32740.000000000004,
                    19060,
                    32020.000000000004,
                    32910,
                    31010,
                    35470,
                    31030,
                    60460,
                    61430,
                    91260,
                    98500,
                    40010,
                    46480,
                    38540,
                    100440,
                    107230,
                    80240,
                    174380,
                    92240,
                    86690,
                    217960,
                    81830,
                    165830,
                    83420,
                    123800,
                    176890,
                    83010,
                    91120,
                    88110,
                    128460.00000000001,
                    90650,
                    75490,
                    170400,
                    88760,
                    147930,
                    100200,
                    71200,
                    110190,
                    61360,
                    137140,
                    78620,
                    159690,
                    178340,
                    75700,
                    106900,
                    93170,
                    159730,
                    139250,
                    107480,
                    78430,
                    142450,
                    73270,
                    201730,
                    137420,
                    593890,
                    238670,
                    215200,
                    235940,
                    162110,
                    257910.00000000003,
                    316960,
                    247180,
                    199310,
                    241190,
                    197700,
                    147540,
                    156830,
                    165080,
                    212050,
                    115520,
                    152290,
                    141010,
                    174880,
                    135700,
                    210690,
                    179920,
                    289480,
                    312120,
                    272150,
                    242210,
                    168870,
                    234090,
                    3100000,
                    3260000,
                    3870000,
                    3110000,
                    3260000,
                    7570000,
                    9190000,
                    119680,
                    443330,
                    101570,
                    160520,
                    128509.99999999999,
                    127400
                  ],
                  "type": "scattergl"
                }
              ],
              "layout": {
                "template": {
                  "data": {
                    "barpolar": [
                      {
                        "marker": {
                          "line": {
                            "color": "#E5ECF6",
                            "width": 0.5
                          },
                          "pattern": {
                            "fillmode": "overlay",
                            "size": 10,
                            "solidity": 0.2
                          }
                        },
                        "type": "barpolar"
                      }
                    ],
                    "bar": [
                      {
                        "error_x": {
                          "color": "#2a3f5f"
                        },
                        "error_y": {
                          "color": "#2a3f5f"
                        },
                        "marker": {
                          "line": {
                            "color": "#E5ECF6",
                            "width": 0.5
                          },
                          "pattern": {
                            "fillmode": "overlay",
                            "size": 10,
                            "solidity": 0.2
                          }
                        },
                        "type": "bar"
                      }
                    ],
                    "carpet": [
                      {
                        "aaxis": {
                          "endlinecolor": "#2a3f5f",
                          "gridcolor": "white",
                          "linecolor": "white",
                          "minorgridcolor": "white",
                          "startlinecolor": "#2a3f5f"
                        },
                        "baxis": {
                          "endlinecolor": "#2a3f5f",
                          "gridcolor": "white",
                          "linecolor": "white",
                          "minorgridcolor": "white",
                          "startlinecolor": "#2a3f5f"
                        },
                        "type": "carpet"
                      }
                    ],
                    "choropleth": [
                      {
                        "colorbar": {
                          "outlinewidth": 0,
                          "ticks": ""
                        },
                        "type": "choropleth"
                      }
                    ],
                    "contourcarpet": [
                      {
                        "colorbar": {
                          "outlinewidth": 0,
                          "ticks": ""
                        },
                        "type": "contourcarpet"
                      }
                    ],
                    "contour": [
                      {
                        "colorbar": {
                          "outlinewidth": 0,
                          "ticks": ""
                        },
                        "colorscale": [
                          [
                            0,
                            "#0d0887"
                          ],
                          [
                            0.1111111111111111,
                            "#46039f"
                          ],
                          [
                            0.2222222222222222,
                            "#7201a8"
                          ],
                          [
                            0.3333333333333333,
                            "#9c179e"
                          ],
                          [
                            0.4444444444444444,
                            "#bd3786"
                          ],
                          [
                            0.5555555555555556,
                            "#d8576b"
                          ],
                          [
                            0.6666666666666666,
                            "#ed7953"
                          ],
                          [
                            0.7777777777777778,
                            "#fb9f3a"
                          ],
                          [
                            0.8888888888888888,
                            "#fdca26"
                          ],
                          [
                            1,
                            "#f0f921"
                          ]
                        ],
                        "type": "contour"
                      }
                    ],
                    "heatmapgl": [
                      {
                        "colorbar": {
                          "outlinewidth": 0,
                          "ticks": ""
                        },
                        "colorscale": [
                          [
                            0,
                            "#0d0887"
                          ],
                          [
                            0.1111111111111111,
                            "#46039f"
                          ],
                          [
                            0.2222222222222222,
                            "#7201a8"
                          ],
                          [
                            0.3333333333333333,
                            "#9c179e"
                          ],
                          [
                            0.4444444444444444,
                            "#bd3786"
                          ],
                          [
                            0.5555555555555556,
                            "#d8576b"
                          ],
                          [
                            0.6666666666666666,
                            "#ed7953"
                          ],
                          [
                            0.7777777777777778,
                            "#fb9f3a"
                          ],
                          [
                            0.8888888888888888,
                            "#fdca26"
                          ],
                          [
                            1,
                            "#f0f921"
                          ]
                        ],
                        "type": "heatmapgl"
                      }
                    ],
                    "heatmap": [
                      {
                        "colorbar": {
                          "outlinewidth": 0,
                          "ticks": ""
                        },
                        "colorscale": [
                          [
                            0,
                            "#0d0887"
                          ],
                          [
                            0.1111111111111111,
                            "#46039f"
                          ],
                          [
                            0.2222222222222222,
                            "#7201a8"
                          ],
                          [
                            0.3333333333333333,
                            "#9c179e"
                          ],
                          [
                            0.4444444444444444,
                            "#bd3786"
                          ],
                          [
                            0.5555555555555556,
                            "#d8576b"
                          ],
                          [
                            0.6666666666666666,
                            "#ed7953"
                          ],
                          [
                            0.7777777777777778,
                            "#fb9f3a"
                          ],
                          [
                            0.8888888888888888,
                            "#fdca26"
                          ],
                          [
                            1,
                            "#f0f921"
                          ]
                        ],
                        "type": "heatmap"
                      }
                    ],
                    "histogram2dcontour": [
                      {
                        "colorbar": {
                          "outlinewidth": 0,
                          "ticks": ""
                        },
                        "colorscale": [
                          [
                            0,
                            "#0d0887"
                          ],
                          [
                            0.1111111111111111,
                            "#46039f"
                          ],
                          [
                            0.2222222222222222,
                            "#7201a8"
                          ],
                          [
                            0.3333333333333333,
                            "#9c179e"
                          ],
                          [
                            0.4444444444444444,
                            "#bd3786"
                          ],
                          [
                            0.5555555555555556,
                            "#d8576b"
                          ],
                          [
                            0.6666666666666666,
                            "#ed7953"
                          ],
                          [
                            0.7777777777777778,
                            "#fb9f3a"
                          ],
                          [
                            0.8888888888888888,
                            "#fdca26"
                          ],
                          [
                            1,
                            "#f0f921"
                          ]
                        ],
                        "type": "histogram2dcontour"
                      }
                    ],
                    "histogram2d": [
                      {
                        "colorbar": {
                          "outlinewidth": 0,
                          "ticks": ""
                        },
                        "colorscale": [
                          [
                            0,
                            "#0d0887"
                          ],
                          [
                            0.1111111111111111,
                            "#46039f"
                          ],
                          [
                            0.2222222222222222,
                            "#7201a8"
                          ],
                          [
                            0.3333333333333333,
                            "#9c179e"
                          ],
                          [
                            0.4444444444444444,
                            "#bd3786"
                          ],
                          [
                            0.5555555555555556,
                            "#d8576b"
                          ],
                          [
                            0.6666666666666666,
                            "#ed7953"
                          ],
                          [
                            0.7777777777777778,
                            "#fb9f3a"
                          ],
                          [
                            0.8888888888888888,
                            "#fdca26"
                          ],
                          [
                            1,
                            "#f0f921"
                          ]
                        ],
                        "type": "histogram2d"
                      }
                    ],
                    "histogram": [
                      {
                        "marker": {
                          "pattern": {
                            "fillmode": "overlay",
                            "size": 10,
                            "solidity": 0.2
                          }
                        },
                        "type": "histogram"
                      }
                    ],
                    "mesh3d": [
                      {
                        "colorbar": {
                          "outlinewidth": 0,
                          "ticks": ""
                        },
                        "type": "mesh3d"
                      }
                    ],
                    "parcoords": [
                      {
                        "line": {
                          "colorbar": {
                            "outlinewidth": 0,
                            "ticks": ""
                          }
                        },
                        "type": "parcoords"
                      }
                    ],
                    "pie": [
                      {
                        "automargin": true,
                        "type": "pie"
                      }
                    ],
                    "scatter3d": [
                      {
                        "line": {
                          "colorbar": {
                            "outlinewidth": 0,
                            "ticks": ""
                          }
                        },
                        "marker": {
                          "colorbar": {
                            "outlinewidth": 0,
                            "ticks": ""
                          }
                        },
                        "type": "scatter3d"
                      }
                    ],
                    "scattercarpet": [
                      {
                        "marker": {
                          "colorbar": {
                            "outlinewidth": 0,
                            "ticks": ""
                          }
                        },
                        "type": "scattercarpet"
                      }
                    ],
                    "scattergeo": [
                      {
                        "marker": {
                          "colorbar": {
                            "outlinewidth": 0,
                            "ticks": ""
                          }
                        },
                        "type": "scattergeo"
                      }
                    ],
                    "scattergl": [
                      {
                        "marker": {
                          "colorbar": {
                            "outlinewidth": 0,
                            "ticks": ""
                          }
                        },
                        "type": "scattergl"
                      }
                    ],
                    "scattermapbox": [
                      {
                        "marker": {
                          "colorbar": {
                            "outlinewidth": 0,
                            "ticks": ""
                          }
                        },
                        "type": "scattermapbox"
                      }
                    ],
                    "scatterpolargl": [
                      {
                        "marker": {
                          "colorbar": {
                            "outlinewidth": 0,
                            "ticks": ""
                          }
                        },
                        "type": "scatterpolargl"
                      }
                    ],
                    "scatterpolar": [
                      {
                        "marker": {
                          "colorbar": {
                            "outlinewidth": 0,
                            "ticks": ""
                          }
                        },
                        "type": "scatterpolar"
                      }
                    ],
                    "scatter": [
                      {
                        "fillpattern": {
                          "fillmode": "overlay",
                          "size": 10,
                          "solidity": 0.2
                        },
                        "type": "scatter"
                      }
                    ],
                    "scatterternary": [
                      {
                        "marker": {
                          "colorbar": {
                            "outlinewidth": 0,
                            "ticks": ""
                          }
                        },
                        "type": "scatterternary"
                      }
                    ],
                    "surface": [
                      {
                        "colorbar": {
                          "outlinewidth": 0,
                          "ticks": ""
                        },
                        "colorscale": [
                          [
                            0,
                            "#0d0887"
                          ],
                          [
                            0.1111111111111111,
                            "#46039f"
                          ],
                          [
                            0.2222222222222222,
                            "#7201a8"
                          ],
                          [
                            0.3333333333333333,
                            "#9c179e"
                          ],
                          [
                            0.4444444444444444,
                            "#bd3786"
                          ],
                          [
                            0.5555555555555556,
                            "#d8576b"
                          ],
                          [
                            0.6666666666666666,
                            "#ed7953"
                          ],
                          [
                            0.7777777777777778,
                            "#fb9f3a"
                          ],
                          [
                            0.8888888888888888,
                            "#fdca26"
                          ],
                          [
                            1,
                            "#f0f921"
                          ]
                        ],
                        "type": "surface"
                      }
                    ],
                    "table": [
                      {
                        "cells": {
                          "fill": {
                            "color": "#EBF0F8"
                          },
                          "line": {
                            "color": "white"
                          }
                        },
                        "header": {
                          "fill": {
                            "color": "#C8D4E3"
                          },
                          "line": {
                            "color": "white"
                          }
                        },
                        "type": "table"
                      }
                    ]
                  },
                  "layout": {
                    "annotationdefaults": {
                      "arrowcolor": "#2a3f5f",
                      "arrowhead": 0,
                      "arrowwidth": 1
                    },
                    "autotypenumbers": "strict",
                    "coloraxis": {
                      "colorbar": {
                        "outlinewidth": 0,
                        "ticks": ""
                      }
                    },
                    "colorscale": {
                      "diverging": [
                        [
                          0,
                          "#8e0152"
                        ],
                        [
                          0.1,
                          "#c51b7d"
                        ],
                        [
                          0.2,
                          "#de77ae"
                        ],
                        [
                          0.3,
                          "#f1b6da"
                        ],
                        [
                          0.4,
                          "#fde0ef"
                        ],
                        [
                          0.5,
                          "#f7f7f7"
                        ],
                        [
                          0.6,
                          "#e6f5d0"
                        ],
                        [
                          0.7,
                          "#b8e186"
                        ],
                        [
                          0.8,
                          "#7fbc41"
                        ],
                        [
                          0.9,
                          "#4d9221"
                        ],
                        [
                          1,
                          "#276419"
                        ]
                      ],
                      "sequential": [
                        [
                          0,
                          "#0d0887"
                        ],
                        [
                          0.1111111111111111,
                          "#46039f"
                        ],
                        [
                          0.2222222222222222,
                          "#7201a8"
                        ],
                        [
                          0.3333333333333333,
                          "#9c179e"
                        ],
                        [
                          0.4444444444444444,
                          "#bd3786"
                        ],
                        [
                          0.5555555555555556,
                          "#d8576b"
                        ],
                        [
                          0.6666666666666666,
                          "#ed7953"
                        ],
                        [
                          0.7777777777777778,
                          "#fb9f3a"
                        ],
                        [
                          0.8888888888888888,
                          "#fdca26"
                        ],
                        [
                          1,
                          "#f0f921"
                        ]
                      ],
                      "sequentialminus": [
                        [
                          0,
                          "#0d0887"
                        ],
                        [
                          0.1111111111111111,
                          "#46039f"
                        ],
                        [
                          0.2222222222222222,
                          "#7201a8"
                        ],
                        [
                          0.3333333333333333,
                          "#9c179e"
                        ],
                        [
                          0.4444444444444444,
                          "#bd3786"
                        ],
                        [
                          0.5555555555555556,
                          "#d8576b"
                        ],
                        [
                          0.6666666666666666,
                          "#ed7953"
                        ],
                        [
                          0.7777777777777778,
                          "#fb9f3a"
                        ],
                        [
                          0.8888888888888888,
                          "#fdca26"
                        ],
                        [
                          1,
                          "#f0f921"
                        ]
                      ]
                    },
                    "colorway": [
                      "#636efa",
                      "#EF553B",
                      "#00cc96",
                      "#ab63fa",
                      "#FFA15A",
                      "#19d3f3",
                      "#FF6692",
                      "#B6E880",
                      "#FF97FF",
                      "#FECB52"
                    ],
                    "font": {
                      "color": "#2a3f5f"
                    },
                    "geo": {
                      "bgcolor": "white",
                      "lakecolor": "white",
                      "landcolor": "#E5ECF6",
                      "showlakes": true,
                      "showland": true,
                      "subunitcolor": "white"
                    },
                    "hoverlabel": {
                      "align": "left"
                    },
                    "hovermode": "closest",
                    "mapbox": {
                      "style": "light"
                    },
                    "paper_bgcolor": "white",
                    "plot_bgcolor": "#E5ECF6",
                    "polar": {
                      "angularaxis": {
                        "gridcolor": "white",
                        "linecolor": "white",
                        "ticks": ""
                      },
                      "bgcolor": "#E5ECF6",
                      "radialaxis": {
                        "gridcolor": "white",
                        "linecolor": "white",
                        "ticks": ""
                      }
                    },
                    "scene": {
                      "xaxis": {
                        "backgroundcolor": "#E5ECF6",
                        "gridcolor": "white",
                        "gridwidth": 2,
                        "linecolor": "white",
                        "showbackground": true,
                        "ticks": "",
                        "zerolinecolor": "white"
                      },
                      "yaxis": {
                        "backgroundcolor": "#E5ECF6",
                        "gridcolor": "white",
                        "gridwidth": 2,
                        "linecolor": "white",
                        "showbackground": true,
                        "ticks": "",
                        "zerolinecolor": "white"
                      },
                      "zaxis": {
                        "backgroundcolor": "#E5ECF6",
                        "gridcolor": "white",
                        "gridwidth": 2,
                        "linecolor": "white",
                        "showbackground": true,
                        "ticks": "",
                        "zerolinecolor": "white"
                      }
                    },
                    "shapedefaults": {
                      "line": {
                        "color": "#2a3f5f"
                      }
                    },
                    "ternary": {
                      "aaxis": {
                        "gridcolor": "white",
                        "linecolor": "white",
                        "ticks": ""
                      },
                      "baxis": {
                        "gridcolor": "white",
                        "linecolor": "white",
                        "ticks": ""
                      },
                      "bgcolor": "#E5ECF6",
                      "caxis": {
                        "gridcolor": "white",
                        "linecolor": "white",
                        "ticks": ""
                      }
                    },
                    "title": {
                      "x": 0.05
                    },
                    "xaxis": {
                      "automargin": true,
                      "gridcolor": "white",
                      "linecolor": "white",
                      "ticks": "",
                      "title": {
                        "standoff": 15
                      },
                      "zerolinecolor": "white",
                      "zerolinewidth": 2
                    },
                    "yaxis": {
                      "automargin": true,
                      "gridcolor": "white",
                      "linecolor": "white",
                      "ticks": "",
                      "title": {
                        "standoff": 15
                      },
                      "zerolinecolor": "white",
                      "zerolinewidth": 2
                    }
                  }
                },
                "title": {
                  "text": "BTC Volume vs USD"
                },
                "xaxis": {
                  "title": {
                    "font": {
                      "color": "#7f7f7f",
                      "family": "Courier New, monospace",
                      "size": 18
                    },
                    "text": "Weighted Price"
                  }
                },
                "yaxis": {
                  "title": {
                    "font": {
                      "color": "#7f7f7f",
                      "family": "Courier New, monospace",
                      "size": 18
                    },
                    "text": "Volume BTC"
                  }
                }
              },
              "config": {
                "showLink": false,
                "linkText": "Export to plot.ly",
                "plotlyServerURL": "https://plot.ly"
              }
            },
            "text/html": [
              "<div>                            <div id=\"d63f5f0c-b048-4212-9103-cac2e1c05841\" class=\"plotly-graph-div\" style=\"height:525px; width:100%;\"></div>            <script type=\"text/javascript\">                require([\"plotly\"], function(Plotly) {                    window.PLOTLYENV=window.PLOTLYENV || {};                                    if (document.getElementById(\"d63f5f0c-b048-4212-9103-cac2e1c05841\")) {                    Plotly.newPlot(                        \"d63f5f0c-b048-4212-9103-cac2e1c05841\",                        [{\"marker\":{\"color\":\"#FFBAD2\",\"line\":{\"width\":1}},\"mode\":\"markers\",\"x\":[274.8,269.3,215.9,269.2,238.9,220.3,235.8,238.8,273.8,290.0,290.4,265.5,246.8,255.0,223.6,224.2,229.0,239.0,241.8,232.6,237.4,223.1,228.6,237.0,247.5,257.0,269.1,290.4,277.7,293.0,281.6,263.3,257.1,211.4,229.5,239.6,229.9,226.3,238.9,240.1,245.4,263.8,285.1,359.3,380.2,330.2,322.1,378.0,394.3,442.0,437.6,421.8,433.3,447.7,384.4,392.8,372.2,372.6,401.1,437.8,436.2,414.9,414.3,411.1,422.2,419.3,421.4,427.7,461.7,444.2,460.4,454.9,443.7,532.3,583.6,700.1,734.0,644.7,675.2,646.7,670.4,654.0,607.0,589.2,567.0,587.5,574.2,605.8,608.0,609.8,606.5,611.6,617.3,637.4,650.5,698.7,705.4,704.6,736.2,733.3,754.3,778.5,789.8,898.4,1017.0,899.8,827.3,921.5,920.7,1024.7,995.4,1077.6,1188.8,1277.0,1238.2,1047.5,1045.1,1147.6,1206.7,1194.0,1248.2,1415.8,1664.5,1708.9,2124.4,2278.2,2705.0,2656.8,2616.8,2446.1,2572.5,2344.0,2233.4,2763.4,2883.3,3401.9,4327.9,4005.1,4390.3,4267.5,4217.9,4100.3,3932.8,4401.3,4777.5,5759.3,5903.6,6124.3,6959.2,6522.5,8244.7,9733.2,11623.9,16732.5,18972.3,13833.5,13444.9,14976.2,13697.5,10864.8,11244.8,6938.5,8903.5,11169.4,10285.1,11330.6,9137.4,8616.8,8143.5,7068.4,6781.9,8070.0,8952.8,9245.1,9431.6,8674.1,8403.3,7119.3,7504.3,6885.9,6719.8,6256.6,6619.5,6667.1,6729.9,7723.0,8177.1,6943.6,6255.3,6268.1,6897.6,7264.2,6321.0,6251.9,6584.1,6608.2,6669.6,6699.8,6555.8,6335.0,6459.7,6446.1],\"y\":[54990.0,25390.0,31580.0,105710.0,39020.0,91690.0,115470.0,62670.0,81090.0,151770.0,66340.0,81450.0,85330.0,45930.0,105150.0,44870.0,123410.0,69120.0,57170.0,53140.0,26390.0,87060.0,74150.0,63470.0,47590.0,92640.0,90580.0,146850.0,46600.0,69710.0,45890.0,48570.0,47880.0,196700.0,54510.0,57190.0,61100.0,53430.0,64280.0,61240.0,40390.0,58170.0,73210.0,223100.0,125540.0,87140.0,42730.0,129770.00000000001,96750.0,218920.0,121990.0,68350.0,53010.0,56590.0,69300.0,67660.0,74350.0,62240.0,86130.0,56010.0,68770.0,61770.0,49330.0,43160.0,43450.0,33440.0,36390.0,32580.0,81660.0,73850.0,48420.0,36600.0,35900.0,77530.0,63680.0,216730.0,112290.0,99810.0,63910.0,45940.0,42580.0,34380.0,66660.0,24880.0,33770.0,33560.0,23860.0,25290.0,27950.0,21240.0,27510.0,21950.0,25230.0,27690.0,33240.0,38050.0,30740.0,37750.0,32509.999999999996,34120.0,51170.0,28760.0,25460.0,38790.0,64950.0,62580.0,33220.0,32740.000000000004,19060.0,32020.000000000004,32910.0,31010.0,35470.0,31030.0,60460.0,61430.0,91260.0,98500.0,40010.0,46480.0,38540.0,100440.0,107230.0,80240.0,174380.0,92240.0,86690.0,217960.0,81830.0,165830.0,83420.0,123800.0,176890.0,83010.0,91120.0,88110.0,128460.00000000001,90650.0,75490.0,170400.0,88760.0,147930.0,100200.0,71200.0,110190.0,61360.0,137140.0,78620.0,159690.0,178340.0,75700.0,106900.0,93170.0,159730.0,139250.0,107480.0,78430.0,142450.0,73270.0,201730.0,137420.0,593890.0,238670.0,215200.0,235940.0,162110.0,257910.00000000003,316960.0,247180.0,199310.0,241190.0,197700.0,147540.0,156830.0,165080.0,212050.0,115520.0,152290.0,141010.0,174880.0,135700.0,210690.0,179920.0,289480.0,312120.0,272150.0,242210.0,168870.0,234090.0,3100000.0,3260000.0,3870000.0,3110000.0,3260000.0,7570000.0,9190000.0,119680.0,443330.0,101570.0,160520.0,128509.99999999999,127400.0],\"type\":\"scattergl\"}],                        {\"template\":{\"data\":{\"barpolar\":[{\"marker\":{\"line\":{\"color\":\"#E5ECF6\",\"width\":0.5},\"pattern\":{\"fillmode\":\"overlay\",\"size\":10,\"solidity\":0.2}},\"type\":\"barpolar\"}],\"bar\":[{\"error_x\":{\"color\":\"#2a3f5f\"},\"error_y\":{\"color\":\"#2a3f5f\"},\"marker\":{\"line\":{\"color\":\"#E5ECF6\",\"width\":0.5},\"pattern\":{\"fillmode\":\"overlay\",\"size\":10,\"solidity\":0.2}},\"type\":\"bar\"}],\"carpet\":[{\"aaxis\":{\"endlinecolor\":\"#2a3f5f\",\"gridcolor\":\"white\",\"linecolor\":\"white\",\"minorgridcolor\":\"white\",\"startlinecolor\":\"#2a3f5f\"},\"baxis\":{\"endlinecolor\":\"#2a3f5f\",\"gridcolor\":\"white\",\"linecolor\":\"white\",\"minorgridcolor\":\"white\",\"startlinecolor\":\"#2a3f5f\"},\"type\":\"carpet\"}],\"choropleth\":[{\"colorbar\":{\"outlinewidth\":0,\"ticks\":\"\"},\"type\":\"choropleth\"}],\"contourcarpet\":[{\"colorbar\":{\"outlinewidth\":0,\"ticks\":\"\"},\"type\":\"contourcarpet\"}],\"contour\":[{\"colorbar\":{\"outlinewidth\":0,\"ticks\":\"\"},\"colorscale\":[[0.0,\"#0d0887\"],[0.1111111111111111,\"#46039f\"],[0.2222222222222222,\"#7201a8\"],[0.3333333333333333,\"#9c179e\"],[0.4444444444444444,\"#bd3786\"],[0.5555555555555556,\"#d8576b\"],[0.6666666666666666,\"#ed7953\"],[0.7777777777777778,\"#fb9f3a\"],[0.8888888888888888,\"#fdca26\"],[1.0,\"#f0f921\"]],\"type\":\"contour\"}],\"heatmapgl\":[{\"colorbar\":{\"outlinewidth\":0,\"ticks\":\"\"},\"colorscale\":[[0.0,\"#0d0887\"],[0.1111111111111111,\"#46039f\"],[0.2222222222222222,\"#7201a8\"],[0.3333333333333333,\"#9c179e\"],[0.4444444444444444,\"#bd3786\"],[0.5555555555555556,\"#d8576b\"],[0.6666666666666666,\"#ed7953\"],[0.7777777777777778,\"#fb9f3a\"],[0.8888888888888888,\"#fdca26\"],[1.0,\"#f0f921\"]],\"type\":\"heatmapgl\"}],\"heatmap\":[{\"colorbar\":{\"outlinewidth\":0,\"ticks\":\"\"},\"colorscale\":[[0.0,\"#0d0887\"],[0.1111111111111111,\"#46039f\"],[0.2222222222222222,\"#7201a8\"],[0.3333333333333333,\"#9c179e\"],[0.4444444444444444,\"#bd3786\"],[0.5555555555555556,\"#d8576b\"],[0.6666666666666666,\"#ed7953\"],[0.7777777777777778,\"#fb9f3a\"],[0.8888888888888888,\"#fdca26\"],[1.0,\"#f0f921\"]],\"type\":\"heatmap\"}],\"histogram2dcontour\":[{\"colorbar\":{\"outlinewidth\":0,\"ticks\":\"\"},\"colorscale\":[[0.0,\"#0d0887\"],[0.1111111111111111,\"#46039f\"],[0.2222222222222222,\"#7201a8\"],[0.3333333333333333,\"#9c179e\"],[0.4444444444444444,\"#bd3786\"],[0.5555555555555556,\"#d8576b\"],[0.6666666666666666,\"#ed7953\"],[0.7777777777777778,\"#fb9f3a\"],[0.8888888888888888,\"#fdca26\"],[1.0,\"#f0f921\"]],\"type\":\"histogram2dcontour\"}],\"histogram2d\":[{\"colorbar\":{\"outlinewidth\":0,\"ticks\":\"\"},\"colorscale\":[[0.0,\"#0d0887\"],[0.1111111111111111,\"#46039f\"],[0.2222222222222222,\"#7201a8\"],[0.3333333333333333,\"#9c179e\"],[0.4444444444444444,\"#bd3786\"],[0.5555555555555556,\"#d8576b\"],[0.6666666666666666,\"#ed7953\"],[0.7777777777777778,\"#fb9f3a\"],[0.8888888888888888,\"#fdca26\"],[1.0,\"#f0f921\"]],\"type\":\"histogram2d\"}],\"histogram\":[{\"marker\":{\"pattern\":{\"fillmode\":\"overlay\",\"size\":10,\"solidity\":0.2}},\"type\":\"histogram\"}],\"mesh3d\":[{\"colorbar\":{\"outlinewidth\":0,\"ticks\":\"\"},\"type\":\"mesh3d\"}],\"parcoords\":[{\"line\":{\"colorbar\":{\"outlinewidth\":0,\"ticks\":\"\"}},\"type\":\"parcoords\"}],\"pie\":[{\"automargin\":true,\"type\":\"pie\"}],\"scatter3d\":[{\"line\":{\"colorbar\":{\"outlinewidth\":0,\"ticks\":\"\"}},\"marker\":{\"colorbar\":{\"outlinewidth\":0,\"ticks\":\"\"}},\"type\":\"scatter3d\"}],\"scattercarpet\":[{\"marker\":{\"colorbar\":{\"outlinewidth\":0,\"ticks\":\"\"}},\"type\":\"scattercarpet\"}],\"scattergeo\":[{\"marker\":{\"colorbar\":{\"outlinewidth\":0,\"ticks\":\"\"}},\"type\":\"scattergeo\"}],\"scattergl\":[{\"marker\":{\"colorbar\":{\"outlinewidth\":0,\"ticks\":\"\"}},\"type\":\"scattergl\"}],\"scattermapbox\":[{\"marker\":{\"colorbar\":{\"outlinewidth\":0,\"ticks\":\"\"}},\"type\":\"scattermapbox\"}],\"scatterpolargl\":[{\"marker\":{\"colorbar\":{\"outlinewidth\":0,\"ticks\":\"\"}},\"type\":\"scatterpolargl\"}],\"scatterpolar\":[{\"marker\":{\"colorbar\":{\"outlinewidth\":0,\"ticks\":\"\"}},\"type\":\"scatterpolar\"}],\"scatter\":[{\"fillpattern\":{\"fillmode\":\"overlay\",\"size\":10,\"solidity\":0.2},\"type\":\"scatter\"}],\"scatterternary\":[{\"marker\":{\"colorbar\":{\"outlinewidth\":0,\"ticks\":\"\"}},\"type\":\"scatterternary\"}],\"surface\":[{\"colorbar\":{\"outlinewidth\":0,\"ticks\":\"\"},\"colorscale\":[[0.0,\"#0d0887\"],[0.1111111111111111,\"#46039f\"],[0.2222222222222222,\"#7201a8\"],[0.3333333333333333,\"#9c179e\"],[0.4444444444444444,\"#bd3786\"],[0.5555555555555556,\"#d8576b\"],[0.6666666666666666,\"#ed7953\"],[0.7777777777777778,\"#fb9f3a\"],[0.8888888888888888,\"#fdca26\"],[1.0,\"#f0f921\"]],\"type\":\"surface\"}],\"table\":[{\"cells\":{\"fill\":{\"color\":\"#EBF0F8\"},\"line\":{\"color\":\"white\"}},\"header\":{\"fill\":{\"color\":\"#C8D4E3\"},\"line\":{\"color\":\"white\"}},\"type\":\"table\"}]},\"layout\":{\"annotationdefaults\":{\"arrowcolor\":\"#2a3f5f\",\"arrowhead\":0,\"arrowwidth\":1},\"autotypenumbers\":\"strict\",\"coloraxis\":{\"colorbar\":{\"outlinewidth\":0,\"ticks\":\"\"}},\"colorscale\":{\"diverging\":[[0,\"#8e0152\"],[0.1,\"#c51b7d\"],[0.2,\"#de77ae\"],[0.3,\"#f1b6da\"],[0.4,\"#fde0ef\"],[0.5,\"#f7f7f7\"],[0.6,\"#e6f5d0\"],[0.7,\"#b8e186\"],[0.8,\"#7fbc41\"],[0.9,\"#4d9221\"],[1,\"#276419\"]],\"sequential\":[[0.0,\"#0d0887\"],[0.1111111111111111,\"#46039f\"],[0.2222222222222222,\"#7201a8\"],[0.3333333333333333,\"#9c179e\"],[0.4444444444444444,\"#bd3786\"],[0.5555555555555556,\"#d8576b\"],[0.6666666666666666,\"#ed7953\"],[0.7777777777777778,\"#fb9f3a\"],[0.8888888888888888,\"#fdca26\"],[1.0,\"#f0f921\"]],\"sequentialminus\":[[0.0,\"#0d0887\"],[0.1111111111111111,\"#46039f\"],[0.2222222222222222,\"#7201a8\"],[0.3333333333333333,\"#9c179e\"],[0.4444444444444444,\"#bd3786\"],[0.5555555555555556,\"#d8576b\"],[0.6666666666666666,\"#ed7953\"],[0.7777777777777778,\"#fb9f3a\"],[0.8888888888888888,\"#fdca26\"],[1.0,\"#f0f921\"]]},\"colorway\":[\"#636efa\",\"#EF553B\",\"#00cc96\",\"#ab63fa\",\"#FFA15A\",\"#19d3f3\",\"#FF6692\",\"#B6E880\",\"#FF97FF\",\"#FECB52\"],\"font\":{\"color\":\"#2a3f5f\"},\"geo\":{\"bgcolor\":\"white\",\"lakecolor\":\"white\",\"landcolor\":\"#E5ECF6\",\"showlakes\":true,\"showland\":true,\"subunitcolor\":\"white\"},\"hoverlabel\":{\"align\":\"left\"},\"hovermode\":\"closest\",\"mapbox\":{\"style\":\"light\"},\"paper_bgcolor\":\"white\",\"plot_bgcolor\":\"#E5ECF6\",\"polar\":{\"angularaxis\":{\"gridcolor\":\"white\",\"linecolor\":\"white\",\"ticks\":\"\"},\"bgcolor\":\"#E5ECF6\",\"radialaxis\":{\"gridcolor\":\"white\",\"linecolor\":\"white\",\"ticks\":\"\"}},\"scene\":{\"xaxis\":{\"backgroundcolor\":\"#E5ECF6\",\"gridcolor\":\"white\",\"gridwidth\":2,\"linecolor\":\"white\",\"showbackground\":true,\"ticks\":\"\",\"zerolinecolor\":\"white\"},\"yaxis\":{\"backgroundcolor\":\"#E5ECF6\",\"gridcolor\":\"white\",\"gridwidth\":2,\"linecolor\":\"white\",\"showbackground\":true,\"ticks\":\"\",\"zerolinecolor\":\"white\"},\"zaxis\":{\"backgroundcolor\":\"#E5ECF6\",\"gridcolor\":\"white\",\"gridwidth\":2,\"linecolor\":\"white\",\"showbackground\":true,\"ticks\":\"\",\"zerolinecolor\":\"white\"}},\"shapedefaults\":{\"line\":{\"color\":\"#2a3f5f\"}},\"ternary\":{\"aaxis\":{\"gridcolor\":\"white\",\"linecolor\":\"white\",\"ticks\":\"\"},\"baxis\":{\"gridcolor\":\"white\",\"linecolor\":\"white\",\"ticks\":\"\"},\"bgcolor\":\"#E5ECF6\",\"caxis\":{\"gridcolor\":\"white\",\"linecolor\":\"white\",\"ticks\":\"\"}},\"title\":{\"x\":0.05},\"xaxis\":{\"automargin\":true,\"gridcolor\":\"white\",\"linecolor\":\"white\",\"ticks\":\"\",\"title\":{\"standoff\":15},\"zerolinecolor\":\"white\",\"zerolinewidth\":2},\"yaxis\":{\"automargin\":true,\"gridcolor\":\"white\",\"linecolor\":\"white\",\"ticks\":\"\",\"title\":{\"standoff\":15},\"zerolinecolor\":\"white\",\"zerolinewidth\":2}}},\"title\":{\"text\":\"BTC Volume vs USD\"},\"xaxis\":{\"title\":{\"font\":{\"color\":\"#7f7f7f\",\"family\":\"Courier New, monospace\",\"size\":18},\"text\":\"Weighted Price\"}},\"yaxis\":{\"title\":{\"font\":{\"color\":\"#7f7f7f\",\"family\":\"Courier New, monospace\",\"size\":18},\"text\":\"Volume BTC\"}}},                        {\"responsive\": true}                    ).then(function(){\n",
              "                            \n",
              "var gd = document.getElementById('d63f5f0c-b048-4212-9103-cac2e1c05841');\n",
              "var x = new MutationObserver(function (mutations, observer) {{\n",
              "        var display = window.getComputedStyle(gd).display;\n",
              "        if (!display || display === 'none') {{\n",
              "            console.log([gd, 'removed!']);\n",
              "            Plotly.purge(gd);\n",
              "            observer.disconnect();\n",
              "        }}\n",
              "}});\n",
              "\n",
              "// Listen for the removal of the full notebook cells\n",
              "var notebookContainer = gd.closest('#notebook-container');\n",
              "if (notebookContainer) {{\n",
              "    x.observe(notebookContainer, {childList: true});\n",
              "}}\n",
              "\n",
              "// Listen for the clearing of the current output cell\n",
              "var outputEl = gd.closest('.output');\n",
              "if (outputEl) {{\n",
              "    x.observe(outputEl, {childList: true});\n",
              "}}\n",
              "\n",
              "                        })                };                });            </script>        </div>"
            ]
          },
          "metadata": {}
        }
      ]
    },
    {
      "cell_type": "code",
      "source": [
        "data = pd.read_csv('raw_data.csv',parse_dates=[0], date_parser=dateparse)\n",
        "data.head()"
      ],
      "metadata": {
        "colab": {
          "base_uri": "https://localhost:8080/",
          "height": 296
        },
        "id": "8CWe7XblvxZ1",
        "outputId": "940291be-4b58-49fd-85fa-4d06e873aa23"
      },
      "execution_count": 19,
      "outputs": [
        {
          "output_type": "stream",
          "name": "stderr",
          "text": [
            "<ipython-input-19-ed35b2f9cb25>:1: FutureWarning:\n",
            "\n",
            "The argument 'date_parser' is deprecated and will be removed in a future version. Please use 'date_format' instead, or read your data in as 'object' dtype and then call 'to_datetime'.\n",
            "\n"
          ]
        },
        {
          "output_type": "execute_result",
          "data": {
            "text/plain": [
              "        Date     Price      Open      High       Low     Vol. Change %\n",
              "0 2020-08-02  11,105.8  11,802.6  12,061.1  10,730.7  698.62K   -5.91%\n",
              "1 2020-08-01  11,803.1  11,333.2  11,847.7  11,226.1  611.47K    4.14%\n",
              "2 2020-07-31  11,333.4  11,096.5  11,434.8  10,964.6  530.95K    2.14%\n",
              "3 2020-07-30  11,096.2  11,105.8  11,164.4  10,861.6  501.14K   -0.09%\n",
              "4 2020-07-29  11,105.9  10,908.4  11,336.5  10,771.8  576.83K    1.81%"
            ],
            "text/html": [
              "\n",
              "  <div id=\"df-7d72dd02-6363-4000-ac90-4b33e00e5693\" class=\"colab-df-container\">\n",
              "    <div>\n",
              "<style scoped>\n",
              "    .dataframe tbody tr th:only-of-type {\n",
              "        vertical-align: middle;\n",
              "    }\n",
              "\n",
              "    .dataframe tbody tr th {\n",
              "        vertical-align: top;\n",
              "    }\n",
              "\n",
              "    .dataframe thead th {\n",
              "        text-align: right;\n",
              "    }\n",
              "</style>\n",
              "<table border=\"1\" class=\"dataframe\">\n",
              "  <thead>\n",
              "    <tr style=\"text-align: right;\">\n",
              "      <th></th>\n",
              "      <th>Date</th>\n",
              "      <th>Price</th>\n",
              "      <th>Open</th>\n",
              "      <th>High</th>\n",
              "      <th>Low</th>\n",
              "      <th>Vol.</th>\n",
              "      <th>Change %</th>\n",
              "    </tr>\n",
              "  </thead>\n",
              "  <tbody>\n",
              "    <tr>\n",
              "      <th>0</th>\n",
              "      <td>2020-08-02</td>\n",
              "      <td>11,105.8</td>\n",
              "      <td>11,802.6</td>\n",
              "      <td>12,061.1</td>\n",
              "      <td>10,730.7</td>\n",
              "      <td>698.62K</td>\n",
              "      <td>-5.91%</td>\n",
              "    </tr>\n",
              "    <tr>\n",
              "      <th>1</th>\n",
              "      <td>2020-08-01</td>\n",
              "      <td>11,803.1</td>\n",
              "      <td>11,333.2</td>\n",
              "      <td>11,847.7</td>\n",
              "      <td>11,226.1</td>\n",
              "      <td>611.47K</td>\n",
              "      <td>4.14%</td>\n",
              "    </tr>\n",
              "    <tr>\n",
              "      <th>2</th>\n",
              "      <td>2020-07-31</td>\n",
              "      <td>11,333.4</td>\n",
              "      <td>11,096.5</td>\n",
              "      <td>11,434.8</td>\n",
              "      <td>10,964.6</td>\n",
              "      <td>530.95K</td>\n",
              "      <td>2.14%</td>\n",
              "    </tr>\n",
              "    <tr>\n",
              "      <th>3</th>\n",
              "      <td>2020-07-30</td>\n",
              "      <td>11,096.2</td>\n",
              "      <td>11,105.8</td>\n",
              "      <td>11,164.4</td>\n",
              "      <td>10,861.6</td>\n",
              "      <td>501.14K</td>\n",
              "      <td>-0.09%</td>\n",
              "    </tr>\n",
              "    <tr>\n",
              "      <th>4</th>\n",
              "      <td>2020-07-29</td>\n",
              "      <td>11,105.9</td>\n",
              "      <td>10,908.4</td>\n",
              "      <td>11,336.5</td>\n",
              "      <td>10,771.8</td>\n",
              "      <td>576.83K</td>\n",
              "      <td>1.81%</td>\n",
              "    </tr>\n",
              "  </tbody>\n",
              "</table>\n",
              "</div>\n",
              "    <div class=\"colab-df-buttons\">\n",
              "\n",
              "  <div class=\"colab-df-container\">\n",
              "    <button class=\"colab-df-convert\" onclick=\"convertToInteractive('df-7d72dd02-6363-4000-ac90-4b33e00e5693')\"\n",
              "            title=\"Convert this dataframe to an interactive table.\"\n",
              "            style=\"display:none;\">\n",
              "\n",
              "  <svg xmlns=\"http://www.w3.org/2000/svg\" height=\"24px\" viewBox=\"0 -960 960 960\">\n",
              "    <path d=\"M120-120v-720h720v720H120Zm60-500h600v-160H180v160Zm220 220h160v-160H400v160Zm0 220h160v-160H400v160ZM180-400h160v-160H180v160Zm440 0h160v-160H620v160ZM180-180h160v-160H180v160Zm440 0h160v-160H620v160Z\"/>\n",
              "  </svg>\n",
              "    </button>\n",
              "\n",
              "  <style>\n",
              "    .colab-df-container {\n",
              "      display:flex;\n",
              "      gap: 12px;\n",
              "    }\n",
              "\n",
              "    .colab-df-convert {\n",
              "      background-color: #E8F0FE;\n",
              "      border: none;\n",
              "      border-radius: 50%;\n",
              "      cursor: pointer;\n",
              "      display: none;\n",
              "      fill: #1967D2;\n",
              "      height: 32px;\n",
              "      padding: 0 0 0 0;\n",
              "      width: 32px;\n",
              "    }\n",
              "\n",
              "    .colab-df-convert:hover {\n",
              "      background-color: #E2EBFA;\n",
              "      box-shadow: 0px 1px 2px rgba(60, 64, 67, 0.3), 0px 1px 3px 1px rgba(60, 64, 67, 0.15);\n",
              "      fill: #174EA6;\n",
              "    }\n",
              "\n",
              "    .colab-df-buttons div {\n",
              "      margin-bottom: 4px;\n",
              "    }\n",
              "\n",
              "    [theme=dark] .colab-df-convert {\n",
              "      background-color: #3B4455;\n",
              "      fill: #D2E3FC;\n",
              "    }\n",
              "\n",
              "    [theme=dark] .colab-df-convert:hover {\n",
              "      background-color: #434B5C;\n",
              "      box-shadow: 0px 1px 3px 1px rgba(0, 0, 0, 0.15);\n",
              "      filter: drop-shadow(0px 1px 2px rgba(0, 0, 0, 0.3));\n",
              "      fill: #FFFFFF;\n",
              "    }\n",
              "  </style>\n",
              "\n",
              "    <script>\n",
              "      const buttonEl =\n",
              "        document.querySelector('#df-7d72dd02-6363-4000-ac90-4b33e00e5693 button.colab-df-convert');\n",
              "      buttonEl.style.display =\n",
              "        google.colab.kernel.accessAllowed ? 'block' : 'none';\n",
              "\n",
              "      async function convertToInteractive(key) {\n",
              "        const element = document.querySelector('#df-7d72dd02-6363-4000-ac90-4b33e00e5693');\n",
              "        const dataTable =\n",
              "          await google.colab.kernel.invokeFunction('convertToInteractive',\n",
              "                                                    [key], {});\n",
              "        if (!dataTable) return;\n",
              "\n",
              "        const docLinkHtml = 'Like what you see? Visit the ' +\n",
              "          '<a target=\"_blank\" href=https://colab.research.google.com/notebooks/data_table.ipynb>data table notebook</a>'\n",
              "          + ' to learn more about interactive tables.';\n",
              "        element.innerHTML = '';\n",
              "        dataTable['output_type'] = 'display_data';\n",
              "        await google.colab.output.renderOutput(dataTable, element);\n",
              "        const docLink = document.createElement('div');\n",
              "        docLink.innerHTML = docLinkHtml;\n",
              "        element.appendChild(docLink);\n",
              "      }\n",
              "    </script>\n",
              "  </div>\n",
              "\n",
              "\n",
              "<div id=\"df-86c67a9d-5dff-4cdd-a4fb-b1a53d1759d4\">\n",
              "  <button class=\"colab-df-quickchart\" onclick=\"quickchart('df-86c67a9d-5dff-4cdd-a4fb-b1a53d1759d4')\"\n",
              "            title=\"Suggest charts\"\n",
              "            style=\"display:none;\">\n",
              "\n",
              "<svg xmlns=\"http://www.w3.org/2000/svg\" height=\"24px\"viewBox=\"0 0 24 24\"\n",
              "     width=\"24px\">\n",
              "    <g>\n",
              "        <path d=\"M19 3H5c-1.1 0-2 .9-2 2v14c0 1.1.9 2 2 2h14c1.1 0 2-.9 2-2V5c0-1.1-.9-2-2-2zM9 17H7v-7h2v7zm4 0h-2V7h2v10zm4 0h-2v-4h2v4z\"/>\n",
              "    </g>\n",
              "</svg>\n",
              "  </button>\n",
              "\n",
              "<style>\n",
              "  .colab-df-quickchart {\n",
              "      --bg-color: #E8F0FE;\n",
              "      --fill-color: #1967D2;\n",
              "      --hover-bg-color: #E2EBFA;\n",
              "      --hover-fill-color: #174EA6;\n",
              "      --disabled-fill-color: #AAA;\n",
              "      --disabled-bg-color: #DDD;\n",
              "  }\n",
              "\n",
              "  [theme=dark] .colab-df-quickchart {\n",
              "      --bg-color: #3B4455;\n",
              "      --fill-color: #D2E3FC;\n",
              "      --hover-bg-color: #434B5C;\n",
              "      --hover-fill-color: #FFFFFF;\n",
              "      --disabled-bg-color: #3B4455;\n",
              "      --disabled-fill-color: #666;\n",
              "  }\n",
              "\n",
              "  .colab-df-quickchart {\n",
              "    background-color: var(--bg-color);\n",
              "    border: none;\n",
              "    border-radius: 50%;\n",
              "    cursor: pointer;\n",
              "    display: none;\n",
              "    fill: var(--fill-color);\n",
              "    height: 32px;\n",
              "    padding: 0;\n",
              "    width: 32px;\n",
              "  }\n",
              "\n",
              "  .colab-df-quickchart:hover {\n",
              "    background-color: var(--hover-bg-color);\n",
              "    box-shadow: 0 1px 2px rgba(60, 64, 67, 0.3), 0 1px 3px 1px rgba(60, 64, 67, 0.15);\n",
              "    fill: var(--button-hover-fill-color);\n",
              "  }\n",
              "\n",
              "  .colab-df-quickchart-complete:disabled,\n",
              "  .colab-df-quickchart-complete:disabled:hover {\n",
              "    background-color: var(--disabled-bg-color);\n",
              "    fill: var(--disabled-fill-color);\n",
              "    box-shadow: none;\n",
              "  }\n",
              "\n",
              "  .colab-df-spinner {\n",
              "    border: 2px solid var(--fill-color);\n",
              "    border-color: transparent;\n",
              "    border-bottom-color: var(--fill-color);\n",
              "    animation:\n",
              "      spin 1s steps(1) infinite;\n",
              "  }\n",
              "\n",
              "  @keyframes spin {\n",
              "    0% {\n",
              "      border-color: transparent;\n",
              "      border-bottom-color: var(--fill-color);\n",
              "      border-left-color: var(--fill-color);\n",
              "    }\n",
              "    20% {\n",
              "      border-color: transparent;\n",
              "      border-left-color: var(--fill-color);\n",
              "      border-top-color: var(--fill-color);\n",
              "    }\n",
              "    30% {\n",
              "      border-color: transparent;\n",
              "      border-left-color: var(--fill-color);\n",
              "      border-top-color: var(--fill-color);\n",
              "      border-right-color: var(--fill-color);\n",
              "    }\n",
              "    40% {\n",
              "      border-color: transparent;\n",
              "      border-right-color: var(--fill-color);\n",
              "      border-top-color: var(--fill-color);\n",
              "    }\n",
              "    60% {\n",
              "      border-color: transparent;\n",
              "      border-right-color: var(--fill-color);\n",
              "    }\n",
              "    80% {\n",
              "      border-color: transparent;\n",
              "      border-right-color: var(--fill-color);\n",
              "      border-bottom-color: var(--fill-color);\n",
              "    }\n",
              "    90% {\n",
              "      border-color: transparent;\n",
              "      border-bottom-color: var(--fill-color);\n",
              "    }\n",
              "  }\n",
              "</style>\n",
              "\n",
              "  <script>\n",
              "    async function quickchart(key) {\n",
              "      const quickchartButtonEl =\n",
              "        document.querySelector('#' + key + ' button');\n",
              "      quickchartButtonEl.disabled = true;  // To prevent multiple clicks.\n",
              "      quickchartButtonEl.classList.add('colab-df-spinner');\n",
              "      try {\n",
              "        const charts = await google.colab.kernel.invokeFunction(\n",
              "            'suggestCharts', [key], {});\n",
              "      } catch (error) {\n",
              "        console.error('Error during call to suggestCharts:', error);\n",
              "      }\n",
              "      quickchartButtonEl.classList.remove('colab-df-spinner');\n",
              "      quickchartButtonEl.classList.add('colab-df-quickchart-complete');\n",
              "    }\n",
              "    (() => {\n",
              "      let quickchartButtonEl =\n",
              "        document.querySelector('#df-86c67a9d-5dff-4cdd-a4fb-b1a53d1759d4 button');\n",
              "      quickchartButtonEl.style.display =\n",
              "        google.colab.kernel.accessAllowed ? 'block' : 'none';\n",
              "    })();\n",
              "  </script>\n",
              "</div>\n",
              "\n",
              "    </div>\n",
              "  </div>\n"
            ],
            "application/vnd.google.colaboratory.intrinsic+json": {
              "type": "dataframe",
              "variable_name": "data",
              "summary": "{\n  \"name\": \"data\",\n  \"rows\": 3669,\n  \"fields\": [\n    {\n      \"column\": \"Date\",\n      \"properties\": {\n        \"dtype\": \"date\",\n        \"min\": \"2010-07-18 00:00:00\",\n        \"max\": \"2020-08-02 00:00:00\",\n        \"num_unique_values\": 3669,\n        \"samples\": [\n          \"2020-02-05 00:00:00\",\n          \"2013-04-02 00:00:00\",\n          \"2012-01-04 00:00:00\"\n        ],\n        \"semantic_type\": \"\",\n        \"description\": \"\"\n      }\n    },\n    {\n      \"column\": \"Price\",\n      \"properties\": {\n        \"dtype\": \"string\",\n        \"num_unique_values\": 2718,\n        \"samples\": [\n          \"567.7\",\n          \"7,994.6\",\n          \"595.6\"\n        ],\n        \"semantic_type\": \"\",\n        \"description\": \"\"\n      }\n    },\n    {\n      \"column\": \"Open\",\n      \"properties\": {\n        \"dtype\": \"string\",\n        \"num_unique_values\": 2712,\n        \"samples\": [\n          \"3,865.6\",\n          \"445.3\",\n          \"238.8\"\n        ],\n        \"semantic_type\": \"\",\n        \"description\": \"\"\n      }\n    },\n    {\n      \"column\": \"High\",\n      \"properties\": {\n        \"dtype\": \"string\",\n        \"num_unique_values\": 2708,\n        \"samples\": [\n          \"3,930.7\",\n          \"7,924.0\",\n          \"235.7\"\n        ],\n        \"semantic_type\": \"\",\n        \"description\": \"\"\n      }\n    },\n    {\n      \"column\": \"Low\",\n      \"properties\": {\n        \"dtype\": \"string\",\n        \"num_unique_values\": 2712,\n        \"samples\": [\n          \"3,847.4\",\n          \"459.2\",\n          \"256.1\"\n        ],\n        \"semantic_type\": \"\",\n        \"description\": \"\"\n      }\n    },\n    {\n      \"column\": \"Vol.\",\n      \"properties\": {\n        \"dtype\": \"string\",\n        \"num_unique_values\": 3275,\n        \"samples\": [\n          \"8.90K\",\n          \"54.67K\",\n          \"22.80K\"\n        ],\n        \"semantic_type\": \"\",\n        \"description\": \"\"\n      }\n    },\n    {\n      \"column\": \"Change %\",\n      \"properties\": {\n        \"dtype\": \"category\",\n        \"num_unique_values\": 1391,\n        \"samples\": [\n          \"-3.60%\",\n          \"4.54%\",\n          \"-12.71%\"\n        ],\n        \"semantic_type\": \"\",\n        \"description\": \"\"\n      }\n    }\n  ]\n}"
            }
          },
          "metadata": {},
          "execution_count": 19
        }
      ]
    },
    {
      "cell_type": "code",
      "source": [
        "data = pd.read_csv('raw_data.csv',parse_dates=[0], date_parser=dateparse)\n",
        "data['Date'] = data['Date'].dt.tz_localize(None)\n",
        "data = data.groupby([pd.Grouper(key='Date', freq='H')]).first().reset_index()\n",
        "data = data.set_index('Date')\n",
        "data = data[['Price']]\n",
        "data['Price'].fillna(method='ffill', inplace=True)\n",
        "data['Price'] = data['Price'].replace({',': ''}, regex=True).astype(float)"
      ],
      "metadata": {
        "colab": {
          "base_uri": "https://localhost:8080/"
        },
        "id": "kFB7f9sov4us",
        "outputId": "6946429e-8e23-4847-8aa8-85857244c885"
      },
      "execution_count": 20,
      "outputs": [
        {
          "output_type": "stream",
          "name": "stderr",
          "text": [
            "<ipython-input-20-eeba8dd68fdd>:1: FutureWarning:\n",
            "\n",
            "The argument 'date_parser' is deprecated and will be removed in a future version. Please use 'date_format' instead, or read your data in as 'object' dtype and then call 'to_datetime'.\n",
            "\n",
            "<ipython-input-20-eeba8dd68fdd>:3: FutureWarning:\n",
            "\n",
            "'H' is deprecated and will be removed in a future version, please use 'h' instead.\n",
            "\n",
            "<ipython-input-20-eeba8dd68fdd>:6: FutureWarning:\n",
            "\n",
            "A value is trying to be set on a copy of a DataFrame or Series through chained assignment using an inplace method.\n",
            "The behavior will change in pandas 3.0. This inplace method will never work because the intermediate object on which we are setting values always behaves as a copy.\n",
            "\n",
            "For example, when doing 'df[col].method(value, inplace=True)', try using 'df.method({col: value}, inplace=True)' or df[col] = df[col].method(value) instead, to perform the operation inplace on the original object.\n",
            "\n",
            "\n",
            "\n",
            "<ipython-input-20-eeba8dd68fdd>:6: FutureWarning:\n",
            "\n",
            "Series.fillna with 'method' is deprecated and will raise in a future version. Use obj.ffill() or obj.bfill() instead.\n",
            "\n"
          ]
        }
      ]
    },
    {
      "cell_type": "code",
      "source": [
        "split_date = '25-Jun-2018'\n",
        "data_train = data.loc[data.index <= split_date].copy()\n",
        "data_test = data.loc[data.index > split_date].copy()"
      ],
      "metadata": {
        "id": "geTO7h5lv8ag"
      },
      "execution_count": 21,
      "outputs": []
    },
    {
      "cell_type": "code",
      "source": [
        "training_set = data_train.values\n",
        "training_set = np.reshape(training_set, (len(training_set), 1))\n",
        "from sklearn.preprocessing import MinMaxScaler\n",
        "sc = MinMaxScaler()\n",
        "training_set = sc.fit_transform(training_set)\n",
        "X_train = training_set[0:len(training_set)-1]\n",
        "y_train = training_set[1:len(training_set)]\n",
        "X_train = np.reshape(X_train, (len(X_train), 1, 1))"
      ],
      "metadata": {
        "id": "u16Krm8ev-y7"
      },
      "execution_count": 22,
      "outputs": []
    },
    {
      "cell_type": "code",
      "source": [
        "color_pal = [\"#F8766D\", \"#D39200\", \"#93AA00\", \"#00BA38\", \"#00C19F\", \"#00B9E3\", \"#619CFF\", \"#DB72FB\"]\n",
        "_ = data.plot(style='', figsize=(15,5), color=color_pal[0], title='BTC Weighted_Price Price (USD) by Hours')"
      ],
      "metadata": {
        "colab": {
          "base_uri": "https://localhost:8080/",
          "height": 433
        },
        "id": "RwBYzIyhwBQW",
        "outputId": "66f0a491-3776-42b8-eeac-0fc2a0a29ebe"
      },
      "execution_count": 23,
      "outputs": [
        {
          "output_type": "display_data",
          "data": {
            "text/plain": [
              "<Figure size 1500x500 with 1 Axes>"
            ],
            "image/png": "[encoded data removed]"
          },
          "metadata": {}
        }
      ]
    },
    {
      "cell_type": "code",
      "source": [
        "_ = data_test \\\n",
        "    .rename(columns={'Weighted_Price': 'Test Set'}) \\\n",
        "    .join(\n",
        "        data_train.rename(columns={'Weighted_Price': 'Training Set'}),\n",
        "        how='outer',\n",
        "        lsuffix='_test',  # Thêm hậu tố cho cột trùng tên từ data_test\n",
        "        rsuffix='_train'  # Thêm hậu tố cho cột trùng tên từ data_train\n",
        "    ) \\\n",
        "    .plot(figsize=(15,5), title='BTC Weighted_Price Price (USD) by Hours', style='')"
      ],
      "metadata": {
        "colab": {
          "base_uri": "https://localhost:8080/",
          "height": 433
        },
        "id": "afIvvH2AwDw_",
        "outputId": "b6a53856-0a0b-4d70-d973-4a978dadc701"
      },
      "execution_count": 24,
      "outputs": [
        {
          "output_type": "display_data",
          "data": {
            "text/plain": [
              "<Figure size 1500x500 with 1 Axes>"
            ],
            "image/png": "[encoded data removed]"
          },
          "metadata": {}
        }
      ]
    },
    {
      "cell_type": "code",
      "source": [
        "import numpy as np\n",
        "import pandas as pd\n",
        "import matplotlib.pyplot as plt\n",
        "import seaborn as sns\n",
        "from sklearn.preprocessing import MinMaxScaler\n",
        "from sklearn.metrics import mean_absolute_error, mean_squared_error\n",
        "\n",
        "from tensorflow.keras.models import Sequential\n",
        "from tensorflow.keras.layers import LSTM, Dense, Dropout\n",
        "from tensorflow.keras.optimizers import Adam"
      ],
      "metadata": {
        "id": "CXsZASU5wGHh"
      },
      "execution_count": 25,
      "outputs": []
    },
    {
      "cell_type": "code",
      "source": [
        "df = pd.read_csv(\"raw_data.csv\")\n",
        "df['Date'] = pd.to_datetime(df['Date'])\n",
        "df = df.sort_values('Date')\n",
        "\n",
        "df['Price'] = df['Price'].str.replace(',', '').astype(float)\n",
        "df['Open'] = df['Open'].str.replace(',', '').astype(float)\n",
        "df['High'] = df['High'].str.replace(',', '').astype(float)\n",
        "df['Low'] = df['Low'].str.replace(',', '').astype(float)\n",
        "def convert_volume(value):\n",
        "    if isinstance(value, str):\n",
        "        if value == '-':\n",
        "            return np.nan\n",
        "        if 'K' in value:\n",
        "            return float(value.replace('K', '')) * 1e3\n",
        "        elif 'M' in value:\n",
        "            return float(value.replace('M', '')) * 1e6\n",
        "        elif 'B' in value:\n",
        "            return float(value.replace('B', '')) * 1e9\n",
        "    return float(value)\n",
        "\n",
        "df['Vol.'] = df['Vol.'].apply(convert_volume)\n",
        "\n",
        "df['Change %'] = df['Change %'].str.replace('%', '').astype(float)\n",
        "\n",
        "\n",
        "data = df[['Date', 'Price']]\n",
        "\n",
        "scaler = MinMaxScaler(feature_range=(0, 1))\n",
        "data_scaled = scaler.fit_transform(data[['Price']])"
      ],
      "metadata": {
        "id": "OUIG6u2YwHBz"
      },
      "execution_count": 27,
      "outputs": []
    },
    {
      "cell_type": "code",
      "source": [
        "def create_sequences(data, sequence_length=30):\n",
        "    X, y = [], []\n",
        "    for i in range(len(data) - sequence_length):\n",
        "        X.append(data[i:i+sequence_length])\n",
        "        y.append(data[i+sequence_length])\n",
        "    return np.array(X), np.array(y)\n",
        "\n",
        "sequence_length = 30\n",
        "X, y = create_sequences(data_scaled, sequence_length)\n",
        "\n",
        "split = int(0.8 * len(X))\n",
        "X_train, y_train = X[:split], y[:split]\n",
        "X_test, y_test = X[split:], y[split:]\n",
        "\n",
        "X_train = X_train.reshape((X_train.shape[0], X_train.shape[1], 1))\n",
        "X_test = X_test.reshape((X_test.shape[0], X_test.shape[1], 1))"
      ],
      "metadata": {
        "id": "w7YvU4SjwLEd"
      },
      "execution_count": 28,
      "outputs": []
    },
    {
      "cell_type": "code",
      "source": [
        "# Khởi tạo mô hình LSTM\n",
        "model = Sequential()\n",
        "model.add(LSTM(128, return_sequences=True, input_shape=(sequence_length, 1)))  # LSTM 1 với return_sequences=True\n",
        "model.add(Dropout(0.2))  # Dropout để tránh overfitting\n",
        "model.add(LSTM(64, return_sequences=False))  # LSTM 2 không cần return_sequences\n",
        "model.add(Dropout(0.2))\n",
        "model.add(Dense(25))  # Lớp ẩn Dense\n",
        "model.add(Dense(1))  # Lớp output (1 giá trị dự báo)\n",
        "\n",
        "# Compile mô hình\n",
        "model.compile(optimizer=Adam(learning_rate=0.001), loss='mean_squared_error')\n",
        "\n",
        "# Huấn luyện mô hình\n",
        "history = model.fit(X_train, y_train, epochs=50, batch_size=32, validation_data=(X_test, y_test), verbose=2)"
      ],
      "metadata": {
        "colab": {
          "base_uri": "https://localhost:8080/"
        },
        "id": "5Su7L80PwOgh",
        "outputId": "abd80336-b80b-44c6-ab39-ebce5d58c8a1"
      },
      "execution_count": null,
      "outputs": [
        {
          "output_type": "stream",
          "name": "stderr",
          "text": [
            "/usr/local/lib/python3.11/dist-packages/keras/src/layers/rnn/rnn.py:200: UserWarning:\n",
            "\n",
            "Do not pass an `input_shape`/`input_dim` argument to a layer. When using Sequential models, prefer using an `Input(shape)` object as the first layer in the model instead.\n",
            "\n"
          ]
        },
        {
          "output_type": "stream",
          "name": "stdout",
          "text": [
            "Epoch 1/50\n",
            "91/91 - 16s - 181ms/step - loss: 0.0014 - val_loss: 9.9768e-04\n",
            "Epoch 2/50\n",
            "91/91 - 7s - 76ms/step - loss: 8.8695e-04 - val_loss: 0.0012\n",
            "Epoch 3/50\n",
            "91/91 - 5s - 56ms/step - loss: 7.7456e-04 - val_loss: 7.8678e-04\n",
            "Epoch 4/50\n",
            "91/91 - 6s - 69ms/step - loss: 5.4921e-04 - val_loss: 0.0011\n",
            "Epoch 5/50\n",
            "91/91 - 5s - 56ms/step - loss: 6.0808e-04 - val_loss: 7.1281e-04\n",
            "Epoch 6/50\n",
            "91/91 - 10s - 112ms/step - loss: 5.3224e-04 - val_loss: 6.6574e-04\n",
            "Epoch 7/50\n",
            "91/91 - 6s - 70ms/step - loss: 4.9420e-04 - val_loss: 0.0039\n",
            "Epoch 8/50\n",
            "91/91 - 9s - 96ms/step - loss: 5.5542e-04 - val_loss: 5.4883e-04\n",
            "Epoch 9/50\n",
            "91/91 - 7s - 74ms/step - loss: 3.7724e-04 - val_loss: 6.1120e-04\n",
            "Epoch 10/50\n"
          ]
        }
      ]
    },
    {
      "cell_type": "code",
      "source": [
        "# Dự đoán trên tập test\n",
        "predictions = model.predict(X_test)\n",
        "predictions = scaler.inverse_transform(predictions)  # Chuyển về giá trị thực tế\n",
        "\n",
        "# Chuyển y_test về dạng thực tế để so sánh\n",
        "y_test_actual = scaler.inverse_transform(y_test.reshape(-1, 1))\n",
        "\n",
        "# Tính toán lỗi\n",
        "mae = mean_absolute_error(y_test_actual, predictions)\n",
        "rmse = np.sqrt(mean_squared_error(y_test_actual, predictions))\n",
        "\n",
        "print(f\"MAE: {mae:.2f}, RMSE: {rmse:.2f}\")\n",
        "\n",
        "# Vẽ biểu đồ so sánh dự đoán và thực tế\n",
        "plt.figure(figsize=(14,6))\n",
        "plt.plot(df['Date'].iloc[-len(y_test):], y_test_actual, label=\"Thực tế\", color='blue')\n",
        "plt.plot(df['Date'].iloc[-len(y_test):], predictions, label=\"Dự đoán\", color='red', linestyle='dashed')\n",
        "plt.xlabel(\"Date\")\n",
        "plt.ylabel(\"Giá Bitcoin\")\n",
        "plt.title(\"Dự đoán giá Bitcoin bằng LSTM\")\n",
        "plt.legend()\n",
        "plt.show()"
      ],
      "metadata": {
        "id": "Ju-Lf8f2wQ20"
      },
      "execution_count": null,
      "outputs": []
    },
    {
      "cell_type": "code",
      "source": [
        "last_30_days = data_scaled[-sequence_length:]  # Lấy 30 ngày gần nhất\n",
        "last_30_days = last_30_days.reshape((1, sequence_length, 1))  # Reshape đúng input LSTM\n",
        "\n",
        "# Dự đoán\n",
        "next_day_price_scaled = model.predict(last_30_days)\n",
        "next_day_price = scaler.inverse_transform(next_day_price_scaled)  # Chuyển về giá thực tế\n",
        "\n",
        "print(f\"Giá Bitcoin dự đoán ngày tiếp theo: {next_day_price[0][0]:.2f} USD\")"
      ],
      "metadata": {
        "id": "TF34FfJEwTQM"
      },
      "execution_count": null,
      "outputs": []
    }
  ]
}